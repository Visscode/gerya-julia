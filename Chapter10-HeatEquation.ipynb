{
 "cells": [
  {
   "cell_type": "markdown",
   "id": "adc25a46",
   "metadata": {},
   "source": [
    "# Problem 10.4 - Heat Equation with Markers"
   ]
  },
  {
   "cell_type": "code",
   "execution_count": 1,
   "id": "2f27abba",
   "metadata": {},
   "outputs": [
    {
     "data": {
      "text/plain": [
       "compute_timestep (generic function with 1 method)"
      ]
     },
     "execution_count": 1,
     "metadata": {},
     "output_type": "execute_result"
    }
   ],
   "source": [
    "# Import necessary packages\n",
    "using SparseArrays\n",
    "using StaticArrays\n",
    "using LinearAlgebra\n",
    "using IterativeSolvers\n",
    "using WriteVTK\n",
    "using Printf\n",
    "\n",
    "include(\"Grid.jl\")\n",
    "include(\"Markers.jl\")\n",
    "include(\"Stokes.jl\")"
   ]
  },
  {
   "cell_type": "markdown",
   "id": "35dbc370",
   "metadata": {},
   "source": [
    "In this example, we prescribe the velocity field with a constant vx=vy=$10^{-9}$ m/s. When markers exit the domain, they should re-enter the other side.\n",
    "\n",
    "Energy Equation:\n",
    "$$\n",
    "\\rho C_p \\frac{\\partial T}{\\partial t} = \\nabla\\cdot(k \\nabla T) + H\n",
    "$$\n",
    "\n",
    "Implicit form:\n",
    "$$\n",
    "\\rho C_p \\frac{T^{n+1}-T^n}{\\Delta t} = \\nabla\\cdot(k \\nabla T^{n+1}) + H\n",
    "$$\n",
    "\n",
    "$$\n",
    "\\rho C_p \\frac{T^{n+1}}{\\Delta t} - \\nabla\\cdot(k \\nabla T^{n+1}) =  H + \\rho C_p \\frac{T^n}{\\Delta t} \n",
    "$$"
   ]
  },
  {
   "cell_type": "code",
   "execution_count": 2,
   "id": "2f989658",
   "metadata": {},
   "outputs": [
    {
     "data": {
      "text/plain": [
       "assemble_energy_equation (generic function with 1 method)"
      ]
     },
     "execution_count": 2,
     "metadata": {},
     "output_type": "execute_result"
    }
   ],
   "source": [
    "function move_markers_constant_velocity!(markers::Markers,grid::CartesianGrid,vx,vy,dt)\n",
    "    for i in 1:markers.nmark\n",
    "        markers.x[1,i] += dt*vx\n",
    "        markers.x[2,i] += dt*vy\n",
    "    end\n",
    "    replace_markers!(markers,grid)\n",
    "    find_cells!(markers,grid)\n",
    "end\n",
    "\n",
    "function replace_markers!(markers::Markers,grid::CartesianGrid)\n",
    "     for i in 1:markers.nmark\n",
    "        if markers.x[1,i] > grid.W\n",
    "            markers.x[1,i] -= grid.W\n",
    "        elseif markers.x[1,i] < 0.0\n",
    "            markers.x[1,i] += grid.W\n",
    "        end\n",
    "        if markers.x[2,i] > grid.H\n",
    "            markers.x[2,i] -= grid.H\n",
    "        elseif markers.x[2,i] < 0.0\n",
    "            markers.x[2,i] += grid.H\n",
    "        end\n",
    "    end\n",
    "end\n",
    "\n",
    "function subgrid_temperature_relaxation!(markers::Markers,grid::CartesianGrid,Tlast::Matrix,Cp,kThermal,dt::Float64)\n",
    "        dsubgrid = 1.0; # subgrid temperature diffusivity\n",
    "        dT_subgrid_m = Array{Float64,1}(undef,markers.nmark)\n",
    "        # compuate the nodal temperature on the markers.\n",
    "        basic_node_to_markers!(markers,grid,Tlast,dT_subgrid_m)\n",
    "        # compute the subgrid temperature changes on the markers\n",
    "        rho = markers.scalarFields[\"rho\"]\n",
    "        T = markers.scalarFields[\"T\"]\n",
    "        Threads.@threads for i in 1:markers.nmark\n",
    "            dx2 = (grid.x[markers.cell[1,i]+1] - grid.x[markers.cell[1,i]])^2\n",
    "            dy2 = (grid.y[markers.cell[2,i]+1] - grid.y[markers.cell[2,i]])^2\n",
    "            tdiff = markers.scalars[rho,i]*Cp/kThermal / (2/dx2 + 2/dy2)\n",
    "            dT_subgrid_m[i] = (dT_subgrid_m[i]-markers.scalars[T,i])*( 1.0 - exp(-dsubgrid*dt/tdiff) )\n",
    "        end\n",
    "        # interpolate subgrid temperature changes back onto basic nodes.\n",
    "        markers.scalars[T,1:markers.nmark] += dT_subgrid_m\n",
    "        dT_subgrid_m = reshape(dT_subgrid_m,(1,markers.nmark))\n",
    "        dT_subgrid_node, = marker_to_stag(markers,grid,dT_subgrid_m,\"basic\")\n",
    "        return dT_subgrid_node\n",
    "end\n",
    "\n",
    "# Define a function to form the energy equation left hand side and right hand side\n",
    "function assemble_energy_equation(grid::CartesianGrid,rho,Cp,kThermal,H,Tlast,dt)\n",
    "    N = grid.nx*grid.ny\n",
    "    row = zeros(Int64,5*N);\n",
    "    col = zeros(Int64,5*N);\n",
    "    val = zeros(Float64, 5*N);\n",
    "    R = zeros(Float64,N,1);\n",
    "    k = 1;\n",
    "    \n",
    "    for j in 1:grid.nx\n",
    "        dxc = grid.x[2] - grid.x[1] # uniform spacing for now...\n",
    "        dxp = dxc;\n",
    "        dxm = dxc;\n",
    "        for i in 1:grid.ny\n",
    "            dyc = grid.y[2] - grid.y[1] # uniform spacing for now...\n",
    "            dyp = dyc;\n",
    "            dym = dyc;\n",
    "            this_row = node_index(i,j,grid.ny);\n",
    "            # kA, kB, kC, kD\n",
    "            kA = j==1 ? kThermal[i,j] : 0.5*(kThermal[i,j-1] + kThermal[i,j])\n",
    "            kB = j==grid.nx ? kThermal[i,j] : 0.5*(kThermal[i,j] + kThermal[i,j+1])\n",
    "            kC = i==1 ? kThermal[i,j] : 0.5*(kThermal[i-1,j] + kThermal[i,j])\n",
    "            kD = i==grid.ny ? kThermal[i,j] : 0.5*(kThermal[i,j] + kThermal[i+1,j])\n",
    "            # diagonal entry\n",
    "            row[k] = this_row\n",
    "            col[k] = this_row\n",
    "            val[k] = (rho[i,j]*Cp[i,j])/dt + kB/dxp/dxc + kA/dxm/dxc + kD/dyp/dyc + kC/dyp/dyc;\n",
    "            k+=1\n",
    "            # right\n",
    "            row[k] = this_row\n",
    "            col[k] = j==grid.nx ? node_index(i,1,grid.ny) : node_index(i,j+1,grid.ny);\n",
    "            val[k] = -kB/dxp/dxc;\n",
    "            k+=1\n",
    "            # left\n",
    "            row[k] = this_row\n",
    "            col[k] = j==1 ? node_index(i,grid.nx,grid.ny) : node_index(i,j-1,grid.ny);\n",
    "            val[k] = -kA/dxm/dxc;\n",
    "            k+=1\n",
    "            # down (+y)\n",
    "            row[k] = this_row\n",
    "            col[k] = i==grid.ny ? node_index(1,grid.nx,grid.ny) : node_index(i+1,j,grid.ny);\n",
    "            val[k] = -kD/dyp/dyc;\n",
    "            k+=1\n",
    "            # up (-y)\n",
    "            row[k] = this_row\n",
    "            col[k] = i==1 ? node_index(grid.ny,j,grid.ny) : node_index(i-1,j,grid.ny);\n",
    "            val[k] = -kC/dyp/dyc;\n",
    "            k+=1\n",
    "            R[this_row] = Tlast[i,j]*rho[i,j]*Cp[i,j]/dt            \n",
    "        end\n",
    "    end\n",
    "    row = @views row[1:k-1]\n",
    "    col = @views col[1:k-1]\n",
    "    val = @views val[1:k-1]\n",
    "    L = sparse(row,col,val)\n",
    "    return L,R\n",
    "end"
   ]
  },
  {
   "cell_type": "code",
   "execution_count": 3,
   "id": "1fd354a6",
   "metadata": {},
   "outputs": [
    {
     "data": {
      "text/plain": [
       "visualization (generic function with 2 methods)"
      ]
     },
     "execution_count": 3,
     "metadata": {},
     "output_type": "execute_result"
    }
   ],
   "source": [
    "# Initial conditions for this problem - assign marker density and transport properties.\n",
    "function initial_conditions!(grid::CartesianGrid,markers::Markers)\n",
    "    T = markers.scalarFields[\"T\"]\n",
    "    rho = markers.scalarFields[\"rho\"]\n",
    "    for i in 1:markers.nmark\n",
    "        if markers.x[1,i] > 4e5 && markers.x[1,i] < 6e5 && markers.x[2,i] > 6e5 && markers.x[2,i] < 9e5\n",
    "            markers.scalars[T,i] = 1300.\n",
    "            markers.scalars[rho,i] = 3200.\n",
    "        else\n",
    "            markers.scalars[T,i] = 1000.\n",
    "            markers.scalars[rho,i] = 3200.\n",
    "        end\n",
    "    end\n",
    "end\n",
    "\n",
    "function visualization(grid::CartesianGrid,rho::Matrix,eta::Matrix,vn::Array{Float64},pressure::Matrix,temperature::Matrix,time ; filename=\"test.vts\")\n",
    "    # write the visualization output from the regular grid as a .vts file.\n",
    "    vtk_grid(filename, grid.x, grid.y) do vtk\n",
    "        vtk[\"rho\"] = transpose(rho)\n",
    "        vtk[\"viscosity\"] = transpose(eta)\n",
    "        # add a fake third dimension to the velocity vectors\n",
    "        v3 = Array{Float64,3}(undef,3,grid.nx,grid.ny)\n",
    "        v3[1:2,:,:] = vn\n",
    "        v3[3,:,:] .= 0.0\n",
    "        vtk[\"Velocity\"] = v3\n",
    "        vtk[\"Temperature\"] = transpose(temperature)\n",
    "        vtk[\"pressure\"] = transpose(pressure[2:end,2:end])\n",
    "        vtk[\"TIME\"] = time\n",
    "    end\n",
    "end\n",
    "\n",
    "function visualization(markers::Markers,time; filename=\"markers.vtp\")  \n",
    "    p3 = Array{Float64,2}(undef,3,markers.nmark)\n",
    "    p3[1:2,:] = markers.x[1:2,1:markers.nmark]\n",
    "    p3[3,:] .= 0.0\n",
    "      \n",
    "    polys = [MeshCell(PolyData.Polys(),i:i) for i in 1:markers.nmark]\n",
    "    vtk_grid(filename,p3,polys) do vtk    \n",
    "        for key in keys(markers.scalarFields)\n",
    "            vtk[key] = markers.scalars[markers.scalarFields[key],1:markers.nmark]\n",
    "        end\n",
    "       vtk[\"TIME\"] = time\n",
    "    end\n",
    "end"
   ]
  },
  {
   "cell_type": "code",
   "execution_count": 4,
   "id": "7b44dfe0",
   "metadata": {},
   "outputs": [
    {
     "name": "stdout",
     "output_type": "stream",
     "text": [
      "Creating Markers...\n",
      "  0.044516 seconds (144.78 k allocations: 13.337 MiB, 15.44% gc time, 98.25% compilation time)\n",
      "Initial condition...\n",
      "  0.000403 seconds\n"
     ]
    }
   ],
   "source": [
    "nx = 51\n",
    "ny = 76\n",
    "W = 1e6\n",
    "H = 1.5e6\n",
    "\n",
    "vx = 1e-9\n",
    "vy = 1e-9\n",
    "\n",
    "plot_interval = W/vx/20.\n",
    "\n",
    "markx = 5\n",
    "marky = 5\n",
    "seconds_in_year = 3.15e7\n",
    "plot_interval = 1e5*seconds_in_year # plot interval in seconds\n",
    "end_time = W/vx # end time in seconds\n",
    "dtmax = plot_interval\n",
    "grid = CartesianGrid(W,H,nx,ny)\n",
    "println(\"Creating Markers...\")\n",
    "@time markers = Markers(grid,[\"T\",\"rho\",\"eta\"],[] ; nmx=markx,nmy=marky,random=false)\n",
    "println(\"Initial condition...\")\n",
    "@time initial_conditions!(grid,markers)\n",
    "\n",
    "# define arrays for k, rho, cp, H at the basic nodes. Fill them with constant values for now.\n",
    "rho = zeros(grid.ny,grid.nx);\n",
    "kThermal = zeros(grid.ny,grid.nx);\n",
    "Cp = zeros(grid.ny,grid.nx);\n",
    "H = zeros(grid.ny,grid.nx);\n",
    "fill!(rho,3200.);\n",
    "fill!(kThermal,3.0);\n",
    "fill!(Cp,1000.);\n",
    "\n",
    "time = 0.\n",
    "last_plot=0.\n",
    "iout=0\n",
    "\n",
    "while time <= end_time\n",
    "    # get temperature from last timestep\n",
    "    Told,rho = marker_to_stag(markers,grid,[\"T\",\"rho\"],\"basic\")\n",
    "\n",
    "    # determine timestep\n",
    "    dt = 0.5*min((grid.x[2]-grid.x[1])/vx,(grid.y[2]-grid.y[1])/vy)\n",
    "    \n",
    "    L,R = assemble_energy_equation(grid,rho,Cp,kThermal,H,Told,dt)\n",
    "    Tnew = L\\R;\n",
    "    Tnew = reshape(Tnew,grid.ny,grid.nx);\n",
    "    # compute the temperature change\n",
    "    dTemp = Tnew-Told\n",
    "    # calculate subgrid temperature change.\n",
    "    dT_subgrid_node = subgrid_temperature_relaxation!(markers,grid,Told,Cp[1,1],kThermal[1,1],dt)\n",
    "    dT_remaining = dTemp - dT_subgrid_node\n",
    "    \n",
    "    basic_node_change_to_markers!(markers,grid,dT_remaining,\"T\")\n",
    "    move_markers_constant_velocity!(markers,grid,vx,vy,dt)\n",
    "    time += dt\n",
    "    \n",
    "    if time == 0.0 || time - last_plot >= plot_interval\n",
    "        last_plot = time \n",
    "        name = @sprintf(\"output_chapter10/viz.%04d.vtr\",iout)\n",
    "        vn = zeros(2,grid.nx,grid.ny)\n",
    "        vn[1,:,:] .= vx\n",
    "        vn[2,:,:] .= vy\n",
    "        eta_s = zeros(grid.ny,grid.nx)\n",
    "        P = eta_s\n",
    "        visualization(grid,rho,eta_s,vn,P,Tnew,time/seconds_in_year;filename=name)\n",
    "        name = @sprintf(\"output_chapter10/markers.%04d.vtp\",iout)\n",
    "        visualization(markers,time/seconds_in_year;filename=name)\n",
    "        iout += 1\n",
    "    end\n",
    "end\n"
   ]
  },
  {
   "cell_type": "code",
   "execution_count": 5,
   "id": "5692ef95",
   "metadata": {},
   "outputs": [
    {
     "name": "stdout",
     "output_type": "stream",
     "text": [
      "  0.001320 seconds (33 allocations: 1.925 MiB)\n",
      "  0.016438 seconds (655.28 k allocations: 12.265 MiB)\n"
     ]
    },
    {
     "data": {
      "text/plain": [
       "76×51 Matrix{Float64}:\n",
       " 3.76827e-25  8.958e-25    4.05264e-24  …  4.47728e-24   1.51553e-24\n",
       " 5.97469e-25  1.27728e-24  5.18701e-24     5.70508e-24   2.10057e-24\n",
       " 2.55968e-24  3.83342e-24  1.09717e-23     1.19258e-23   5.37419e-24\n",
       " 1.38912e-23  1.61571e-23  2.87398e-23     3.0379e-23    1.88782e-23\n",
       " 7.53696e-23  7.90124e-23  9.92029e-23     1.01753e-22   8.33941e-23\n",
       " 3.83249e-22  3.88572e-22  4.17999e-22  …  4.21722e-22   3.95002e-22\n",
       " 1.81184e-21  1.81897e-21  1.85824e-21     1.86328e-21   1.8276e-21\n",
       " 8.01428e-21  8.02309e-21  8.07158e-21     8.07788e-21   8.03379e-21\n",
       " 3.3349e-20   3.33592e-20  3.34153e-20     3.34226e-20   3.33716e-20\n",
       " 1.306e-19    1.30611e-19  1.30672e-19     1.3068e-19    1.30624e-19\n",
       " 4.79075e-19  4.79087e-19  4.79152e-19  …  4.7916e-19    4.79101e-19\n",
       " 1.63167e-18  1.63168e-18  1.63175e-18     1.63176e-18   1.6317e-18\n",
       " 5.09417e-18  5.09418e-18  5.09425e-18     5.09426e-18   5.0942e-18\n",
       " ⋮                                      ⋱                ⋮\n",
       " 3.89316e-27  5.89827e-27  3.42157e-27     2.21376e-27   5.37183e-29\n",
       " 3.09163e-27  5.54033e-27  3.29095e-27  …  1.13657e-27  -2.82728e-28\n",
       " 2.3113e-27   4.47332e-27  2.62089e-27     6.5819e-28   -6.98338e-28\n",
       " 3.24006e-27  5.06705e-27  2.68874e-27     2.53946e-27  -9.47138e-28\n",
       " 3.22734e-27  6.17986e-27  4.75661e-27     4.18324e-27   3.81682e-28\n",
       " 3.8974e-27   6.26977e-27  8.21211e-27     9.10101e-27   2.26748e-27\n",
       " 5.22057e-27  7.96953e-27  1.95184e-26  …  2.31758e-26   7.37637e-27\n",
       " 5.81006e-27  1.5476e-26   5.7914e-26      6.56307e-26   2.13007e-26\n",
       " 1.4576e-26   3.95084e-26  1.64188e-25     1.80901e-25   5.99185e-26\n",
       " 3.30283e-26  9.27624e-26  4.28214e-25     4.7455e-25    1.62772e-25\n",
       " 5.16035e-26  1.76388e-25  8.40421e-25     9.32101e-25   3.28614e-25\n",
       " 2.26324e-26  1.88554e-25  9.30655e-25  …  1.02977e-24   3.90014e-25"
      ]
     },
     "execution_count": 5,
     "metadata": {},
     "output_type": "execute_result"
    }
   ],
   "source": [
    "@time    T,rho = marker_to_stag(markers,grid,[\"T\",\"rho\"],\"basic\")\n",
    "\n",
    "@time    dT_subgrid_node = subgrid_temperature_relaxation!(markers,grid,T,Cp[1,1],kThermal[1,1],1.0)\n"
   ]
  },
  {
   "cell_type": "code",
   "execution_count": 6,
   "id": "472b1469",
   "metadata": {},
   "outputs": [
    {
     "name": "stdout",
     "output_type": "stream",
     "text": [
      "T\n",
      "eta\n",
      "rho\n"
     ]
    }
   ],
   "source": [
    "for key in keys(markers.scalarFields)\n",
    "    println(key)\n",
    "end"
   ]
  }
 ],
 "metadata": {
  "kernelspec": {
   "display_name": "Julia 1.8.5",
   "language": "julia",
   "name": "julia-1.8"
  },
  "language_info": {
   "file_extension": ".jl",
   "mimetype": "application/julia",
   "name": "julia",
   "version": "1.8.5"
  }
 },
 "nbformat": 4,
 "nbformat_minor": 5
}
