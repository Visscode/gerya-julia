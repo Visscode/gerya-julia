{
 "cells": [
  {
   "cell_type": "markdown",
   "id": "2adc0010",
   "metadata": {},
   "source": [
    "## Importing Packages"
   ]
  },
  {
   "cell_type": "code",
   "execution_count": 1,
   "id": "d5088178",
   "metadata": {},
   "outputs": [
    {
     "data": {
      "text/plain": [
       "plots (generic function with 1 method)"
      ]
     },
     "execution_count": 1,
     "metadata": {},
     "output_type": "execute_result"
    }
   ],
   "source": [
    "\"\"\"\n",
    "Importing (using/include) packages and files needed for the code to run\n",
    "\n",
    "Topo.jl --- Topography Setup\n",
    "\n",
    "Note: that we import pyplot last to avoid a name conflict with grid\n",
    "\"\"\"\n",
    "\n",
    "using SparseArrays\n",
    "using LinearAlgebra\n",
    "using IterativeSolvers\n",
    "using WriteVTK\n",
    "using Printf\n",
    "using Statistics\n",
    "using Dates\n",
    "include(\"Grid.jl\")\n",
    "include(\"Markers.jl\")\n",
    "include(\"Stokes.jl\")\n",
    "include(\"Temperature.jl\")\n",
    "include(\"GridOperations.jl\")\n",
    "# Note: that we import pyplot last to avoid a name conflict with grid\n",
    "using PyPlot\n",
    "include(\"Visualization.jl\")"
   ]
  },
  {
   "cell_type": "markdown",
   "id": "c85baff6",
   "metadata": {},
   "source": [
    "# Material Setup"
   ]
  },
  {
   "cell_type": "code",
   "execution_count": 2,
   "id": "f3a42c9f",
   "metadata": {},
   "outputs": [
    {
     "data": {
      "text/plain": [
       "fitting_data (generic function with 1 method)"
      ]
     },
     "execution_count": 2,
     "metadata": {},
     "output_type": "execute_result"
    }
   ],
   "source": [
    "function ice_viscosity(T::Float64)\n",
    "    Q = 40000.0 # Activation Enegry (J/mol)\n",
    "    R_cont = 8.314 # Gas Constant (J/mol*K)\n",
    "    ice_vis = (1e15)*exp((Q*(273.0-T))/(R_cont*(273.0*T)))\n",
    "    upperlimit = 1e25\n",
    "    lowerlimit = 1e12\n",
    "    if ice_vis < lowerlimit\n",
    "        ice_vis = lowerlimit\n",
    "    elseif ice_vis > upperlimit\n",
    "        ice_vis = upperlimit\n",
    "    else \n",
    "        ice_vis = ice_vis\n",
    "    end \n",
    "    return ice_vis\n",
    "end\n",
    "\n",
    "struct Materials\n",
    "    # 1 - subsurface global ocean\n",
    "    # 2 - icy shell\n",
    "    # 3 - sticky air\n",
    "    alpha::Vector{Float64} # Thermal expansion (1/K)\n",
    "    rho0::Vector{Float64} # Density (kg/m^3)\n",
    "    Hr::Vector{Float64} # Radiogenic heat production (W/m^3)\n",
    "    Cp::Vector{Float64} # Heat capacity (J/kg*K)\n",
    "    kThermal::Vector{Float64} # Thermal conductivity (W/m*K)\n",
    "    eta::Vector{Float64} # Viscosity (Pa*s)\n",
    "    function Materials()\n",
    "        new([0.0,0.0,0.0],[1000.0,920.0,1.0],[0.0,0.0,0.0],[4180.0,2100.0,1.0e6],[0.5610,2.1,0.024],[1e12,1e15,1e17])\n",
    "    end    \n",
    "end\n",
    "\n",
    "function update_marker_prop!(markers::Markers,materials::Materials)\n",
    "    eta = markers.scalarFields[\"eta\"]\n",
    "    rho = markers.scalarFields[\"rho\"]\n",
    "    T = markers.scalarFields[\"T\"]\n",
    "    mmat = markers.integers[markers.integerFields[\"material\"],:]\n",
    "    for i in 1:markers.nmark\n",
    "        markers.scalars[rho,i] = materials.rho0[mmat[i]]\n",
    "        if mmat[i] == 2\n",
    "            markers.scalars[eta,i] = ice_viscosity(markers.scalars[T,i])\n",
    "        end\n",
    "    end\n",
    "end\n",
    "\n",
    "function update_marker_temp!(markers::Markers,materials::Materials)\n",
    "    T = markers.scalarFields[\"T\"]\n",
    "    mmat = markers.integers[markers.integerFields[\"material\"],:]\n",
    "    for i in 1:markers.nmark\n",
    "        if mmat[i] == 1 \n",
    "            markers.scalars[T,i] = 273.0\n",
    "        elseif mmat[i] == 3 \n",
    "            markers.scalars[T,i] = 100.0\n",
    "        end \n",
    "    end \n",
    "end \n",
    "\n",
    "function initial_conditions!(markers::Markers,materials::Materials,options::Dict)\n",
    "    material = markers.integerFields[\"material\"]\n",
    "    T = markers.scalarFields[\"T\"]\n",
    "    eta = markers.scalarFields[\"eta\"]\n",
    "    alpha = markers.scalarFields[\"alpha\"]\n",
    "    Cp = markers.scalarFields[\"Cp\"]\n",
    "    Hr = markers.scalarFields[\"Hr\"]\n",
    "    kThermal = markers.scalarFields[\"kThermal\"]\n",
    "    for i in 1:markers.nmark\n",
    "        mx = markers.x[1,i]\n",
    "        my = markers.x[2,i]\n",
    "        hice = initial_ice_depth(mx,options[\"ice thickness\"],options[\"wavelength\"],options[\"amplitude\"],options[\"surface depth\"])\n",
    "        hsurf = options[\"surface depth\"]\n",
    "        if my > hice\n",
    "            # subsurface global ocean\n",
    "            markers.integers[material,i] = 1\n",
    "            markers.scalars[T,i] = 273.0\n",
    "            markers.scalars[eta,i] = materials.eta[1]\n",
    "            markers.scalars[alpha,i] = materials.alpha[1]        \n",
    "            markers.scalars[Cp,i] = materials.Cp[1]\n",
    "            markers.scalars[Hr,i] = materials.Hr[1] \n",
    "            markers.scalars[kThermal,i] = materials.kThermal[1]\n",
    "        elseif my > hsurf\n",
    "            # icy shell\n",
    "            markers.integers[material,i] = 2\n",
    "            markers.scalars[T,i] = 100.0+((273.0-100.0)/(hice-hsurf))*(my-hsurf)\n",
    "            # markers.scalars[eta,i] = eta_i[i]\n",
    "            markers.scalars[alpha,i] = materials.alpha[2]\n",
    "            markers.scalars[Cp,i] = materials.Cp[2]\n",
    "            markers.scalars[Hr,i] = materials.Hr[2]\n",
    "            markers.scalars[kThermal,i] = materials.kThermal[2]\n",
    "        else\n",
    "            # sticky air\n",
    "            markers.integers[material,i] = 3\n",
    "            markers.scalars[T,i] = 100.0            \n",
    "            markers.scalars[eta,i] = materials.eta[3]\n",
    "            markers.scalars[alpha,i] = materials.alpha[3]  \n",
    "            markers.scalars[Cp,i] = materials.Cp[3]\n",
    "            markers.scalars[Hr,i] = materials.Hr[3]\n",
    "            markers.scalars[kThermal,i] = materials.kThermal[3]\n",
    "        end\n",
    "    end \n",
    "    # end loop over markers\n",
    "    update_marker_prop!(markers,materials)\n",
    "end\n",
    "\n",
    "function get_interface(grid::CartesianGrid,mat::Matrix{Float64},contour_value::Float64)\n",
    "    # Finding interfaces \n",
    "    interface_position = zeros(Float64,grid.nx+1);\n",
    "    for j in 1:grid.nx+1\n",
    "        i = 1\n",
    "        while i <= grid.ny\n",
    "            if mat[i,j] == contour_value\n",
    "                interface_position[j] = grid.yc[i]\n",
    "                break\n",
    "            elseif mat[i+1,j] < contour_value\n",
    "                # interface is located within this cell.\n",
    "                interface_position[j] = grid.yc[i] + (grid.yc[i+1]-grid.yc[i])/(mat[i+1,j]-mat[i,j])*(contour_value-mat[i,j])\n",
    "                break\n",
    "            end\n",
    "            i = i+1\n",
    "        end\n",
    "    end\n",
    "    return interface_position\n",
    "end\n",
    "\n",
    "include(\"Topo.jl\")\n",
    "include(\"TopoInfo.jl\")\n",
    "include(\"FittingData.jl\")"
   ]
  },
  {
   "cell_type": "markdown",
   "id": "06229065",
   "metadata": {},
   "source": [
    "# Model Setup"
   ]
  },
  {
   "cell_type": "code",
   "execution_count": 3,
   "id": "cf0ab9e5",
   "metadata": {
    "scrolled": true
   },
   "outputs": [
    {
     "data": {
      "text/plain": [
       "run (generic function with 1 method)"
      ]
     },
     "execution_count": 3,
     "metadata": {},
     "output_type": "execute_result"
    }
   ],
   "source": [
    "# options = Dict()\n",
    "# options[\"surface depth\"] = 1e4\n",
    "# options[\"ice thickness\"] = 1e4\n",
    "# options[\"wavelength\"] = 1e4\n",
    "# options[\"amplitude\"] = 1e3\n",
    "\n",
    "function run(options::Dict)\n",
    "    W = options[\"wavelength\"]\n",
    "    H = options[\"ice thickness\"] + options[\"surface depth\"] + options[\"amplitude\"] + 1e4\n",
    "    ny = 151\n",
    "    nx = Int64(ceil(W/H*ny))\n",
    "        \n",
    "    gx = 0.0\n",
    "    gy = 0.113 \n",
    "\n",
    "\n",
    "    Tbctype = [-1,-1,1,1] #left, right, top, bottom\n",
    "#     Tbctype = [1,-1,1,1]\n",
    "    Tbcval = [0.0,0.0,100.0,273.0] #left, right, top, bottom\n",
    "#     Tbcval = [273.0,0.0,100.0,273.0]\n",
    "    bc = BoundaryConditions(0,0,0,0) # currently does nothing but is required argument to stokes solver.\n",
    "    materials = Materials()\n",
    "\n",
    "    markx = 6\n",
    "    marky = 6\n",
    "    seconds_in_year = 3.15e7\n",
    "    plot_interval = 1e6*seconds_in_year # plot interval in seconds\n",
    "    end_time = 3e7*seconds_in_year\n",
    "    dtmax = plot_interval\n",
    "    grid = CartesianGrid(W,H,nx,ny)\n",
    "    println(\"Creating Markers...\")\n",
    "    @time markers = Markers(grid,[\"alpha\",\"T\",\"rho\",\"eta\",\"Cp\",\"Hr\",\"kThermal\"],[\"material\"] ; nmx=markx,nmy=marky,random=true)\n",
    "    println(\"Initial condition...\")\n",
    "    @time initial_conditions!(markers, materials,options)\n",
    "\n",
    "    local time_plot = []\n",
    "    local max_topo = []\n",
    "    local topography = []\n",
    "    ### Setting up agruments for interface function ###\n",
    "    # initial \n",
    "    i_mat, = marker_to_stag(markers,grid,markers.integers[[markers.integerFields[\"material\"]],:],\"center\")\n",
    "    i_air_ice_interface = get_interface(grid,i_mat,2.5)\n",
    "    i_ocean_ice_interface = get_interface(grid,i_mat,1.5)\n",
    "\n",
    "    ### Setting up agruments for termination criteria ###\n",
    "    max_step::Int64=10\n",
    "    max_time::Float64=-1.0\n",
    "    max_time = max_time == -1.0 ? typemax(Float64) : max_time\n",
    "    max_step = max_step == -1 ? typemax(Int64) : max_step\n",
    "\n",
    "    time = 0.0\n",
    "    iout= 0\n",
    "    last_plot = 0.0\n",
    "    dt = 1e10\n",
    "\n",
    "    rho_c = nothing\n",
    "    rho_vx = nothing \n",
    "    rho_vy = nothing \n",
    "    alpha = nothing \n",
    "    Hr = nothing \n",
    "    Cp_c = nothing \n",
    "    eta_s = nothing \n",
    "    eta_n = nothing \n",
    "    vxc = nothing \n",
    "    vyc = nothing \n",
    "    T = nothing \n",
    "    dTmax = nothing \n",
    "    dTemp = nothing \n",
    "    Tnew = nothing \n",
    "    Tlast = nothing \n",
    "    x_time = nothing\n",
    "    kThermal = nothing\n",
    "    ocean_ice_interface = nothing\n",
    "    mat = nothing\n",
    "\n",
    "    itime = 1\n",
    "    output_dir = \"test\"\n",
    "\n",
    "    terminate = false\n",
    "    while !terminate\n",
    "        # 0. update the markers properties  \n",
    "        update_marker_prop!(markers,materials)\n",
    "        update_marker_temp!(markers,materials)\n",
    "        # 1. Transfer properties markers -> nodes\n",
    "        # 1a. Basic Nodes\n",
    "        eta_s_new, = marker_to_stag(markers,grid,[\"eta\",],\"basic\")\n",
    "        # 1b. Cell Centers\n",
    "        rho_c_new,Cp_c_new,alpha_new,eta_n_new,Tlast_new,Hr_new,kThermal_new = marker_to_stag(markers,grid,[\"rho\",\"Cp\",\"alpha\",\"eta\",\"T\",\"Hr\",\"kThermal\"],\"center\")\n",
    "        # 1c. Vx and Vy nodes:\n",
    "        rho_vx_new, = marker_to_stag(markers,grid,[\"rho\",],\"vx\")\n",
    "        rho_vy_new, = marker_to_stag(markers,grid,[\"rho\",],\"vy\") \n",
    "\n",
    "        # deal with any NaN values from interpolation:\n",
    "        if itime > 1\n",
    "            if any(isnan.(eta_s_new))\n",
    "                println(\"found nan values\")\n",
    "            end\n",
    "            replace_nan!(eta_s,eta_s_new)\n",
    "            replace_nan!(rho_c,rho_c_new)\n",
    "            replace_nan!(Hr,Hr_new)\n",
    "            replace_nan!(Cp_c,Cp_c_new)\n",
    "            replace_nan!(alpha,alpha_new)\n",
    "            replace_nan!(eta_n,eta_n_new)\n",
    "            replace_nan!(Tlast,Tlast_new)\n",
    "            replace_nan!(rho_vx,rho_vx_new)\n",
    "            replace_nan!(rho_vy,rho_vy_new)\n",
    "            replace_nan!(kThermal,kThermal_new)\n",
    "        end\n",
    "        # Copy field data \n",
    "        kThermal = copy(kThermal_new)\n",
    "        rho_vx = copy(rho_vx_new)\n",
    "        rho_vy = copy(rho_vy_new)\n",
    "        rho_c = copy(rho_c_new)\n",
    "        Hr = copy(Hr_new)\n",
    "        Cp_c = copy(Cp_c_new)\n",
    "        alpha = copy(alpha_new)\n",
    "        eta_s = copy(eta_s_new)\n",
    "        eta_n = copy(eta_n_new)\n",
    "        Tlast = copy(Tlast_new)\n",
    "\n",
    "        if itime == 1 \n",
    "            println(Tbctype,Tbcval)\n",
    "            Tlast = ghost_temperature_center(grid,Tlast,Tbctype,Tbcval)\n",
    "            cell_center_to_markers!(markers,grid,Tlast,markers.scalars[[markers.scalarFields[\"T\"],],:])\n",
    "        else\n",
    "            Tlast = ghost_temperature_center(grid,Tlast,Tbctype,Tbcval)\n",
    "        end\n",
    "\n",
    "        # 2. Assemble and solve the stokes equations\n",
    "        L,R = form_stokes(grid,eta_s,eta_n,rho_vx,rho_vy,bc,gx,gy;dt=dt)\n",
    "        stokes_solution = L\\R\n",
    "        vx,vy,P = unpack(stokes_solution,grid;ghost=true)\n",
    "\n",
    "        # Get the velocity at the cell centers:\n",
    "        vxc,vyc = velocity_to_centers(grid,vx,vy)\n",
    "        adiabatic_heating = compute_adiabatic_heating(grid,rho_c,Tlast,alpha,gx,gy,vxc,vyc)*0.0\n",
    "        shear_heating = compute_shear_heating(grid,vx,vy,eta_n,eta_s)*0.0\n",
    "        H = (adiabatic_heating .+ shear_heating .+ Hr).*0.0\n",
    "\n",
    "        # 3. Compute the advection timestep\n",
    "        if itime > 1\n",
    "            this_dtmax = min(1.2*dt,dtmax)\n",
    "        else\n",
    "            this_dtmax = dtmax\n",
    "        end\n",
    "        dt = compute_timestep(grid,vxc,vyc;dtmax=this_dtmax,cfl=0.25)\n",
    "        diffusion_timestep = (grid.x[2]-grid.x[1])^2 / 1e-6\n",
    "        if dt > diffusion_timestep\n",
    "            dt = diffusion_timestep\n",
    "        end\n",
    "\n",
    "        dTmax = Inf\n",
    "        dTemp = nothing\n",
    "        Tnew = nothing\n",
    "        titer = 1\n",
    "        for titer=1:2\n",
    "            # assemble and solve the energy equation\n",
    "            println(\"Trying with timestep \",dt/seconds_in_year/1e3,\" kyr\")\n",
    "            L,R = assemble_energy_equation_center(grid,rho_c,Cp_c,kThermal,H,Tlast,dt,Tbctype,Tbcval)\n",
    "            Tnew = L\\R;\n",
    "            Tnew = reshape(Tnew,grid.ny,grid.nx);\n",
    "            Tnew = ghost_temperature_center(grid,Tnew,Tbctype,Tbcval)\n",
    "            T = copy(Tnew)\n",
    "\n",
    "            dTemp = Tnew-Tlast\n",
    "            # compute the maximum temperature change\n",
    "            dTmax = maximum(abs.(dTemp[2:end-1,2:end-1]));\n",
    "            println(\"dTmax=\",dTmax,\" dt=\",dt/seconds_in_year/1e3,\" kyr\")\n",
    "            dt = min(dt,dTmax < 10.0 ? dt : dt*10.0/dTmax)\n",
    "            if dTmax < 10.0\n",
    "                break\n",
    "            end\n",
    "        end\n",
    "\n",
    "        dT_subgrid_node = subgrid_temperature_relaxation_center!(markers,grid,Tlast,Cp_c[1,1],kThermal[1,1],dt)\n",
    "        dT_remaining = dTemp - dT_subgrid_node\n",
    "\n",
    "        cell_center_change_to_markers!(markers,grid,dT_remaining,\"T\")\n",
    "\n",
    "        # Checking Termination Criteria, time is in Myr\n",
    "        if time >= max_time || itime >= max_step\n",
    "            terminate = true\n",
    "        end    \n",
    "\n",
    "#         if time == 0.0 || mod(itime,100) == 0 || true\n",
    "#             last_plot = time \n",
    "#             # Gird output\n",
    "#             name1 = @sprintf(\"%s/viz.%04d.vtr\",output_dir,iout)\n",
    "#             println(\"Writing visualization file = \",name1)\n",
    "#             vn = velocity_to_basic_nodes(grid,vxc,vyc)\n",
    "#             visualization(grid,rho_c,eta_s,vn,P,Tnew[2:end-1,2:end-1],time/seconds_in_year;filename=name1)\n",
    "#             # Markers output\n",
    "#             name2 = @sprintf(\"%s/markers.%04d.vtp\",output_dir,iout)\n",
    "#             println(\"Writing visualization file = \",name2)\n",
    "#             visualization(markers,time/seconds_in_year;filename=name2)\n",
    "#             iout += 1\n",
    "#         end\n",
    "\n",
    "        # println(\"Min/Max velocity: \",minimum(vyc),\" \",maximum(vyc))            \n",
    "        # Moving the markers and advancing to the next timestep\n",
    "        move_markers_rk4!(markers,grid,vx,vy,dt,continuity_weight=1/3)\n",
    "        time += dt\n",
    "        itime += 1\n",
    "        println(\"Finished Step \",itime,\" time=\",time/seconds_in_year/1e3,\" kyr\")\n",
    "        x_time = @sprintf(\"%.3g\",time/3.15e7/1e6);\n",
    "        mat, = marker_to_stag(markers,grid,markers.integers[[markers.integerFields[\"material\"]],:],\"center\")\n",
    "        ocean_ice_interface = get_interface(grid,mat,1.5)\n",
    "        air_ice_interface = get_interface(grid,mat,2.5)\n",
    "        append!(time_plot,time)\n",
    "        append!(max_topo,maximum(ocean_ice_interface.-(options[\"ice thickness\"] + options[\"surface depth\"])))\n",
    "        append!(topography,[ocean_ice_interface])\n",
    "    end\n",
    "    return grid,i_mat,mat,time_plot,topography,time,max_topo,max_step\n",
    "end\n",
    "\n",
    "# grid,i_mat,mat,times,topography,time,max_topo = run(options)\n",
    "\n",
    "\n",
    "# air_ice_interface = get_interface(grid,mat,2.5)\n",
    "# ocean_ice_interface = get_interface(grid,mat,1.5)\n",
    "# i_air_ice_interface = get_interface(grid,i_mat,2.5)\n",
    "# i_ocean_ice_interface = get_interface(grid,i_mat,1.5)\n",
    "\n",
    "# figure()\n",
    "# scatter(markers.x[1,:],markers.x[2,:],c=\"b\",s=0.1)\n",
    "# show()"
   ]
  },
  {
   "cell_type": "code",
   "execution_count": 4,
   "id": "79124336",
   "metadata": {},
   "outputs": [],
   "source": [
    "# wavelength = [1e4,2e4,3e4,4e4,5e4,6e4,7e4,8e4,9e4]\n",
    "# function short_wavelength_model_run(wavelength::Vector{Float64})\n",
    "#     for i in range(start=1,step=1,stop=length(wavelength))\n",
    "#         options = Dict()\n",
    "#         options[\"surface depth\"] = 1e4\n",
    "#         options[\"ice thickness\"] = 1e4\n",
    "#         options[\"wavelength\"] = wavelength[i]\n",
    "#         options[\"amplitude\"] = 1e3\n",
    "#         grid,i_mat,mat,times,topography,time,max_topo,max_step = run(options);\n",
    "#         air_ice_interface = get_interface(grid,mat,2.5);\n",
    "#         ocean_ice_interface = get_interface(grid,mat,1.5);\n",
    "#         i_air_ice_interface = get_interface(grid,i_mat,2.5);\n",
    "#         i_ocean_ice_interface = get_interface(grid,i_mat,1.5);\n",
    "#         fitting_data(topography,times,max_step)\n",
    "#         println(get_time_viscous(wavelength[i]))\n",
    "#     end\n",
    "# end"
   ]
  },
  {
   "cell_type": "code",
   "execution_count": 5,
   "id": "e65c5e01",
   "metadata": {},
   "outputs": [
    {
     "data": {
      "text/plain": [
       "Any[]"
      ]
     },
     "execution_count": 5,
     "metadata": {},
     "output_type": "execute_result"
    }
   ],
   "source": [
    "num_exp = []\n",
    "half_space = []"
   ]
  },
  {
   "cell_type": "code",
   "execution_count": 6,
   "id": "20382b35",
   "metadata": {},
   "outputs": [
    {
     "data": {
      "text/plain": [
       "wavelength_model_run (generic function with 1 method)"
      ]
     },
     "execution_count": 6,
     "metadata": {},
     "output_type": "execute_result"
    }
   ],
   "source": [
    "function wavelength_model_run(wavelength::Float64)\n",
    "    options = Dict()\n",
    "    options[\"surface depth\"] = 1e4\n",
    "    options[\"ice thickness\"] = 1e4\n",
    "    options[\"wavelength\"] = wavelength\n",
    "    options[\"amplitude\"] = 1e3\n",
    "    grid,i_mat,mat,times,topography,time,max_topo,max_step = run(options);\n",
    "    air_ice_interface = get_interface(grid,mat,2.5);\n",
    "    ocean_ice_interface = get_interface(grid,mat,1.5);\n",
    "    i_air_ice_interface = get_interface(grid,i_mat,2.5);\n",
    "    i_ocean_ice_interface = get_interface(grid,i_mat,1.5);\n",
    "    fitting_data(topography,times,max_step)\n",
    "    ths = get_time_viscous(wavelength) \n",
    "    tvis = get_numerical_time_viscous(i_air_ice_interface,i_ocean_ice_interface,air_ice_interface,ocean_ice_interface,time)\n",
    "    return ths,tvis\n",
    "end"
   ]
  },
  {
   "cell_type": "code",
   "execution_count": 15,
   "id": "78441dd3",
   "metadata": {
    "scrolled": true
   },
   "outputs": [
    {
     "name": "stdout",
     "output_type": "stream",
     "text": [
      "Creating Markers...\n",
      "  4.628071 seconds (19 allocations: 7.936 GiB, 57.60% gc time)\n",
      "Initial condition...\n",
      " 69.531943 seconds (621.06 M allocations: 9.431 GiB, 1.91% gc time)\n",
      "[-1, -1, 1, 1][0.0, 0.0, 100.0, 273.0]\n",
      "Trying with timestep 1.3381741264931892 kyr\n",
      "dTmax=1.311934548059412 dt=1.3381741264931892 kyr\n",
      "Finished Step 2 time=1.3381741264931892 kyr\n",
      "Trying with timestep 1.3381741264931892 kyr\n",
      "dTmax=1.2169541027515152 dt=1.3381741264931892 kyr\n",
      "Finished Step 3 time=2.6763482529863785 kyr\n",
      "Trying with timestep 1.3381741264931892 kyr\n",
      "dTmax=1.2324978178521633 dt=1.3381741264931892 kyr\n",
      "Finished Step 4 time=4.014522379479568 kyr\n",
      "Trying with timestep 1.3381741264931892 kyr\n",
      "dTmax=1.2610485904741608 dt=1.3381741264931892 kyr\n",
      "Finished Step 5 time=5.352696505972757 kyr\n",
      "Trying with timestep 1.3381741264931892 kyr\n",
      "dTmax=1.2784138683589958 dt=1.3381741264931892 kyr\n",
      "Finished Step 6 time=6.690870632465946 kyr\n",
      "Trying with timestep 1.3381741264931892 kyr\n",
      "dTmax=1.308676275818243 dt=1.3381741264931892 kyr\n",
      "Finished Step 7 time=8.029044758959136 kyr\n",
      "Trying with timestep 1.3381741264931892 kyr\n",
      "dTmax=1.3390602294313112 dt=1.3381741264931892 kyr\n",
      "Finished Step 8 time=9.367218885452324 kyr\n",
      "Trying with timestep 1.3381741264931892 kyr\n",
      "dTmax=1.36337343009626 dt=1.3381741264931892 kyr\n",
      "Finished Step 9 time=10.705393011945514 kyr\n",
      "Trying with timestep 1.3381741264931892 kyr\n",
      "dTmax=1.382951667929035 dt=1.3381741264931892 kyr\n",
      "Finished Step 10 time=12.043567138438702 kyr\n",
      "Trying with timestep 1.3381741264931892 kyr\n",
      "dTmax=1.3987688482177987 dt=1.3381741264931892 kyr\n",
      "Finished Step 11 time=13.381741264931891 kyr\n"
     ]
    },
    {
     "data": {
      "image/png": "[encoded data removed]",
      "text/plain": [
       "Figure(PyObject <Figure size 640x480 with 1 Axes>)"
      ]
     },
     "metadata": {},
     "output_type": "display_data"
    },
    {
     "data": {
      "text/plain": [
       "(14.709896771970753, 1.183096996019717e7)"
      ]
     },
     "execution_count": 15,
     "metadata": {},
     "output_type": "execute_result"
    }
   ],
   "source": [
    "wavelength = 3e6\n",
    "test_run = wavelength_model_run(wavelength)"
   ]
  },
  {
   "cell_type": "code",
   "execution_count": 16,
   "id": "feed977c",
   "metadata": {},
   "outputs": [
    {
     "data": {
      "text/plain": [
       "3-element Vector{Any}:\n",
       " [7.024409117332126e6, 1.0e6]\n",
       " [6.992355187692845e6, 2.0e6]\n",
       " [1.183096996019717e7, 3.0e6]"
      ]
     },
     "execution_count": 16,
     "metadata": {},
     "output_type": "execute_result"
    }
   ],
   "source": [
    "push!(num_exp,[test_run[2],wavelength])"
   ]
  },
  {
   "cell_type": "code",
   "execution_count": 17,
   "id": "1cc62c60",
   "metadata": {},
   "outputs": [
    {
     "data": {
      "text/plain": [
       "3-element Vector{Any}:\n",
       " 44.129690315912256\n",
       " 22.064845157956128\n",
       " 14.709896771970753"
      ]
     },
     "execution_count": 17,
     "metadata": {},
     "output_type": "execute_result"
    }
   ],
   "source": [
    "push!(half_space,test_run[1])"
   ]
  },
  {
   "cell_type": "code",
   "execution_count": 18,
   "id": "fa90ee36",
   "metadata": {},
   "outputs": [
    {
     "data": {
      "text/plain": [
       "3-element Vector{Any}:\n",
       " [7.024409117332126e6, 1.0e6]\n",
       " [6.992355187692845e6, 2.0e6]\n",
       " [1.183096996019717e7, 3.0e6]"
      ]
     },
     "metadata": {},
     "output_type": "display_data"
    },
    {
     "data": {
      "text/plain": [
       "3-element Vector{Any}:\n",
       " 44.129690315912256\n",
       " 22.064845157956128\n",
       " 14.709896771970753"
      ]
     },
     "metadata": {},
     "output_type": "display_data"
    }
   ],
   "source": [
    "display(num_exp)\n",
    "display(half_space)"
   ]
  },
  {
   "cell_type": "code",
   "execution_count": 19,
   "id": "67cc271a",
   "metadata": {},
   "outputs": [
    {
     "data": {
      "text/plain": [
       "3×2 Matrix{Float64}:\n",
       " 7.02441e6  1.0e6\n",
       " 6.99236e6  2.0e6\n",
       " 1.1831e7   3.0e6"
      ]
     },
     "execution_count": 19,
     "metadata": {},
     "output_type": "execute_result"
    }
   ],
   "source": [
    "num_exp = vcat(map(x->x',num_exp)...)"
   ]
  },
  {
   "cell_type": "code",
   "execution_count": 20,
   "id": "14dd274b",
   "metadata": {},
   "outputs": [
    {
     "data": {
      "text/html": [
       "<div><div style = \"float: left;\"><span>3×3 DataFrame</span></div><div style = \"clear: both;\"></div></div><div class = \"data-frame\" style = \"overflow-x: scroll;\"><table class = \"data-frame\" style = \"margin-bottom: 6px;\"><thead><tr class = \"header\"><th class = \"rowNumber\" style = \"font-weight: bold; text-align: right;\">Row</th><th style = \"text-align: left;\">lambda</th><th style = \"text-align: left;\">numerical_time</th><th style = \"text-align: left;\">halfspace_time</th></tr><tr class = \"subheader headerLastRow\"><th class = \"rowNumber\" style = \"font-weight: bold; text-align: right;\"></th><th title = \"Float64\" style = \"text-align: left;\">Float64</th><th title = \"Float64\" style = \"text-align: left;\">Float64</th><th title = \"Any\" style = \"text-align: left;\">Any</th></tr></thead><tbody><tr><td class = \"rowNumber\" style = \"font-weight: bold; text-align: right;\">1</td><td style = \"text-align: right;\">1.0e6</td><td style = \"text-align: right;\">7.02441e6</td><td style = \"text-align: left;\">44.1297</td></tr><tr><td class = \"rowNumber\" style = \"font-weight: bold; text-align: right;\">2</td><td style = \"text-align: right;\">2.0e6</td><td style = \"text-align: right;\">6.99236e6</td><td style = \"text-align: left;\">22.0648</td></tr><tr><td class = \"rowNumber\" style = \"font-weight: bold; text-align: right;\">3</td><td style = \"text-align: right;\">3.0e6</td><td style = \"text-align: right;\">1.1831e7</td><td style = \"text-align: left;\">14.7099</td></tr></tbody></table></div>"
      ],
      "text/latex": [
       "\\begin{tabular}{r|ccc}\n",
       "\t& lambda & numerical\\_time & halfspace\\_time\\\\\n",
       "\t\\hline\n",
       "\t& Float64 & Float64 & Any\\\\\n",
       "\t\\hline\n",
       "\t1 & 1.0e6 & 7.02441e6 & 44.1297 \\\\\n",
       "\t2 & 2.0e6 & 6.99236e6 & 22.0648 \\\\\n",
       "\t3 & 3.0e6 & 1.1831e7 & 14.7099 \\\\\n",
       "\\end{tabular}\n"
      ],
      "text/plain": [
       "\u001b[1m3×3 DataFrame\u001b[0m\n",
       "\u001b[1m Row \u001b[0m│\u001b[1m lambda  \u001b[0m\u001b[1m numerical_time \u001b[0m\u001b[1m halfspace_time \u001b[0m\n",
       "     │\u001b[90m Float64 \u001b[0m\u001b[90m Float64        \u001b[0m\u001b[90m Any            \u001b[0m\n",
       "─────┼─────────────────────────────────────────\n",
       "   1 │   1.0e6       7.02441e6  44.1297\n",
       "   2 │   2.0e6       6.99236e6  22.0648\n",
       "   3 │   3.0e6       1.1831e7   14.7099"
      ]
     },
     "execution_count": 20,
     "metadata": {},
     "output_type": "execute_result"
    }
   ],
   "source": [
    "using DataFrames\n",
    "df = DataFrame(lambda = num_exp[:,2], numerical_time = num_exp[:,1], halfspace_time = half_space)"
   ]
  },
  {
   "cell_type": "code",
   "execution_count": 21,
   "id": "69cc64c8",
   "metadata": {},
   "outputs": [
    {
     "data": {
      "image/png": "[encoded data removed]",
      "text/plain": [
       "Figure(PyObject <Figure size 640x480 with 1 Axes>)"
      ]
     },
     "metadata": {},
     "output_type": "display_data"
    }
   ],
   "source": [
    "figure()\n",
    "plot(df.lambda./1e4,df.numerical_time./df.halfspace_time,\"-o\")\n",
    "gca().set_xlabel(L\"\\frac{\\lambda}{h}\")\n",
    "gca().set_ylabel(L\"\\frac{t_{model}}{t_{halfspace}}\",rotation=0)\n",
    "gca().yaxis.set_label_coords(-0.2,0.5)\n",
    "show()"
   ]
  },
  {
   "cell_type": "code",
   "execution_count": null,
   "id": "38a1c8ca",
   "metadata": {},
   "outputs": [],
   "source": []
  },
  {
   "cell_type": "code",
   "execution_count": null,
   "id": "1354cea0",
   "metadata": {},
   "outputs": [],
   "source": []
  },
  {
   "cell_type": "code",
   "execution_count": null,
   "id": "2aaa334b",
   "metadata": {},
   "outputs": [],
   "source": []
  },
  {
   "cell_type": "code",
   "execution_count": null,
   "id": "af09c6a4",
   "metadata": {},
   "outputs": [],
   "source": []
  }
 ],
 "metadata": {
  "kernelspec": {
   "display_name": "Julia 1.8.2",
   "language": "julia",
   "name": "julia-1.8"
  },
  "language_info": {
   "file_extension": ".jl",
   "mimetype": "application/julia",
   "name": "julia",
   "version": "1.8.2"
  }
 },
 "nbformat": 4,
 "nbformat_minor": 5
}
