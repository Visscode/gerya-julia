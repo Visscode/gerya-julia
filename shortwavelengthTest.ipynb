{
 "cells": [
  {
   "cell_type": "markdown",
   "id": "2adc0010",
   "metadata": {},
   "source": [
    "## Importing Packages"
   ]
  },
  {
   "cell_type": "code",
   "execution_count": 1,
   "id": "d5088178",
   "metadata": {},
   "outputs": [
    {
     "data": {
      "text/plain": [
       "plots (generic function with 1 method)"
      ]
     },
     "execution_count": 1,
     "metadata": {},
     "output_type": "execute_result"
    }
   ],
   "source": [
    "\"\"\"\n",
    "Importing (using/include) packages and files needed for the code to run\n",
    "\n",
    "Topo.jl --- Topography Setup\n",
    "\n",
    "Note: that we import pyplot last to avoid a name conflict with grid\n",
    "\"\"\"\n",
    "\n",
    "using SparseArrays\n",
    "using LinearAlgebra\n",
    "using IterativeSolvers\n",
    "using WriteVTK\n",
    "using Printf\n",
    "using Statistics\n",
    "using Dates\n",
    "include(\"Grid.jl\")\n",
    "include(\"Markers.jl\")\n",
    "include(\"Stokes.jl\")\n",
    "include(\"Temperature.jl\")\n",
    "include(\"GridOperations.jl\")\n",
    "# Note: that we import pyplot last to avoid a name conflict with grid\n",
    "using PyPlot\n",
    "include(\"Visualization.jl\")"
   ]
  },
  {
   "cell_type": "markdown",
   "id": "c85baff6",
   "metadata": {},
   "source": [
    "# Material Setup"
   ]
  },
  {
   "cell_type": "code",
   "execution_count": 2,
   "id": "f3a42c9f",
   "metadata": {},
   "outputs": [
    {
     "data": {
      "text/plain": [
       "fitting_data (generic function with 1 method)"
      ]
     },
     "execution_count": 2,
     "metadata": {},
     "output_type": "execute_result"
    }
   ],
   "source": [
    "function ice_viscosity(T::Float64)\n",
    "    Q = 40000.0 # Activation Enegry (J/mol)\n",
    "    R_cont = 8.314 # Gas Constant (J/mol*K)\n",
    "    ice_vis = (1e15)*exp((Q*(273.0-T))/(R_cont*(273.0*T)))\n",
    "    upperlimit = 1e25\n",
    "    lowerlimit = 1e12\n",
    "    if ice_vis < lowerlimit\n",
    "        ice_vis = lowerlimit\n",
    "    elseif ice_vis > upperlimit\n",
    "        ice_vis = upperlimit\n",
    "    else \n",
    "        ice_vis = ice_vis\n",
    "    end \n",
    "    return ice_vis\n",
    "end\n",
    "\n",
    "struct Materials\n",
    "    # 1 - subsurface global ocean\n",
    "    # 2 - icy shell\n",
    "    # 3 - sticky air\n",
    "    alpha::Vector{Float64} # Thermal expansion (1/K)\n",
    "    rho0::Vector{Float64} # Density (kg/m^3)\n",
    "    Hr::Vector{Float64} # Radiogenic heat production (W/m^3)\n",
    "    Cp::Vector{Float64} # Heat capacity (J/kg*K)\n",
    "    kThermal::Vector{Float64} # Thermal conductivity (W/m*K)\n",
    "    eta::Vector{Float64} # Viscosity (Pa*s)\n",
    "    function Materials()\n",
    "        new([0.0,0.0,0.0],[1000.0,920.0,1.0],[0.0,0.0,0.0],[4180.0,2100.0,1.0e6],[0.5610,2.1,0.024],[1e12,1e15,1e17])\n",
    "    end    \n",
    "end\n",
    "\n",
    "function update_marker_prop!(markers::Markers,materials::Materials)\n",
    "    eta = markers.scalarFields[\"eta\"]\n",
    "    rho = markers.scalarFields[\"rho\"]\n",
    "    T = markers.scalarFields[\"T\"]\n",
    "    mmat = markers.integers[markers.integerFields[\"material\"],:]\n",
    "    for i in 1:markers.nmark\n",
    "        markers.scalars[rho,i] = materials.rho0[mmat[i]]\n",
    "        if mmat[i] == 2\n",
    "            markers.scalars[eta,i] = ice_viscosity(markers.scalars[T,i])\n",
    "        end\n",
    "    end\n",
    "end\n",
    "\n",
    "function update_marker_temp!(markers::Markers,materials::Materials)\n",
    "    T = markers.scalarFields[\"T\"]\n",
    "    mmat = markers.integers[markers.integerFields[\"material\"],:]\n",
    "    for i in 1:markers.nmark\n",
    "        if mmat[i] == 1 \n",
    "            markers.scalars[T,i] = 273.0\n",
    "        elseif mmat[i] == 3 \n",
    "            markers.scalars[T,i] = 100.0\n",
    "        end \n",
    "    end \n",
    "end \n",
    "\n",
    "function initial_conditions!(markers::Markers,materials::Materials,options::Dict)\n",
    "    material = markers.integerFields[\"material\"]\n",
    "    T = markers.scalarFields[\"T\"]\n",
    "    eta = markers.scalarFields[\"eta\"]\n",
    "    alpha = markers.scalarFields[\"alpha\"]\n",
    "    Cp = markers.scalarFields[\"Cp\"]\n",
    "    Hr = markers.scalarFields[\"Hr\"]\n",
    "    kThermal = markers.scalarFields[\"kThermal\"]\n",
    "    for i in 1:markers.nmark\n",
    "        mx = markers.x[1,i]\n",
    "        my = markers.x[2,i]\n",
    "        hice = initial_ice_depth(mx,options[\"ice thickness\"],options[\"wavelength\"],options[\"amplitude\"],options[\"surface depth\"])\n",
    "        hsurf = options[\"surface depth\"]\n",
    "        if my > hice\n",
    "            # subsurface global ocean\n",
    "            markers.integers[material,i] = 1\n",
    "            markers.scalars[T,i] = 273.0\n",
    "            markers.scalars[eta,i] = materials.eta[1]\n",
    "            markers.scalars[alpha,i] = materials.alpha[1]        \n",
    "            markers.scalars[Cp,i] = materials.Cp[1]\n",
    "            markers.scalars[Hr,i] = materials.Hr[1] \n",
    "            markers.scalars[kThermal,i] = materials.kThermal[1]\n",
    "        elseif my > hsurf\n",
    "            # icy shell\n",
    "            markers.integers[material,i] = 2\n",
    "            markers.scalars[T,i] = 100.0+((273.0-100.0)/(hice-hsurf))*(my-hsurf)\n",
    "            # markers.scalars[eta,i] = eta_i[i]\n",
    "            markers.scalars[alpha,i] = materials.alpha[2]\n",
    "            markers.scalars[Cp,i] = materials.Cp[2]\n",
    "            markers.scalars[Hr,i] = materials.Hr[2]\n",
    "            markers.scalars[kThermal,i] = materials.kThermal[2]\n",
    "        else\n",
    "            # sticky air\n",
    "            markers.integers[material,i] = 3\n",
    "            markers.scalars[T,i] = 100.0            \n",
    "            markers.scalars[eta,i] = materials.eta[3]\n",
    "            markers.scalars[alpha,i] = materials.alpha[3]  \n",
    "            markers.scalars[Cp,i] = materials.Cp[3]\n",
    "            markers.scalars[Hr,i] = materials.Hr[3]\n",
    "            markers.scalars[kThermal,i] = materials.kThermal[3]\n",
    "        end\n",
    "    end \n",
    "    # end loop over markers\n",
    "    update_marker_prop!(markers,materials)\n",
    "end\n",
    "\n",
    "function get_interface(grid::CartesianGrid,mat::Matrix{Float64},contour_value::Float64)\n",
    "    # Finding interfaces \n",
    "    interface_position = zeros(Float64,grid.nx+1);\n",
    "    for j in 1:grid.nx+1\n",
    "        i = 1\n",
    "        while i <= grid.ny\n",
    "            if mat[i,j] == contour_value\n",
    "                interface_position[j] = grid.yc[i]\n",
    "                break\n",
    "            elseif mat[i+1,j] < contour_value\n",
    "                # interface is located within this cell.\n",
    "                interface_position[j] = grid.yc[i] + (grid.yc[i+1]-grid.yc[i])/(mat[i+1,j]-mat[i,j])*(contour_value-mat[i,j])\n",
    "                break\n",
    "            end\n",
    "            i = i+1\n",
    "        end\n",
    "    end\n",
    "    return interface_position\n",
    "end\n",
    "\n",
    "include(\"Topo.jl\")\n",
    "include(\"TopoInfo.jl\")\n",
    "include(\"FittingData.jl\")"
   ]
  },
  {
   "cell_type": "markdown",
   "id": "06229065",
   "metadata": {},
   "source": [
    "# Model Setup"
   ]
  },
  {
   "cell_type": "code",
   "execution_count": 3,
   "id": "cf0ab9e5",
   "metadata": {
    "scrolled": true
   },
   "outputs": [
    {
     "data": {
      "text/plain": [
       "run (generic function with 1 method)"
      ]
     },
     "execution_count": 3,
     "metadata": {},
     "output_type": "execute_result"
    }
   ],
   "source": [
    "# options = Dict()\n",
    "# options[\"surface depth\"] = 1e4\n",
    "# options[\"ice thickness\"] = 1e4\n",
    "# options[\"wavelength\"] = 1e4\n",
    "# options[\"amplitude\"] = 1e3\n",
    "\n",
    "function run(options::Dict)\n",
    "    W = options[\"wavelength\"]\n",
    "    H = options[\"ice thickness\"] + options[\"surface depth\"] + options[\"amplitude\"] + 1e4\n",
    "    ny = 151\n",
    "    nx = Int64(ceil(W/H*ny))\n",
    "        \n",
    "    gx = 0.0\n",
    "    gy = 0.113 \n",
    "\n",
    "\n",
    "    Tbctype = [-1,-1,1,1] #left, right, top, bottom\n",
    "#     Tbctype = [1,-1,1,1]\n",
    "    Tbcval = [0.0,0.0,100.0,273.0] #left, right, top, bottom\n",
    "#     Tbcval = [273.0,0.0,100.0,273.0]\n",
    "    bc = BoundaryConditions(0,0,0,0) # currently does nothing but is required argument to stokes solver.\n",
    "    materials = Materials()\n",
    "\n",
    "    markx = 6\n",
    "    marky = 6\n",
    "    seconds_in_year = 3.15e7\n",
    "    plot_interval = 1e6*seconds_in_year # plot interval in seconds\n",
    "    end_time = 3e7*seconds_in_year\n",
    "    dtmax = plot_interval\n",
    "    grid = CartesianGrid(W,H,nx,ny)\n",
    "    println(\"Creating Markers...\")\n",
    "    @time markers = Markers(grid,[\"alpha\",\"T\",\"rho\",\"eta\",\"Cp\",\"Hr\",\"kThermal\"],[\"material\"] ; nmx=markx,nmy=marky,random=true)\n",
    "    println(\"Initial condition...\")\n",
    "    @time initial_conditions!(markers, materials,options)\n",
    "\n",
    "    local time_plot = []\n",
    "    local max_topo = []\n",
    "    local topography = []\n",
    "    ### Setting up agruments for interface function ###\n",
    "    # initial \n",
    "    i_mat, = marker_to_stag(markers,grid,markers.integers[[markers.integerFields[\"material\"]],:],\"center\")\n",
    "    i_air_ice_interface = get_interface(grid,i_mat,2.5)\n",
    "    i_ocean_ice_interface = get_interface(grid,i_mat,1.5)\n",
    "\n",
    "    ### Setting up agruments for termination criteria ###\n",
    "    max_step::Int64=40\n",
    "    max_time::Float64=-1.0\n",
    "    max_time = max_time == -1.0 ? typemax(Float64) : max_time\n",
    "    max_step = max_step == -1 ? typemax(Int64) : max_step\n",
    "\n",
    "    time = 0.0\n",
    "    iout= 0\n",
    "    last_plot = 0.0\n",
    "    dt = 1e10\n",
    "\n",
    "    rho_c = nothing\n",
    "    rho_vx = nothing \n",
    "    rho_vy = nothing \n",
    "    alpha = nothing \n",
    "    Hr = nothing \n",
    "    Cp_c = nothing \n",
    "    eta_s = nothing \n",
    "    eta_n = nothing \n",
    "    vxc = nothing \n",
    "    vyc = nothing \n",
    "    T = nothing \n",
    "    dTmax = nothing \n",
    "    dTemp = nothing \n",
    "    Tnew = nothing \n",
    "    Tlast = nothing \n",
    "    x_time = nothing\n",
    "    kThermal = nothing\n",
    "    ocean_ice_interface = nothing\n",
    "    mat = nothing\n",
    "\n",
    "    itime = 1\n",
    "    output_dir = \"test\"\n",
    "\n",
    "    terminate = false\n",
    "    while !terminate\n",
    "        # 0. update the markers properties  \n",
    "        update_marker_prop!(markers,materials)\n",
    "        update_marker_temp!(markers,materials)\n",
    "        # 1. Transfer properties markers -> nodes\n",
    "        # 1a. Basic Nodes\n",
    "        eta_s_new, = marker_to_stag(markers,grid,[\"eta\",],\"basic\")\n",
    "        # 1b. Cell Centers\n",
    "        rho_c_new,Cp_c_new,alpha_new,eta_n_new,Tlast_new,Hr_new,kThermal_new = marker_to_stag(markers,grid,[\"rho\",\"Cp\",\"alpha\",\"eta\",\"T\",\"Hr\",\"kThermal\"],\"center\")\n",
    "        # 1c. Vx and Vy nodes:\n",
    "        rho_vx_new, = marker_to_stag(markers,grid,[\"rho\",],\"vx\")\n",
    "        rho_vy_new, = marker_to_stag(markers,grid,[\"rho\",],\"vy\") \n",
    "\n",
    "        # deal with any NaN values from interpolation:\n",
    "        if itime > 1\n",
    "            if any(isnan.(eta_s_new))\n",
    "                println(\"found nan values\")\n",
    "            end\n",
    "            replace_nan!(eta_s,eta_s_new)\n",
    "            replace_nan!(rho_c,rho_c_new)\n",
    "            replace_nan!(Hr,Hr_new)\n",
    "            replace_nan!(Cp_c,Cp_c_new)\n",
    "            replace_nan!(alpha,alpha_new)\n",
    "            replace_nan!(eta_n,eta_n_new)\n",
    "            replace_nan!(Tlast,Tlast_new)\n",
    "            replace_nan!(rho_vx,rho_vx_new)\n",
    "            replace_nan!(rho_vy,rho_vy_new)\n",
    "            replace_nan!(kThermal,kThermal_new)\n",
    "        end\n",
    "        # Copy field data \n",
    "        kThermal = copy(kThermal_new)\n",
    "        rho_vx = copy(rho_vx_new)\n",
    "        rho_vy = copy(rho_vy_new)\n",
    "        rho_c = copy(rho_c_new)\n",
    "        Hr = copy(Hr_new)\n",
    "        Cp_c = copy(Cp_c_new)\n",
    "        alpha = copy(alpha_new)\n",
    "        eta_s = copy(eta_s_new)\n",
    "        eta_n = copy(eta_n_new)\n",
    "        Tlast = copy(Tlast_new)\n",
    "\n",
    "        if itime == 1 \n",
    "            println(Tbctype,Tbcval)\n",
    "            ghost_temperature_center(grid,Tlast,Tbctype,Tbcval)\n",
    "            cell_center_to_markers!(markers,grid,Tlast,markers.scalars[[markers.scalarFields[\"T\"],],:])\n",
    "        else\n",
    "            ghost_temperature_center(grid,Tlast,Tbctype,Tbcval)\n",
    "        end\n",
    "\n",
    "        # 2. Assemble and solve the stokes equations\n",
    "        L,R = form_stokes(grid,eta_s,eta_n,rho_vx,rho_vy,bc,gx,gy;dt=dt)\n",
    "        stokes_solution = L\\R\n",
    "        vx,vy,P = unpack(stokes_solution,grid;ghost=true)\n",
    "\n",
    "        # Get the velocity at the cell centers:\n",
    "        vxc,vyc = velocity_to_centers(grid,vx,vy)\n",
    "        adiabatic_heating = compute_adiabatic_heating(grid,rho_c,Tlast,alpha,gx,gy,vxc,vyc)*0.0\n",
    "        shear_heating = compute_shear_heating(grid,vx,vy,eta_n,eta_s)*0.0\n",
    "        H = (adiabatic_heating .+ shear_heating .+ Hr).*0.0\n",
    "\n",
    "        # 3. Compute the advection timestep\n",
    "        if itime > 1\n",
    "            this_dtmax = min(1.2*dt,dtmax)\n",
    "        else\n",
    "            this_dtmax = dtmax\n",
    "        end\n",
    "        dt = compute_timestep(grid,vxc,vyc;dtmax=this_dtmax,cfl=0.25)\n",
    "        diffusion_timestep = (grid.x[2]-grid.x[1])^2 / 1e-6\n",
    "        if dt > diffusion_timestep\n",
    "            dt = diffusion_timestep\n",
    "        end\n",
    "\n",
    "        dTmax = Inf\n",
    "        dTemp = nothing\n",
    "        Tnew = nothing\n",
    "        titer = 1\n",
    "        for titer=1:2\n",
    "            # assemble and solve the energy equation\n",
    "            println(\"Trying with timestep \",dt/seconds_in_year/1e3,\" kyr\")\n",
    "            L,R = assemble_energy_equation_center(grid,rho_c,Cp_c,kThermal,H,Tlast,dt,Tbctype,Tbcval)\n",
    "            Tnew = L\\R;\n",
    "            Tnew = reshape(Tnew,grid.ny,grid.nx);\n",
    "            Tnew = ghost_temperature_center(grid,Tnew,Tbctype,Tbcval)\n",
    "            T = copy(Tnew)\n",
    "\n",
    "            dTemp = Tnew-Tlast\n",
    "            # compute the maximum temperature change\n",
    "            dTmax = maximum(abs.(dTemp[2:end-1,2:end-1]));\n",
    "            println(\"dTmax=\",dTmax,\" dt=\",dt/seconds_in_year/1e3,\" kyr\")\n",
    "            dt = min(dt,dTmax < 10.0 ? dt : dt*10.0/dTmax)\n",
    "            if dTmax < 10.0\n",
    "                break\n",
    "            end\n",
    "        end\n",
    "\n",
    "        dT_subgrid_node = subgrid_temperature_relaxation_center!(markers,grid,Tlast,Cp_c[1,1],kThermal[1,1],dt)\n",
    "        dT_remaining = dTemp - dT_subgrid_node\n",
    "\n",
    "        cell_center_change_to_markers!(markers,grid,dT_remaining,\"T\")\n",
    "\n",
    "        # Checking Termination Criteria, time is in Myr\n",
    "        if time >= max_time || itime >= max_step\n",
    "            terminate = true\n",
    "        end    \n",
    "\n",
    "#         if time == 0.0 || mod(itime,100) == 0 || true\n",
    "#             last_plot = time \n",
    "#             # Gird output\n",
    "#             name1 = @sprintf(\"%s/viz.%04d.vtr\",output_dir,iout)\n",
    "#             println(\"Writing visualization file = \",name1)\n",
    "#             vn = velocity_to_basic_nodes(grid,vxc,vyc)\n",
    "#             visualization(grid,rho_c,eta_s,vn,P,Tnew[2:end-1,2:end-1],time/seconds_in_year;filename=name1)\n",
    "#             # Markers output\n",
    "#             name2 = @sprintf(\"%s/markers.%04d.vtp\",output_dir,iout)\n",
    "#             println(\"Writing visualization file = \",name2)\n",
    "#             visualization(markers,time/seconds_in_year;filename=name2)\n",
    "#             iout += 1\n",
    "#         end\n",
    "\n",
    "        # println(\"Min/Max velocity: \",minimum(vyc),\" \",maximum(vyc))            \n",
    "        # Moving the markers and advancing to the next timestep\n",
    "        move_markers_rk4!(markers,grid,vx,vy,dt,continuity_weight=1/3)\n",
    "        time += dt\n",
    "        itime += 1\n",
    "        println(\"Finished Step \",itime,\" time=\",time/seconds_in_year/1e3,\" kyr\")\n",
    "        x_time = @sprintf(\"%.3g\",time/3.15e7/1e6);\n",
    "        mat, = marker_to_stag(markers,grid,markers.integers[[markers.integerFields[\"material\"]],:],\"center\")\n",
    "        ocean_ice_interface = get_interface(grid,mat,1.5)\n",
    "        air_ice_interface = get_interface(grid,mat,2.5)\n",
    "        append!(time_plot,time)\n",
    "        append!(max_topo,maximum(ocean_ice_interface.-(options[\"ice thickness\"] + options[\"surface depth\"])))\n",
    "        append!(topography,[ocean_ice_interface])\n",
    "    end\n",
    "    return grid,i_mat,mat,time_plot,topography,time,max_topo,max_step\n",
    "end\n",
    "\n",
    "# grid,i_mat,mat,times,topography,time,max_topo = run(options)\n",
    "\n",
    "\n",
    "# air_ice_interface = get_interface(grid,mat,2.5)\n",
    "# ocean_ice_interface = get_interface(grid,mat,1.5)\n",
    "# i_air_ice_interface = get_interface(grid,i_mat,2.5)\n",
    "# i_ocean_ice_interface = get_interface(grid,i_mat,1.5)\n",
    "\n",
    "# figure()\n",
    "# scatter(markers.x[1,:],markers.x[2,:],c=\"b\",s=0.1)\n",
    "# show()"
   ]
  },
  {
   "cell_type": "code",
   "execution_count": 4,
   "id": "79124336",
   "metadata": {},
   "outputs": [],
   "source": [
    "# wavelength = [1e4,2e4,3e4,4e4,5e4,6e4,7e4,8e4,9e4]\n",
    "# function short_wavelength_model_run(wavelength::Vector{Float64})\n",
    "#     for i in range(start=1,step=1,stop=length(wavelength))\n",
    "#         options = Dict()\n",
    "#         options[\"surface depth\"] = 1e4\n",
    "#         options[\"ice thickness\"] = 1e4\n",
    "#         options[\"wavelength\"] = wavelength[i]\n",
    "#         options[\"amplitude\"] = 1e3\n",
    "#         grid,i_mat,mat,times,topography,time,max_topo,max_step = run(options);\n",
    "#         air_ice_interface = get_interface(grid,mat,2.5);\n",
    "#         ocean_ice_interface = get_interface(grid,mat,1.5);\n",
    "#         i_air_ice_interface = get_interface(grid,i_mat,2.5);\n",
    "#         i_ocean_ice_interface = get_interface(grid,i_mat,1.5);\n",
    "#         fitting_data(topography,times,max_step)\n",
    "#         println(get_time_viscous(wavelength[i]))\n",
    "#     end\n",
    "# end"
   ]
  },
  {
   "cell_type": "code",
   "execution_count": 5,
   "id": "e65c5e01",
   "metadata": {},
   "outputs": [
    {
     "data": {
      "text/plain": [
       "Any[]"
      ]
     },
     "execution_count": 5,
     "metadata": {},
     "output_type": "execute_result"
    }
   ],
   "source": [
    "num_exp = []\n",
    "half_space = []"
   ]
  },
  {
   "cell_type": "code",
   "execution_count": 6,
   "id": "20382b35",
   "metadata": {},
   "outputs": [
    {
     "data": {
      "text/plain": [
       "wavelength_model_run (generic function with 1 method)"
      ]
     },
     "execution_count": 6,
     "metadata": {},
     "output_type": "execute_result"
    }
   ],
   "source": [
    "function wavelength_model_run(wavelength::Float64)\n",
    "    options = Dict()\n",
    "    options[\"surface depth\"] = 1e4\n",
    "    options[\"ice thickness\"] = 1e4\n",
    "    options[\"wavelength\"] = wavelength\n",
    "    options[\"amplitude\"] = 1e3\n",
    "    grid,i_mat,mat,times,topography,time,max_topo,max_step = run(options);\n",
    "    air_ice_interface = get_interface(grid,mat,2.5);\n",
    "    ocean_ice_interface = get_interface(grid,mat,1.5);\n",
    "    i_air_ice_interface = get_interface(grid,i_mat,2.5);\n",
    "    i_ocean_ice_interface = get_interface(grid,i_mat,1.5);\n",
    "    fitting_data(topography,times,max_step)\n",
    "    ths = get_time_viscous(wavelength) \n",
    "    tvis = get_numerical_time_viscous(i_air_ice_interface,i_ocean_ice_interface,air_ice_interface,ocean_ice_interface,time)\n",
    "    return ths,tvis\n",
    "end"
   ]
  },
  {
   "cell_type": "code",
   "execution_count": 39,
   "id": "78441dd3",
   "metadata": {
    "scrolled": true
   },
   "outputs": [
    {
     "name": "stdout",
     "output_type": "stream",
     "text": [
      "Creating Markers...\n",
      "  0.070425 seconds (19 allocations: 243.609 MiB)\n",
      "Initial condition...\n",
      "  1.349814 seconds (18.61 M allocations: 289.446 MiB, 5.39% gc time)\n",
      "[-1, -1, 1, 1][0.0, 0.0, 100.0, 273.0]\n",
      "Trying with timestep 1.3403747687853524 kyr\n",
      "dTmax=1.2988799946912195 dt=1.3403747687853524 kyr\n",
      "Finished Step 2 time=1.3403747687853524 kyr\n",
      "Trying with timestep 1.3403747687853524 kyr\n",
      "dTmax=1.1956129709438414 dt=1.3403747687853524 kyr\n",
      "Finished Step 3 time=2.680749537570705 kyr\n",
      "Trying with timestep 1.3403747687853524 kyr\n",
      "dTmax=1.214137657269589 dt=1.3403747687853524 kyr\n",
      "Finished Step 4 time=4.021124306356057 kyr\n",
      "Trying with timestep 1.3403747687853524 kyr\n",
      "dTmax=1.234544906282565 dt=1.3403747687853524 kyr\n",
      "Finished Step 5 time=5.36149907514141 kyr\n",
      "Trying with timestep 1.3403747687853524 kyr\n",
      "dTmax=1.2702858230185257 dt=1.3403747687853524 kyr\n",
      "Finished Step 6 time=6.701873843926761 kyr\n",
      "Trying with timestep 1.3403747687853524 kyr\n",
      "dTmax=1.3003993025333216 dt=1.3403747687853524 kyr\n",
      "Finished Step 7 time=8.042248612712113 kyr\n",
      "Trying with timestep 1.3403747687853524 kyr\n",
      "dTmax=1.326127304288832 dt=1.3403747687853524 kyr\n",
      "Finished Step 8 time=9.382623381497465 kyr\n",
      "Trying with timestep 1.3403747687853524 kyr\n",
      "dTmax=1.3442587424115686 dt=1.3403747687853524 kyr\n",
      "Finished Step 9 time=10.722998150282818 kyr\n",
      "Trying with timestep 1.3403747687853524 kyr\n",
      "dTmax=1.355611235236097 dt=1.3403747687853524 kyr\n",
      "Finished Step 10 time=12.06337291906817 kyr\n",
      "Trying with timestep 1.3403747687853524 kyr\n",
      "dTmax=1.3699465981934509 dt=1.3403747687853524 kyr\n",
      "Finished Step 11 time=13.40374768785352 kyr\n",
      "Trying with timestep 1.3403747687853524 kyr\n",
      "dTmax=1.3864825217259522 dt=1.3403747687853524 kyr\n",
      "Finished Step 12 time=14.744122456638873 kyr\n",
      "Trying with timestep 1.3403747687853524 kyr\n",
      "dTmax=1.4070107617933445 dt=1.3403747687853524 kyr\n",
      "Finished Step 13 time=16.084497225424226 kyr\n",
      "Trying with timestep 1.3403747687853524 kyr\n",
      "dTmax=1.4244744079467182 dt=1.3403747687853524 kyr\n",
      "Finished Step 14 time=17.424871994209578 kyr\n",
      "Trying with timestep 1.3403747687853524 kyr\n",
      "dTmax=1.4382254427361545 dt=1.3403747687853524 kyr\n",
      "Finished Step 15 time=18.76524676299493 kyr\n",
      "Trying with timestep 1.3403747687853524 kyr\n",
      "dTmax=1.4500046470556072 dt=1.3403747687853524 kyr\n",
      "Finished Step 16 time=20.105621531780287 kyr\n",
      "Trying with timestep 1.3403747687853524 kyr\n",
      "dTmax=1.460150899253108 dt=1.3403747687853524 kyr\n",
      "Finished Step 17 time=21.44599630056564 kyr\n",
      "Trying with timestep 1.3403747687853524 kyr\n",
      "dTmax=1.4687640307867582 dt=1.3403747687853524 kyr\n",
      "Finished Step 18 time=22.78637106935099 kyr\n",
      "Trying with timestep 1.3403747687853524 kyr\n",
      "dTmax=1.4752630798519135 dt=1.3403747687853524 kyr\n",
      "Finished Step 19 time=24.126745838136348 kyr\n",
      "Trying with timestep 1.3403747687853524 kyr\n",
      "dTmax=1.479098562686147 dt=1.3403747687853524 kyr\n",
      "Finished Step 20 time=25.4671206069217 kyr\n",
      "Trying with timestep 1.3403747687853524 kyr\n",
      "dTmax=1.4807474734006405 dt=1.3403747687853524 kyr\n",
      "Finished Step 21 time=26.807495375707056 kyr\n",
      "Trying with timestep 1.3403747687853524 kyr\n",
      "dTmax=1.4786498619096164 dt=1.3403747687853524 kyr\n",
      "Finished Step 22 time=28.14787014449241 kyr\n",
      "Trying with timestep 1.3403747687853524 kyr\n",
      "dTmax=1.4758435554529115 dt=1.3403747687853524 kyr\n",
      "Finished Step 23 time=29.48824491327776 kyr\n",
      "Trying with timestep 1.3403747687853524 kyr\n",
      "dTmax=1.477228077685254 dt=1.3403747687853524 kyr\n",
      "Finished Step 24 time=30.828619682063117 kyr\n",
      "Trying with timestep 1.3403747687853524 kyr\n",
      "dTmax=1.4878979428680168 dt=1.3403747687853524 kyr\n",
      "Finished Step 25 time=32.16899445084847 kyr\n",
      "Trying with timestep 1.3403747687853524 kyr\n",
      "dTmax=1.4973946965883442 dt=1.3403747687853524 kyr\n",
      "Finished Step 26 time=33.509369219633825 kyr\n",
      "Trying with timestep 1.3403747687853524 kyr\n",
      "dTmax=1.5064721808867034 dt=1.3403747687853524 kyr\n",
      "Finished Step 27 time=34.84974398841918 kyr\n",
      "Trying with timestep 1.3403747687853524 kyr\n",
      "dTmax=1.5133703174750508 dt=1.3403747687853524 kyr\n",
      "Finished Step 28 time=36.19011875720453 kyr\n",
      "Trying with timestep 1.3403747687853524 kyr\n",
      "dTmax=1.520095790921573 dt=1.3403747687853524 kyr\n",
      "Finished Step 29 time=37.530493525989876 kyr\n",
      "Trying with timestep 1.3403747687853524 kyr\n",
      "dTmax=1.5261121548248298 dt=1.3403747687853524 kyr\n",
      "Finished Step 30 time=38.87086829477523 kyr\n",
      "Trying with timestep 1.3403747687853524 kyr\n",
      "dTmax=1.5305307848230427 dt=1.3403747687853524 kyr\n",
      "Finished Step 31 time=40.21124306356058 kyr\n",
      "Trying with timestep 1.3403747687853524 kyr\n",
      "dTmax=1.534297875153527 dt=1.3403747687853524 kyr\n",
      "Finished Step 32 time=41.551617832345926 kyr\n",
      "Trying with timestep 1.3403747687853524 kyr\n",
      "dTmax=1.5373221789203626 dt=1.3403747687853524 kyr\n",
      "Finished Step 33 time=42.89199260113128 kyr\n",
      "Trying with timestep 1.3403747687853524 kyr\n",
      "dTmax=1.539003579220548 dt=1.3403747687853524 kyr\n",
      "Finished Step 34 time=44.23236736991662 kyr\n",
      "Trying with timestep 1.3403747687853524 kyr\n",
      "dTmax=1.5422029752471644 dt=1.3403747687853524 kyr\n",
      "Finished Step 35 time=45.572742138701976 kyr\n",
      "Trying with timestep 1.3403747687853524 kyr\n",
      "dTmax=1.5456217024910188 dt=1.3403747687853524 kyr\n",
      "Finished Step 36 time=46.91311690748733 kyr\n",
      "Trying with timestep 1.3403747687853524 kyr\n",
      "dTmax=1.5501686801247274 dt=1.3403747687853524 kyr\n",
      "Finished Step 37 time=48.25349167627268 kyr\n",
      "Trying with timestep 1.3403747687853524 kyr\n",
      "dTmax=1.550122320225114 dt=1.3403747687853524 kyr\n",
      "Finished Step 38 time=49.593866445058026 kyr\n",
      "Trying with timestep 1.3403747687853524 kyr\n",
      "dTmax=1.5511347952430583 dt=1.3403747687853524 kyr\n",
      "Finished Step 39 time=50.93424121384338 kyr\n",
      "Trying with timestep 1.3403747687853524 kyr\n",
      "dTmax=1.5518642251121264 dt=1.3403747687853524 kyr\n",
      "Finished Step 40 time=52.274615982628724 kyr\n",
      "Trying with timestep 1.3403747687853524 kyr\n",
      "dTmax=1.5512574547659597 dt=1.3403747687853524 kyr\n",
      "Finished Step 41 time=53.614990751414076 kyr\n"
     ]
    },
    {
     "data": {
      "image/png": "[encoded data removed]",
      "text/plain": [
       "Figure(PyObject <Figure size 640x480 with 1 Axes>)"
      ]
     },
     "metadata": {},
     "output_type": "display_data"
    },
    {
     "data": {
      "text/plain": [
       "(490.3298923990251, 506205.1425263054)"
      ]
     },
     "execution_count": 39,
     "metadata": {},
     "output_type": "execute_result"
    }
   ],
   "source": [
    "wavelength = 9e4\n",
    "test_run = wavelength_model_run(wavelength)"
   ]
  },
  {
   "cell_type": "code",
   "execution_count": 40,
   "id": "feed977c",
   "metadata": {},
   "outputs": [
    {
     "data": {
      "text/plain": [
       "9-element Vector{Any}:\n",
       " [46055.749471694515, 10000.0]\n",
       " [91870.56548193262, 20000.0]\n",
       " [139862.28378207257, 30000.0]\n",
       " [191148.86886866705, 40000.0]\n",
       " [279998.5565796999, 50000.0]\n",
       " [335814.7418338761, 60000.0]\n",
       " [401535.5331473103, 70000.0]\n",
       " [450742.34073933406, 80000.0]\n",
       " [506205.1425263054, 90000.0]"
      ]
     },
     "execution_count": 40,
     "metadata": {},
     "output_type": "execute_result"
    }
   ],
   "source": [
    "push!(num_exp,[test_run[2],wavelength])"
   ]
  },
  {
   "cell_type": "code",
   "execution_count": 41,
   "id": "1cc62c60",
   "metadata": {},
   "outputs": [
    {
     "data": {
      "text/plain": [
       "9-element Vector{Any}:\n",
       " 4412.969031591225\n",
       " 2206.4845157956124\n",
       " 1470.9896771970753\n",
       " 1103.2422578978062\n",
       "  882.5938063182451\n",
       "  735.4948385985376\n",
       "  630.4241473701751\n",
       "  551.6211289489031\n",
       "  490.3298923990251"
      ]
     },
     "execution_count": 41,
     "metadata": {},
     "output_type": "execute_result"
    }
   ],
   "source": [
    "push!(half_space,test_run[1])"
   ]
  },
  {
   "cell_type": "code",
   "execution_count": 42,
   "id": "fa90ee36",
   "metadata": {},
   "outputs": [
    {
     "data": {
      "text/plain": [
       "9-element Vector{Any}:\n",
       " [46055.749471694515, 10000.0]\n",
       " [91870.56548193262, 20000.0]\n",
       " [139862.28378207257, 30000.0]\n",
       " [191148.86886866705, 40000.0]\n",
       " [279998.5565796999, 50000.0]\n",
       " [335814.7418338761, 60000.0]\n",
       " [401535.5331473103, 70000.0]\n",
       " [450742.34073933406, 80000.0]\n",
       " [506205.1425263054, 90000.0]"
      ]
     },
     "metadata": {},
     "output_type": "display_data"
    },
    {
     "data": {
      "text/plain": [
       "9-element Vector{Any}:\n",
       " 4412.969031591225\n",
       " 2206.4845157956124\n",
       " 1470.9896771970753\n",
       " 1103.2422578978062\n",
       "  882.5938063182451\n",
       "  735.4948385985376\n",
       "  630.4241473701751\n",
       "  551.6211289489031\n",
       "  490.3298923990251"
      ]
     },
     "metadata": {},
     "output_type": "display_data"
    }
   ],
   "source": [
    "display(num_exp)\n",
    "display(half_space)"
   ]
  },
  {
   "cell_type": "code",
   "execution_count": 43,
   "id": "67cc271a",
   "metadata": {},
   "outputs": [
    {
     "data": {
      "text/plain": [
       "9×2 Matrix{Float64}:\n",
       " 46055.7        10000.0\n",
       " 91870.6        20000.0\n",
       "     1.39862e5  30000.0\n",
       "     1.91149e5  40000.0\n",
       "     2.79999e5  50000.0\n",
       "     3.35815e5  60000.0\n",
       "     4.01536e5  70000.0\n",
       "     4.50742e5  80000.0\n",
       "     5.06205e5  90000.0"
      ]
     },
     "execution_count": 43,
     "metadata": {},
     "output_type": "execute_result"
    }
   ],
   "source": [
    "num_exp = vcat(map(x->x',num_exp)...)"
   ]
  },
  {
   "cell_type": "code",
   "execution_count": 44,
   "id": "14dd274b",
   "metadata": {},
   "outputs": [
    {
     "data": {
      "text/html": [
       "<div><div style = \"float: left;\"><span>9×3 DataFrame</span></div><div style = \"clear: both;\"></div></div><div class = \"data-frame\" style = \"overflow-x: scroll;\"><table class = \"data-frame\" style = \"margin-bottom: 6px;\"><thead><tr class = \"header\"><th class = \"rowNumber\" style = \"font-weight: bold; text-align: right;\">Row</th><th style = \"text-align: left;\">lambda</th><th style = \"text-align: left;\">numerical_time</th><th style = \"text-align: left;\">halfspace_time</th></tr><tr class = \"subheader headerLastRow\"><th class = \"rowNumber\" style = \"font-weight: bold; text-align: right;\"></th><th title = \"Float64\" style = \"text-align: left;\">Float64</th><th title = \"Float64\" style = \"text-align: left;\">Float64</th><th title = \"Any\" style = \"text-align: left;\">Any</th></tr></thead><tbody><tr><td class = \"rowNumber\" style = \"font-weight: bold; text-align: right;\">1</td><td style = \"text-align: right;\">10000.0</td><td style = \"text-align: right;\">46055.7</td><td style = \"text-align: left;\">4412.97</td></tr><tr><td class = \"rowNumber\" style = \"font-weight: bold; text-align: right;\">2</td><td style = \"text-align: right;\">20000.0</td><td style = \"text-align: right;\">91870.6</td><td style = \"text-align: left;\">2206.48</td></tr><tr><td class = \"rowNumber\" style = \"font-weight: bold; text-align: right;\">3</td><td style = \"text-align: right;\">30000.0</td><td style = \"text-align: right;\">1.39862e5</td><td style = \"text-align: left;\">1470.99</td></tr><tr><td class = \"rowNumber\" style = \"font-weight: bold; text-align: right;\">4</td><td style = \"text-align: right;\">40000.0</td><td style = \"text-align: right;\">1.91149e5</td><td style = \"text-align: left;\">1103.24</td></tr><tr><td class = \"rowNumber\" style = \"font-weight: bold; text-align: right;\">5</td><td style = \"text-align: right;\">50000.0</td><td style = \"text-align: right;\">2.79999e5</td><td style = \"text-align: left;\">882.594</td></tr><tr><td class = \"rowNumber\" style = \"font-weight: bold; text-align: right;\">6</td><td style = \"text-align: right;\">60000.0</td><td style = \"text-align: right;\">3.35815e5</td><td style = \"text-align: left;\">735.495</td></tr><tr><td class = \"rowNumber\" style = \"font-weight: bold; text-align: right;\">7</td><td style = \"text-align: right;\">70000.0</td><td style = \"text-align: right;\">4.01536e5</td><td style = \"text-align: left;\">630.424</td></tr><tr><td class = \"rowNumber\" style = \"font-weight: bold; text-align: right;\">8</td><td style = \"text-align: right;\">80000.0</td><td style = \"text-align: right;\">4.50742e5</td><td style = \"text-align: left;\">551.621</td></tr><tr><td class = \"rowNumber\" style = \"font-weight: bold; text-align: right;\">9</td><td style = \"text-align: right;\">90000.0</td><td style = \"text-align: right;\">5.06205e5</td><td style = \"text-align: left;\">490.33</td></tr></tbody></table></div>"
      ],
      "text/latex": [
       "\\begin{tabular}{r|ccc}\n",
       "\t& lambda & numerical\\_time & halfspace\\_time\\\\\n",
       "\t\\hline\n",
       "\t& Float64 & Float64 & Any\\\\\n",
       "\t\\hline\n",
       "\t1 & 10000.0 & 46055.7 & 4412.97 \\\\\n",
       "\t2 & 20000.0 & 91870.6 & 2206.48 \\\\\n",
       "\t3 & 30000.0 & 1.39862e5 & 1470.99 \\\\\n",
       "\t4 & 40000.0 & 1.91149e5 & 1103.24 \\\\\n",
       "\t5 & 50000.0 & 2.79999e5 & 882.594 \\\\\n",
       "\t6 & 60000.0 & 3.35815e5 & 735.495 \\\\\n",
       "\t7 & 70000.0 & 4.01536e5 & 630.424 \\\\\n",
       "\t8 & 80000.0 & 4.50742e5 & 551.621 \\\\\n",
       "\t9 & 90000.0 & 5.06205e5 & 490.33 \\\\\n",
       "\\end{tabular}\n"
      ],
      "text/plain": [
       "\u001b[1m9×3 DataFrame\u001b[0m\n",
       "\u001b[1m Row \u001b[0m│\u001b[1m lambda  \u001b[0m\u001b[1m numerical_time \u001b[0m\u001b[1m halfspace_time \u001b[0m\n",
       "     │\u001b[90m Float64 \u001b[0m\u001b[90m Float64        \u001b[0m\u001b[90m Any            \u001b[0m\n",
       "─────┼─────────────────────────────────────────\n",
       "   1 │ 10000.0   46055.7        4412.97\n",
       "   2 │ 20000.0   91870.6        2206.48\n",
       "   3 │ 30000.0       1.39862e5  1470.99\n",
       "   4 │ 40000.0       1.91149e5  1103.24\n",
       "   5 │ 50000.0       2.79999e5  882.594\n",
       "   6 │ 60000.0       3.35815e5  735.495\n",
       "   7 │ 70000.0       4.01536e5  630.424\n",
       "   8 │ 80000.0       4.50742e5  551.621\n",
       "   9 │ 90000.0       5.06205e5  490.33"
      ]
     },
     "execution_count": 44,
     "metadata": {},
     "output_type": "execute_result"
    }
   ],
   "source": [
    "using DataFrames\n",
    "df = DataFrame(lambda = num_exp[:,2], numerical_time = num_exp[:,1], halfspace_time = half_space)"
   ]
  },
  {
   "cell_type": "code",
   "execution_count": 45,
   "id": "69cc64c8",
   "metadata": {},
   "outputs": [
    {
     "data": {
      "image/png": "[encoded data removed]",
      "text/plain": [
       "Figure(PyObject <Figure size 640x480 with 1 Axes>)"
      ]
     },
     "metadata": {},
     "output_type": "display_data"
    }
   ],
   "source": [
    "figure()\n",
    "plot(df.lambda./1e4,df.numerical_time./df.halfspace_time,\"-o\")\n",
    "gca().set_xlabel(L\"\\frac{\\lambda}{h}\")\n",
    "gca().set_ylabel(L\"\\frac{t_{model}}{t_{halfspace}}\",rotation=0)\n",
    "gca().yaxis.set_label_coords(-0.2,0.5)\n",
    "show()"
   ]
  },
  {
   "cell_type": "code",
   "execution_count": 2,
   "id": "38a1c8ca",
   "metadata": {},
   "outputs": [
    {
     "data": {
      "text/plain": [
       "10.43644076438317"
      ]
     },
     "execution_count": 2,
     "metadata": {},
     "output_type": "execute_result"
    }
   ],
   "source": [
    "46055.7/4412.97"
   ]
  },
  {
   "cell_type": "code",
   "execution_count": null,
   "id": "1354cea0",
   "metadata": {},
   "outputs": [],
   "source": []
  },
  {
   "cell_type": "code",
   "execution_count": null,
   "id": "2aaa334b",
   "metadata": {},
   "outputs": [],
   "source": []
  }
 ],
 "metadata": {
  "kernelspec": {
   "display_name": "Julia 1.8.2",
   "language": "julia",
   "name": "julia-1.8"
  },
  "language_info": {
   "file_extension": ".jl",
   "mimetype": "application/julia",
   "name": "julia",
   "version": "1.8.2"
  }
 },
 "nbformat": 4,
 "nbformat_minor": 5
}
