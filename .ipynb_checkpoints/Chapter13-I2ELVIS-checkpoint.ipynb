{
 "cells": [
  {
   "cell_type": "code",
   "execution_count": 1,
   "id": "ebcd87a4",
   "metadata": {},
   "outputs": [],
   "source": [
    "# Import necessary packages\n",
    "using SparseArrays\n",
    "using LinearAlgebra\n",
    "using IterativeSolvers\n",
    "using WriteVTK\n",
    "using Printf\n",
    "using Pardiso\n",
    "\n",
    "include(\"Grid.jl\")\n",
    "include(\"Markers.jl\")\n",
    "include(\"Stokes.jl\")\n",
    "include(\"Temperature.jl\")\n",
    "\n",
    "using PyPlot"
   ]
  },
  {
   "cell_type": "code",
   "execution_count": 3,
   "id": "fe0a86f5",
   "metadata": {},
   "outputs": [
    {
     "name": "stdout",
     "output_type": "stream",
     "text": [
      "Creating Markers...\n",
      "  0.001566 seconds (21 allocations: 4.591 MiB)\n"
     ]
    },
    {
     "data": {
      "text/plain": [
       "Markers([1000.0 3000.0 … NaN NaN; 1000.0 1000.0 … 3.28788593e-316 2.48557944e-316], [1 1 … 0 0; 1 1 … 0 0], Dict{Any, Any}(\"sxy\" => 5, \"eta\" => 2, \"sxx\" => 4, \"rho\" => 1, \"mu\" => 3), [0.0 0.0 … 0.0 0.0; 0.0 0.0 … 0.0 0.0; … ; 0.0 0.0 … 0.0 0.0; 0.0 0.0 … 0.0 0.0], Dict{Any, Any}(\"material\" => 1), Int16[9840 581 … -1392 0], 62500)"
      ]
     },
     "execution_count": 3,
     "metadata": {},
     "output_type": "execute_result"
    }
   ],
   "source": [
    "# create markers that can hold elastic properties\n",
    "nx = 51\n",
    "ny = 51\n",
    "W = 5e5\n",
    "H = 5e5\n",
    "gx = 0.0\n",
    "gy = 10.0\n",
    "\n",
    "bc = BoundaryConditions(0,0,0,0) # currently does nothing but is required argument to stokes solver.\n",
    "\n",
    "markx = 5\n",
    "marky = 5\n",
    "\n",
    "seconds_in_year = 3.15e7\n",
    "plot_interval = 1e5*seconds_in_year # plot interval in seconds\n",
    "end_time = 3e7*seconds_in_year\n",
    "dtmax = plot_interval\n",
    "\n",
    "grid = CartesianGrid(W,H,nx,ny)\n",
    "println(\"Creating Markers...\")\n",
    "@time markers = Markers(grid,[\"rho\",\"eta\",\"mu\",\"sxx\",\"sxy\"],[\"material\"] ; nmx=markx,nmy=marky,random=false)\n"
   ]
  },
  {
   "cell_type": "code",
   "execution_count": null,
   "id": "f16409e7",
   "metadata": {},
   "outputs": [],
   "source": []
  }
 ],
 "metadata": {
  "kernelspec": {
   "display_name": "Julia 20 Threads 1.7.1",
   "language": "julia",
   "name": "julia-20-threads-1.7"
  },
  "language_info": {
   "file_extension": ".jl",
   "mimetype": "application/julia",
   "name": "julia",
   "version": "1.7.1"
  }
 },
 "nbformat": 4,
 "nbformat_minor": 5
}
