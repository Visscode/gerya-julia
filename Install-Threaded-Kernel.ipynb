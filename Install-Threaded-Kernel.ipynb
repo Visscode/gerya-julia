{
 "cells": [
  {
   "cell_type": "code",
   "execution_count": 4,
   "id": "92ab474a",
   "metadata": {
    "tags": []
   },
   "outputs": [],
   "source": [
    "Threads.nthreads()"
   ]
  },
  {
   "cell_type": "code",
   "execution_count": 5,
   "id": "03272e11",
   "metadata": {
    "tags": []
   },
   "outputs": [
    {
     "name": "stderr",
     "output_type": "stream",
     "text": [
      "\u001b[36m\u001b[1m[ \u001b[22m\u001b[39m\u001b[36m\u001b[1mInfo: \u001b[22m\u001b[39mInstalling Julia 12 Threads kernelspec in /home/caguirre/.local/share/jupyter/kernels/julia-12-threads-1.9\n"
     ]
    },
    {
     "data": {
      "text/plain": [
       "\"/home/caguirre/.local/share/jupyter/kernels/julia-12-threads-1.9\""
      ]
     },
     "execution_count": 5,
     "metadata": {},
     "output_type": "execute_result"
    }
   ],
   "source": [
    "IJulia.installkernel(\"Julia 12 Threads\", env=Dict(\n",
    "    \"JULIA_NUM_THREADS\" => \"12\",\n",
    "))"
   ]
  },
  {
   "cell_type": "code",
   "execution_count": null,
   "id": "13b241a0",
   "metadata": {},
   "outputs": [],
   "source": []
  }
 ],
 "metadata": {
  "kernelspec": {
   "display_name": "Julia 1.9.2",
   "language": "julia",
   "name": "julia-1.9"
  },
  "language_info": {
   "file_extension": ".jl",
   "mimetype": "application/julia",
   "name": "julia",
   "version": "1.9.2"
  }
 },
 "nbformat": 4,
 "nbformat_minor": 5
}
