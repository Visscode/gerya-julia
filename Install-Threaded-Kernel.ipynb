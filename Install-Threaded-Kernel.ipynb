{
 "cells": [
  {
   "cell_type": "code",
<<<<<<< HEAD
   "execution_count": 3,
=======
   "execution_count": 1,
>>>>>>> d17d05b1e9e9cca63656a2a94783f272c074c9dc
   "id": "92ab474a",
   "metadata": {},
   "outputs": [
    {
     "data": {
      "text/plain": [
       "1"
      ]
     },
<<<<<<< HEAD
     "execution_count": 3,
=======
     "execution_count": 1,
>>>>>>> d17d05b1e9e9cca63656a2a94783f272c074c9dc
     "metadata": {},
     "output_type": "execute_result"
    }
   ],
   "source": [
    "Threads.nthreads()"
   ]
  },
  {
   "cell_type": "code",
   "execution_count": 2,
   "id": "03272e11",
   "metadata": {},
   "outputs": [
    {
     "name": "stderr",
     "output_type": "stream",
     "text": [
<<<<<<< HEAD
      "\u001b[36m\u001b[1m[ \u001b[22m\u001b[39m\u001b[36m\u001b[1mInfo: \u001b[22m\u001b[39mInstalling Julia 24 Threads kernelspec in /home/ayylu/.local/share/jupyter/kernels/julia-24-threads-1.8\n"
=======
      "\u001b[36m\u001b[1m[ \u001b[22m\u001b[39m\u001b[36m\u001b[1mInfo: \u001b[22m\u001b[39mInstalling Julia 8 Threads kernelspec in /Users/max/Library/Jupyter/kernels/julia-8-threads-1.10\n"
>>>>>>> d17d05b1e9e9cca63656a2a94783f272c074c9dc
     ]
    },
    {
     "data": {
      "text/plain": [
<<<<<<< HEAD
       "\"/home/ayylu/.local/share/jupyter/kernels/julia-24-threads-1.8\""
=======
       "\"/Users/max/Library/Jupyter/kernels/julia-8-threads-1.10\""
>>>>>>> d17d05b1e9e9cca63656a2a94783f272c074c9dc
      ]
     },
     "execution_count": 2,
     "metadata": {},
     "output_type": "execute_result"
    }
   ],
   "source": [
<<<<<<< HEAD
    "IJulia.installkernel(\"Julia 24 Threads\", env=Dict(\n",
    "    \"JULIA_NUM_THREADS\" => \"24\",\n",
=======
    "IJulia.installkernel(\"Julia 8 Threads\", env=Dict(\n",
    "    \"JULIA_NUM_THREADS\" => \"8\",\n",
>>>>>>> d17d05b1e9e9cca63656a2a94783f272c074c9dc
    "))"
   ]
  },
  {
   "cell_type": "code",
   "execution_count": null,
   "id": "13b241a0",
   "metadata": {},
   "outputs": [],
   "source": []
  }
 ],
 "metadata": {
  "kernelspec": {
   "display_name": "Julia 1.10.2",
   "language": "julia",
   "name": "julia-1.10"
  },
  "language_info": {
   "file_extension": ".jl",
   "mimetype": "application/julia",
   "name": "julia",
   "version": "1.10.2"
  }
 },
 "nbformat": 4,
 "nbformat_minor": 5
}
