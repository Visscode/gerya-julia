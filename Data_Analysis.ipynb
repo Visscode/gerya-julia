{
 "cells": [
  {
   "cell_type": "code",
   "execution_count": null,
   "id": "feee692c",
   "metadata": {
    "tags": []
   },
   "outputs": [],
   "source": [
    "using HDF5\n",
    "using PyPlot\n",
    "include(\"PostProcess.jl\")"
   ]
  },
  {
   "cell_type": "code",
   "execution_count": null,
   "id": "6d86b3af-88f5-4862-83c3-3d1f015e230b",
   "metadata": {},
   "outputs": [],
   "source": [
    "ice_shell_thickness_range = range(5.0,60.0,7)  # Define your ice shell thickness range\n",
    "wavelength_range = range(5.0,300.0,10)  # Define your wavelength range\n",
    "amplitude = 20.0  # Define the amplitude value\n",
    "output_path = \"combined_output.hdf5\"  # Define the output file path\n",
    "combine_hdf5_files(ice_shell_thickness_range,wavelength_range,amplitude,output_path)"
   ]
  },
  {
   "cell_type": "code",
   "execution_count": null,
   "id": "e0e977e8-5707-402f-8be5-f3e8b58cba2c",
   "metadata": {},
   "outputs": [],
   "source": [
    "fname = \"combined_output.hdf5\"\n",
    "# Displaying all of the file's information\n",
    "fid = h5open(fname, \"r\")"
   ]
  },
  {
   "cell_type": "code",
   "execution_count": null,
   "id": "80e0e15f",
   "metadata": {
    "tags": []
   },
   "outputs": [],
   "source": [
    "# Reading Data from file\n",
    "modeldata = fid[\"Combined Model Run\"];\n",
    "\n",
    "# Displaying the contents in Model Run group \n",
    "for obj in modeldata\n",
    "    data = read(obj)\n",
    "    println(obj)\n",
    "    display(data)\n",
    "end\n",
    "\n",
    "# # Accessing Model Run contents that I want\n",
    "Wavelength = read(modeldata,\"Wavelength\");\n",
    "Ice_shell = read(modeldata, \"Ice Shell Thickness\");\n",
    "Time_halfspace = read(modeldata,\"Viscous Relaxation Time(Half-Space)\");\n",
    "Time_rel = read(modeldata,\"Viscous Relaxation Time(Model)\");\n",
    "Time_thickening = read(modeldata, \"Thickening Time\");\n",
    "Time_rel_fitted = read(modeldata, \"Fitted Viscous Relaxation Time\");\n",
    "\n",
    "# Close file\n",
    "close(fid)"
   ]
  },
  {
   "cell_type": "code",
   "execution_count": null,
   "id": "61f80619",
   "metadata": {
    "tags": []
   },
   "outputs": [],
   "source": [
    "println(\"Wavelength: \",Wavelength/1e3,\"(km)\")\n",
    "println(\"Ice Shell Thickness: \",Ice_shell/1e3,\"(km)\")\n",
    "println(\"Viscous Relaxation Time (Half-Space): \",Time_halfspace/1e3,\"(kyr)\")\n",
    "println(\"Viscous Relaxation Time (Model): \",Time_rel/1e3,\"(kyr)\")\n",
    "println(\"Thickening Time: \",Time_thickening/1e3,\"(kyr)\")\n",
    "println(\"Fitted Viscous Relaxation Time: \",Time_rel_fitted/1e3,\"(kyr)\")"
   ]
  },
  {
   "cell_type": "code",
   "execution_count": null,
   "id": "b00d99a2-598f-4c3e-b03e-e101299915a9",
   "metadata": {
    "tags": []
   },
   "outputs": [],
   "source": [
    "# is in time yrs \n",
    "# time/1e6 is Millions of Years\n",
    "# time/1e3 is Thousands of Years"
   ]
  },
  {
   "cell_type": "code",
   "execution_count": null,
   "id": "16208b67-3dc5-4180-88dc-3030efd9235c",
   "metadata": {
    "tags": []
   },
   "outputs": [],
   "source": [
    "figure()\n",
    "cs = contour(Ice_shell/1e3,Wavelength/1e3,Time_rel./Time_thickening)\n",
    "clabel(cs,inline=true,fmt=\"%0.1f                       \",colors=\"w\",fontsize=10)\n",
    "contourf(cs,cmap=get_cmap(\"viridis\"))\n",
    "title(L\"t'\")\n",
    "colorbar(label=L\"t'\",location=\"right\")\n",
    "gca().yaxis.set_label_position(\"left\")\n",
    "gca().set_ylabel(L\"\\lambda\\,(km)\")\n",
    "gca().set_xlabel(L\"h_{ice\\,shell}\\,(km)\",rotation=0)\n",
    "# gca().yaxis.set_label_coords(-0.23,0.5)\n",
    "gca().spines[\"top\"].set_visible(false) # Hide the top edge of the axis\n",
    "gca().spines[\"right\"].set_visible(false) # Hide the right edge of the axis\n",
    "gca().xaxis.set_ticks_position(\"bottom\")\n",
    "gca().yaxis.set_ticks_position(\"left\")\n",
    "gca().spines[\"left\"].set_position((\"axes\",-0.03)) # Offset the left scale from the axis\n",
    "gca().spines[\"bottom\"].set_position((\"axes\",-0.03)) # Offset the bottom scale from the axis\n",
    "# gca().spines[\"top\"].set_color(\"none\") # Remove the top axis boundary\n",
    "# gca().spines[\"right\"].set_color(\"none\") # Remove the right axis boundary\n",
    "# gca().set_xlim([10.0,30.0])\n",
    "# gca().set_ylim([10.0,100.0])\n",
    "tight_layout()\n",
    "savefig(\"Trel_Ttic.jpeg\",dpi=300)\n",
    "show()\n",
    "\n",
    "figure()\n",
    "cs = contour(Ice_shell/1e3,Wavelength/1e3,Time_rel/1e3)\n",
    "clabel(cs,inline=true,fmt=\"%0.1f                       \",colors=\"w\",fontsize=10)\n",
    "contourf(cs,cmap=get_cmap(\"viridis\"))\n",
    "title(L\"t_{relaxation}\")\n",
    "colorbar(label=L\"t_{relaxation}(kyr)\",location=\"right\")\n",
    "gca().yaxis.set_label_position(\"left\")\n",
    "gca().set_ylabel(L\"\\lambda\\,(km)\")\n",
    "gca().set_xlabel(L\"h_{ice\\,shell}\\,(km)\",rotation=0)\n",
    "# gca().yaxis.set_label_coords(-0.23,0.5)\n",
    "gca().spines[\"top\"].set_visible(false) # Hide the top edge of the axis\n",
    "gca().spines[\"right\"].set_visible(false) # Hide the right edge of the axis\n",
    "gca().xaxis.set_ticks_position(\"bottom\")\n",
    "gca().yaxis.set_ticks_position(\"left\")\n",
    "gca().spines[\"left\"].set_position((\"axes\",-0.03)) # Offset the left scale from the axis\n",
    "gca().spines[\"bottom\"].set_position((\"axes\",-0.03)) # Offset the bottom scale from the axis\n",
    "# gca().spines[\"top\"].set_color(\"none\") # Remove the top axis boundary\n",
    "# gca().spines[\"right\"].set_color(\"none\") # Remove the right axis boundary\n",
    "# gca().set_xlim([10.0,30.0])\n",
    "# gca().set_ylim([10.0,100.0])\n",
    "tight_layout()\n",
    "# savefig(\"Trel_Ttic.jpeg\",dpi=300)\n",
    "show()\n",
    "\n",
    "figure()\n",
    "cs = contour(Ice_shell/1e3,Wavelength/1e3,Time_thickening/1e6)\n",
    "clabel(cs,inline=true,fmt=\"%0.1f                       \",colors=\"w\",fontsize=10)\n",
    "contourf(cs,cmap=get_cmap(\"viridis\"))\n",
    "title(L\"t_{thickening}\")\n",
    "colorbar(label=L\"t_{thickening}(Myr)\",location=\"right\")\n",
    "gca().yaxis.set_label_position(\"left\")\n",
    "gca().set_ylabel(L\"\\lambda\\,(km)\")\n",
    "gca().set_xlabel(L\"h_{ice\\,shell}\\,(km)\",rotation=0)\n",
    "# gca().yaxis.set_label_coords(-0.23,0.5)\n",
    "gca().spines[\"top\"].set_visible(false) # Hide the top edge of the axis\n",
    "gca().spines[\"right\"].set_visible(false) # Hide the right edge of the axis\n",
    "gca().xaxis.set_ticks_position(\"bottom\")\n",
    "gca().yaxis.set_ticks_position(\"left\")\n",
    "gca().spines[\"left\"].set_position((\"axes\",-0.03)) # Offset the left scale from the axis\n",
    "gca().spines[\"bottom\"].set_position((\"axes\",-0.03)) # Offset the bottom scale from the axis\n",
    "# gca().spines[\"top\"].set_color(\"none\") # Remove the top axis boundary\n",
    "# gca().spines[\"right\"].set_color(\"none\") # Remove the right axis boundary\n",
    "# gca().set_xlim([10.0,30.0])\n",
    "# gca().set_ylim([10.0,100.0])\n",
    "tight_layout()\n",
    "# savefig(\"Trel_Ttic.jpeg\",dpi=300)\n",
    "show()"
   ]
  },
  {
   "cell_type": "code",
   "execution_count": null,
   "id": "009b84cb-a952-4ee3-9eb6-46a467c82a37",
   "metadata": {},
   "outputs": [],
   "source": []
  }
 ],
 "metadata": {
  "kernelspec": {
   "display_name": "Julia 1.10.5",
   "language": "julia",
   "name": "julia-1.10"
  },
  "language_info": {
   "file_extension": ".jl",
   "mimetype": "application/julia",
   "name": "julia",
   "version": "1.10.5"
  }
 },
 "nbformat": 4,
 "nbformat_minor": 5
}
