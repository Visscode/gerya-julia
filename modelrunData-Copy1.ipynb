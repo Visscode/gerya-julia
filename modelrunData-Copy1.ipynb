{
 "cells": [
  {
   "cell_type": "code",
   "execution_count": null,
   "id": "feee692c",
   "metadata": {
    "tags": []
   },
   "outputs": [],
   "source": [
    "using HDF5\n",
    "using PyPlot\n",
    "include(\"Grid.jl\")\n",
    "include(\"Markers.jl\")\n",
    "include(\"Topo.jl\")"
   ]
  },
  {
   "cell_type": "code",
   "execution_count": null,
   "id": "80e0e15f",
   "metadata": {
    "tags": []
   },
   "outputs": [],
   "source": [
    "fname = \"runtestv3.hdf5\"\n",
    "# Displaying all of the file's information\n",
    "fid = h5open(fname, \"r\")"
   ]
  },
  {
   "cell_type": "code",
   "execution_count": null,
   "id": "59a2dd46",
   "metadata": {
    "tags": []
   },
   "outputs": [],
   "source": [
    "# Reading Data from file\n",
    "modeldata = fid[\"Model Run\"];"
   ]
  },
  {
   "cell_type": "code",
   "execution_count": null,
   "id": "0777484f",
   "metadata": {
    "tags": []
   },
   "outputs": [],
   "source": [
    "# Displaying the contents in Model Run group \n",
    "for obj in modeldata\n",
    "    data = read(obj)\n",
    "    println(obj)\n",
    "    display(data)\n",
    "end\n",
    "\n",
    "# Accessing Model Run contents that I want\n",
    "Wavelength = read(modeldata, \"Wavelength\");\n",
    "Time_vis = read(modeldata, \"Relaxation Time(Model)\");\n",
    "Time_vis_fitted_topo = read(modeldata, \"Fitted Topography Relaxation Time(Model)\");\n",
    "Time_vis_fitted_amp = read(modeldata, \"Fitted Amplitude Relaxation Time(Model)\");\n",
    "Time_halfspace = read(modeldata, \"Relaxation Time(Halfspace)\");\n",
    "Time_thickening = read(modeldata, \"Thickening Time\");\n",
    "Ice_shell = read(modeldata, \"Ice Shell Thickness\");"
   ]
  },
  {
   "cell_type": "code",
   "execution_count": null,
   "id": "f39a3067",
   "metadata": {
    "tags": []
   },
   "outputs": [],
   "source": [
    "# Close file\n",
    "close(fid)"
   ]
  },
  {
   "cell_type": "code",
   "execution_count": null,
   "id": "61f80619",
   "metadata": {
    "tags": []
   },
   "outputs": [],
   "source": [
    "display(Wavelength) \n",
    "display(Time_vis)\n",
    "display(Time_vis_fitted_topo)\n",
    "display(Time_vis_fitted_amp)\n",
    "display(Time_halfspace)\n",
    "display(Time_thickening)\n",
    "display(Ice_shell)"
   ]
  },
  {
   "cell_type": "code",
   "execution_count": null,
   "id": "bf46604d-df7f-4245-b803-c7cc289f0deb",
   "metadata": {
    "tags": []
   },
   "outputs": [],
   "source": [
    "display(Time_vis/Time_halfspace)"
   ]
  },
  {
   "cell_type": "code",
   "execution_count": null,
   "id": "47267fb4-980b-4cbc-bd2b-851c0464e529",
   "metadata": {
    "tags": []
   },
   "outputs": [],
   "source": [
    "# display(Time_vis_fitted_amp/Time_halfspace)"
   ]
  },
  {
   "cell_type": "code",
   "execution_count": null,
   "id": "30f44809-fe42-4a0e-9ac2-c2703f47fc91",
   "metadata": {
    "tags": []
   },
   "outputs": [],
   "source": [
    "# display(Time_vis_fitted_topo/Time_halfspace)"
   ]
  },
  {
   "cell_type": "code",
   "execution_count": null,
   "id": "f8deee18-11e6-4458-ae8d-a313757f9485",
   "metadata": {
    "tags": []
   },
   "outputs": [],
   "source": [
    "display(transpose(Wavelength)./Ice_shell)"
   ]
  },
  {
   "cell_type": "code",
   "execution_count": null,
   "id": "009f5e32-227c-4ae8-9568-6d6500cd9da1",
   "metadata": {},
   "outputs": [],
   "source": [
    "figure()\n",
    "\n",
    "# cs = contour(Wavelength,Ice_shell,Time_vis/Time_thickening,locator=plt.LogLocator())\n",
    "# clabel(cs,inline=true,colors=\"w\",fontsize=10)\n",
    "# contourf(Wavelength,Ice_shell,Time_vis./Time_thickening,cmap=get_cmap(\"viridis\"))\n",
    "\n",
    "cs = contour(Wavelength,Ice_shell,Time_vis./Time_thickening)\n",
    "clabel(cs,inline=true,fmt=\"%0.4f\",colors=\"w\",fontsize=10)\n",
    "contourf(Wavelength,Ice_shell,Time_vis./Time_thickening,cmap=get_cmap(\"viridis\"))\n",
    "title(L\"\\frac{t_{relaxation}}{t_{thickening}}\")\n",
    "colorbar(label=L\"\\frac{t_{relaxation}}{t_{thickening}}\")\n",
    "gca().set_xlabel(L\"\\lambda\\,(km)\")\n",
    "gca().set_ylabel(L\"h_{ice\\,shell}\\,(km)\",rotation=0)\n",
    "gca().yaxis.set_label_coords(-0.23,0.5)\n",
    "gca().spines[\"top\"].set_visible(false) # Hide the top edge of the axis\n",
    "gca().spines[\"right\"].set_visible(false) # Hide the right edge of the axis\n",
    "gca().xaxis.set_ticks_position(\"bottom\")\n",
    "gca().yaxis.set_ticks_position(\"left\")\n",
    "gca().spines[\"left\"].set_position((\"axes\",-0.03)) # Offset the left scale from the axis\n",
    "gca().spines[\"bottom\"].set_position((\"axes\",-0.03)) # Offset the bottom scale from the axis\n",
    "# gca().spines[\"top\"].set_color(\"none\") # Remove the top axis boundary\n",
    "# gca().spines[\"right\"].set_color(\"none\") # Remove the right axis boundary\n",
    "show()\n",
    "\n",
    "figure()\n",
    "\n",
    "# cs = contour(Time_halfspace./Time_thickening)\n",
    "# clabel(cs,inline=true,colors=\"w\",fontsize=10)\n",
    "# contourf(Time_halfspace./Time_thickening,cmap=get_cmap(\"viridis\"))\n",
    "\n",
    "cs = contour(Wavelength,Ice_shell,(Time_halfspace./Time_thickening))\n",
    "clabel(cs,inline=true,colors=\"w\",fontsize=10)\n",
    "contourf(Wavelength,Ice_shell,(Time_halfspace./Time_thickening),cmap=get_cmap(\"viridis\"))\n",
    "title(L\"\\frac{t_{half-space}}{t_{thickening}}\")\n",
    "\n",
    "colorbar(label=L\"\\frac{t_{half-space}}{t_{thickening}}\")\n",
    "gca().set_xlabel(L\"\\lambda\\,(km)\")\n",
    "gca().set_ylabel(L\"h_{ice\\,shell}\\,(km)\",rotation=0)\n",
    "gca().yaxis.set_label_coords(-0.23,0.5)\n",
    "gca().spines[\"top\"].set_visible(false) # Hide the top edge of the axis\n",
    "gca().spines[\"right\"].set_visible(false) # Hide the right edge of the axis\n",
    "gca().xaxis.set_ticks_position(\"bottom\")\n",
    "gca().yaxis.set_ticks_position(\"left\")\n",
    "gca().spines[\"left\"].set_position((\"axes\",-0.03)) # Offset the left scale from the axis\n",
    "gca().spines[\"bottom\"].set_position((\"axes\",-0.03)) # Offset the bottom scale from the axis\n",
    "# gca().spines[\"top\"].set_color(\"none\") # Remove the top axis boundary\n",
    "# gca().spines[\"right\"].set_color(\"none\") # Remove the right axis boundary\n",
    "show()"
   ]
  },
  {
   "cell_type": "code",
   "execution_count": null,
   "id": "472d18e1-b9e3-4f83-a7ad-42b6c28286b9",
   "metadata": {
    "tags": []
   },
   "outputs": [],
   "source": [
    "# figure()\n",
    "# plot(transpose(Wavelength)./Ice_shell,Time_vis_fitted/Time_halfspace,\".\")\n",
    "# gca().set_xlabel(L\"\\frac{\\lambda}{h}\")\n",
    "# gca().set_ylabel(L\"\\frac{t_{relaxation}}{t_{half-space}}\",rotation=0)\n",
    "# gca().yaxis.set_label_coords(-0.17,0.5)\n",
    "# gca().spines[\"top\"].set_visible(false) # Hide the top edge of the axis\n",
    "# gca().spines[\"right\"].set_visible(false) # Hide the right edge of the axis\n",
    "# gca().xaxis.set_ticks_position(\"bottom\")\n",
    "# gca().yaxis.set_ticks_position(\"left\")\n",
    "# gca().spines[\"left\"].set_position((\"axes\",-0.03)) # Offset the left scale from the axis\n",
    "# gca().spines[\"bottom\"].set_position((\"axes\",-0.03)) # Offset the bottom scale from the axis\n",
    "# show()\n",
    "\n",
    "figure()\n",
    "plot(transpose(Wavelength)./Ice_shell,Time_vis/Time_halfspace,\".-\")\n",
    "gca().set_xlabel(L\"\\frac{\\lambda}{h}\")\n",
    "gca().set_ylabel(L\"\\frac{t_{relaxation}}{t_{half-space}}\",rotation=0)\n",
    "gca().yaxis.set_label_coords(-0.2,0.5)\n",
    "gca().spines[\"top\"].set_visible(false) # Hide the top edge of the axis\n",
    "gca().spines[\"right\"].set_visible(false) # Hide the right edge of the axis\n",
    "gca().xaxis.set_ticks_position(\"bottom\")\n",
    "gca().yaxis.set_ticks_position(\"left\")\n",
    "gca().spines[\"left\"].set_position((\"axes\",-0.03)) # Offset the left scale from the axis\n",
    "gca().spines[\"bottom\"].set_position((\"axes\",-0.03)) # Offset the bottom scale from the axis\n",
    "show()\n",
    "\n",
    "figure()\n",
    "plot(transpose(Wavelength)./Ice_shell,Time_vis/Time_thickening,\".-\")\n",
    "gca().set_xlabel(L\"\\frac{\\lambda}{h}\")\n",
    "gca().set_ylabel(L\"\\frac{t_{relaxation}}{t_{thickening}}\",rotation=0)\n",
    "gca().yaxis.set_label_coords(-0.2,0.5)\n",
    "gca().spines[\"top\"].set_visible(false) # Hide the top edge of the axis\n",
    "gca().spines[\"right\"].set_visible(false) # Hide the right edge of the axis\n",
    "gca().xaxis.set_ticks_position(\"bottom\")\n",
    "gca().yaxis.set_ticks_position(\"left\")\n",
    "gca().spines[\"left\"].set_position((\"axes\",-0.03)) # Offset the left scale from the axis\n",
    "gca().spines[\"bottom\"].set_position((\"axes\",-0.03)) # Offset the bottom scale from the axis\n",
    "show()\n",
    "\n",
    "figure()\n",
    "plot(transpose(Wavelength)./Ice_shell,Time_halfspace/Time_thickening,\".-\")\n",
    "gca().set_xlabel(L\"\\frac{\\lambda}{h}\")\n",
    "gca().set_ylabel(L\"\\frac{t_{half-space}}{t_{thickening}}\",rotation=0)\n",
    "gca().yaxis.set_label_coords(-0.2,0.5)\n",
    "gca().spines[\"top\"].set_visible(false) # Hide the top edge of the axis\n",
    "gca().spines[\"right\"].set_visible(false) # Hide the right edge of the axis\n",
    "gca().xaxis.set_ticks_position(\"bottom\")\n",
    "gca().yaxis.set_ticks_position(\"left\")\n",
    "gca().spines[\"left\"].set_position((\"axes\",-0.03)) # Offset the left scale from the axis\n",
    "gca().spines[\"bottom\"].set_position((\"axes\",-0.03)) # Offset the bottom scale from the axis\n",
    "show()"
   ]
  },
  {
   "cell_type": "code",
   "execution_count": null,
   "id": "ab8b0c82",
   "metadata": {
    "tags": []
   },
   "outputs": [],
   "source": [
    "nx = 6\n",
    "ny = 6\n",
    "x = range(10.0,25.0,nx)\n",
    "y = range(10.0,25.0,ny)\n",
    "# z = zeros(nx,ny)\n",
    "f(x,y) = get_halfspace_time_viscous(x*1e3)/get_thickening_time(y*1e3)\n",
    "# z = @.f(x,y')\n",
    "\n",
    "# figure()\n",
    "# cs = contour(x,y,z)\n",
    "# clabel(cs,inline=true,colors=\"w\",fontsize=10)\n",
    "# contourf(x,y,z)\n",
    "# colorbar(label=L\"\\frac{t_{half-space}}{t_{thickening}}\")\n",
    "# title(L\"\\frac{t_{half-space}}{t_{thickening}}\")\n",
    "# gca().set_xlabel(L\"\\lambda\")\n",
    "# gca().set_ylabel(L\"h_{ice\\,shell}\\,(km)\",rotation=0)\n",
    "# # gca().set_xlim([0.0,0.2])\n",
    "# # gca().set_ylim([1.0,3.0])\n",
    "# gca().yaxis.set_label_coords(-0.23,0.5)\n",
    "# gca().spines[\"top\"].set_visible(false) # Hide the top edge of the axis\n",
    "# gca().spines[\"right\"].set_visible(false) # Hide the right edge of the axis\n",
    "# gca().xaxis.set_ticks_position(\"bottom\")\n",
    "# gca().yaxis.set_ticks_position(\"left\")\n",
    "# gca().spines[\"left\"].set_position((\"axes\",-0.03)) # Offset the left scale from the axis\n",
    "# gca().spines[\"bottom\"].set_position((\"axes\",-0.03)) # Offset the bottom scale from the axis\n",
    "# show()\n",
    "# close() # Remove this line to show graph\n",
    "\n",
    "\"\"\" or \"\"\"\n",
    "\n",
    "k = [f(i,j) for i in x, j in y]\n",
    "\n",
    "figure()\n",
    "cs = contour(x,y,k)\n",
    "clabel(cs,inline=true,colors=\"w\",fontsize=10)\n",
    "contourf(x,y,k)\n",
    "title(L\"\\frac{t_{half-space}}{t_{thickening}}\")\n",
    "colorbar(label=L\"\\frac{t_{half-space}}{t_{thickening}}\")\n",
    "gca().set_xlabel(L\"\\lambda\\,(km)\")\n",
    "gca().set_ylabel(L\"h_{ice\\,shell}\\,(km)\",rotation=0)\n",
    "# gca().set_xlim([0.0,0.2])\n",
    "# gca().set_ylim([1.0,1.7])\n",
    "gca().yaxis.set_label_coords(-0.23,0.5)\n",
    "gca().spines[\"top\"].set_visible(false) # Hide the top edge of the axis\n",
    "gca().spines[\"right\"].set_visible(false) # Hide the right edge of the axis\n",
    "gca().xaxis.set_ticks_position(\"bottom\")\n",
    "gca().yaxis.set_ticks_position(\"left\")\n",
    "gca().spines[\"left\"].set_position((\"axes\",-0.03)) # Offset the left scale from the axis\n",
    "gca().spines[\"bottom\"].set_position((\"axes\",-0.03)) # Offset the bottom scale from the axis\n",
    "show()\n",
    "\n",
    "figure()\n",
    "plot(transpose(x)./y,k,\".-\")\n",
    "gca().set_xlabel(L\"\\frac{\\lambda}{h}\")\n",
    "gca().set_ylabel(L\"\\frac{t_{half-space}}{t_{thickening}}\",rotation=0)\n",
    "gca().yaxis.set_label_coords(-0.2,0.5)\n",
    "gca().spines[\"top\"].set_visible(false) # Hide the top edge of the axis\n",
    "gca().spines[\"right\"].set_visible(false) # Hide the right edge of the axis\n",
    "gca().xaxis.set_ticks_position(\"bottom\")\n",
    "gca().yaxis.set_ticks_position(\"left\")\n",
    "gca().spines[\"left\"].set_position((\"axes\",-0.03)) # Offset the left scale from the axis\n",
    "gca().spines[\"bottom\"].set_position((\"axes\",-0.03)) # Offset the bottom scale from the axis\n",
    "show()"
   ]
  },
  {
   "cell_type": "code",
   "execution_count": null,
   "id": "009d5626-46b1-4cda-a4f0-a7d59a29a4fb",
   "metadata": {
    "tags": []
   },
   "outputs": [],
   "source": []
  },
  {
   "cell_type": "code",
   "execution_count": null,
   "id": "f24d63dc-ca2f-4196-8fcc-3e2343fedc4b",
   "metadata": {
    "tags": []
   },
   "outputs": [],
   "source": []
  },
  {
   "cell_type": "code",
   "execution_count": null,
   "id": "96c837c6-92a8-47a7-bc09-99fab6602fab",
   "metadata": {
    "tags": []
   },
   "outputs": [],
   "source": []
  },
  {
   "cell_type": "code",
   "execution_count": null,
   "id": "f570dc12-9147-43cf-920c-f97bb56bca63",
   "metadata": {
    "tags": []
   },
   "outputs": [],
   "source": []
  },
  {
   "cell_type": "code",
   "execution_count": null,
   "id": "d2eab22f-4239-42fe-9a4c-eb310c2da74f",
   "metadata": {},
   "outputs": [],
   "source": []
  },
  {
   "cell_type": "code",
   "execution_count": null,
   "id": "bbc96fbc-c7b2-43e1-9fe1-8c68ba92b767",
   "metadata": {
    "tags": []
   },
   "outputs": [],
   "source": [
    "# Time_vis = vcat(map(x->x',Time_vis)...)"
   ]
  },
  {
   "cell_type": "code",
   "execution_count": null,
   "id": "51f5a253-496e-4d71-8cd6-bf7df1612343",
   "metadata": {
    "tags": []
   },
   "outputs": [],
   "source": [
    "# Time_halfspace = vcat(map(x->x',Time_halfspace)...)"
   ]
  },
  {
   "cell_type": "code",
   "execution_count": null,
   "id": "ecc41220-a832-4899-8487-3be23f21b03a",
   "metadata": {
    "tags": []
   },
   "outputs": [],
   "source": [
    "# tt = xx/yy\n",
    "# tt = vcat(map(x->x',tt)...)"
   ]
  },
  {
   "cell_type": "code",
   "execution_count": null,
   "id": "90accd0f-3804-498c-827c-6a6746b2811d",
   "metadata": {
    "tags": []
   },
   "outputs": [],
   "source": [
    "# zz = Time_vis/Time_halfspace\n",
    "# zz = vcat(map(x->x',zz)...)"
   ]
  },
  {
   "cell_type": "code",
   "execution_count": null,
   "id": "9a5c20d1",
   "metadata": {},
   "outputs": [],
   "source": [
    "# nlambda = 2\n",
    "# nhice = 2\n",
    "# lambda = range(10.0,25.0,nlambda)\n",
    "# h_ice = range(10.0,25.0,nhice)\n",
    "# t_halfspace = zeros(nlambda,nhice)\n",
    "# t_tic = zeros(nlambda,nhice)\n",
    "# for i in 1:nlambda\n",
    "#     for j in 1:nhice\n",
    "#         ths = get_time_viscous(lambda[i]*1e3)\n",
    "#         t_halfspace[i,j] = ths\n",
    "#         ttic = get_thickening_time(h_ice[j]*1e3)\n",
    "#         t_tic[i,j] = ttic\n",
    "#     end\n",
    "# end\n",
    "\n",
    "# figure()\n",
    "# contourf(t_halfspace./t_tic)\n",
    "# colorbar(label=L\"\\frac{t_{halfspace}}{t_{thickening}}\")\n",
    "# gca().set_xlabel(L\"\\lambda\")\n",
    "# gca().set_ylabel(L\"h_{ice\\,shell}\\,(km)\",rotation=0)\n",
    "# # gca().set_xlim([0.0,0.2])\n",
    "# # gca().set_ylim([1.0,3.0])\n",
    "# gca().yaxis.set_label_coords(-0.23,0.5)\n",
    "# gca().spines[\"top\"].set_visible(false) # Hide the top edge of the axis\n",
    "# gca().spines[\"right\"].set_visible(false) # Hide the right edge of the axis\n",
    "# gca().xaxis.set_ticks_position(\"bottom\")\n",
    "# gca().yaxis.set_ticks_position(\"left\")\n",
    "# gca().spines[\"left\"].set_position((\"axes\",-0.03)) # Offset the left scale from the axis\n",
    "# gca().spines[\"bottom\"].set_position((\"axes\",-0.03)) # Offset the bottom scale from the axis\n",
    "# show()\n",
    "\n",
    "# \"\"\" or \"\"\"\n",
    "# k = [f(x,y) for x in lambda, y in h_ice]\n",
    "\n",
    "# figure()\n",
    "# contourf(k)\n",
    "# colorbar(label=L\"\\frac{t_{halfspace}}{t_{thickening}}\")\n",
    "# gca().set_xlabel(L\"\\lambda\")\n",
    "# gca().set_ylabel(L\"h_{ice\\,shell}\\,(km)\",rotation=0)\n",
    "# # gca().set_xlim([0.0,0.2])\n",
    "# # gca().set_ylim([1.0,3.0])\n",
    "# gca().yaxis.set_label_coords(-0.23,0.5)\n",
    "# gca().spines[\"top\"].set_visible(false) # Hide the top edge of the axis\n",
    "# gca().spines[\"right\"].set_visible(false) # Hide the right edge of the axis\n",
    "# gca().xaxis.set_ticks_position(\"bottom\")\n",
    "# gca().yaxis.set_ticks_position(\"left\")\n",
    "# gca().spines[\"left\"].set_position((\"axes\",-0.03)) # Offset the left scale from the axis\n",
    "# gca().spines[\"bottom\"].set_position((\"axes\",-0.03)) # Offset the bottom scale from the axis\n",
    "# show()"
   ]
  },
  {
   "cell_type": "code",
   "execution_count": null,
   "id": "98b813b5-3e13-4cb0-a5c7-291bcd1db753",
   "metadata": {},
   "outputs": [],
   "source": []
  }
 ],
 "metadata": {
  "kernelspec": {
   "display_name": "Julia 1.9.2",
   "language": "julia",
   "name": "julia-1.9"
  },
  "language_info": {
   "file_extension": ".jl",
   "mimetype": "application/julia",
   "name": "julia",
   "version": "1.9.2"
  }
 },
 "nbformat": 4,
 "nbformat_minor": 5
}
