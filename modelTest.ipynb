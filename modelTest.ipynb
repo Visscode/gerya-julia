{
 "cells": [
  {
   "cell_type": "markdown",
   "id": "2adc0010",
   "metadata": {},
   "source": [
    "## Importing Packages"
   ]
  },
  {
   "cell_type": "code",
   "execution_count": 3,
   "id": "d5088178",
   "metadata": {},
   "outputs": [
    {
     "data": {
      "text/plain": [
       "plots (generic function with 1 method)"
      ]
     },
     "execution_count": 3,
     "metadata": {},
     "output_type": "execute_result"
    }
   ],
   "source": [
    "\"\"\"\n",
    "Importing (using/include) packages and files needed for the code to run\n",
    "\n",
    "Topo.jl --- Topography Setup\n",
    "\n",
    "Note: that we import pyplot last to avoid a name conflict with grid\n",
    "\"\"\"\n",
    "\n",
    "using SparseArrays\n",
    "using LinearAlgebra\n",
    "using IterativeSolvers\n",
    "using WriteVTK\n",
    "using Printf\n",
    "using Statistics\n",
    "using Dates\n",
    "include(\"Grid.jl\")\n",
    "include(\"Markers.jl\")\n",
    "include(\"Stokes.jl\")\n",
    "include(\"Temperature.jl\")\n",
    "include(\"GridOperations.jl\")\n",
    "# Note: that we import pyplot last to avoid a name conflict with grid\n",
    "using PyPlot\n",
    "include(\"Visualization.jl\")"
   ]
  },
  {
   "cell_type": "markdown",
   "id": "fe0acba2",
   "metadata": {},
   "source": [
    "# Topography Setup"
   ]
  },
  {
   "cell_type": "code",
   "execution_count": 4,
   "id": "32d35791",
   "metadata": {},
   "outputs": [
    {
     "data": {
      "text/plain": [
       "ice_viscosity (generic function with 1 method)"
      ]
     },
     "execution_count": 4,
     "metadata": {},
     "output_type": "execute_result"
    }
   ],
   "source": [
    "# The initial topography setup follows the following:\n",
    "# y = A*sin[k(x-b)]+c \n",
    "# |A| is the amplitude \n",
    "# k is the wave number (k=2π/wavelength)\n",
    "# The period is 2π/k \n",
    "# The horizontal shift is b \n",
    "# The vertical shift is c \n",
    "\n",
    "function initial_ice_depth(x::Float64,ice_thickness::Float64,wavelength::Float64,amplitude::Float64,initial_surface_depth::Float64)\n",
    "    return ice_thickness + initial_surface_depth + amplitude*sin( 2*pi/wavelength*x )\n",
    "end\n",
    "\n",
    "\n",
    "function ice_viscosity(T::Float64)\n",
    "    Q = 40000.0 # Activation Enegry (J/mol)\n",
    "    R_cont = 8.314 # Gas Constant (J/mol*K)\n",
    "    ice_vis = (1e15)*exp((Q*(273.0-T))/(R_cont*(273.0*T)))\n",
    "    upperlimit = 1e25\n",
    "    lowerlimit = 1e12\n",
    "    if ice_vis < lowerlimit\n",
    "        ice_vis = lowerlimit\n",
    "    elseif ice_vis > upperlimit\n",
    "        ice_vis = upperlimit\n",
    "    else \n",
    "        ice_vis = ice_vis\n",
    "    end \n",
    "    return ice_vis\n",
    "end"
   ]
  },
  {
   "cell_type": "markdown",
   "id": "c85baff6",
   "metadata": {},
   "source": [
    "# Material Setup"
   ]
  },
  {
   "cell_type": "code",
   "execution_count": 5,
   "id": "f3a42c9f",
   "metadata": {},
   "outputs": [
    {
     "data": {
      "text/plain": [
       "get_interface (generic function with 1 method)"
      ]
     },
     "execution_count": 5,
     "metadata": {},
     "output_type": "execute_result"
    }
   ],
   "source": [
    "struct Materials\n",
    "    # 1 - subsurface global ocean\n",
    "    # 2 - icy shell\n",
    "    # 3 - sticky air\n",
    "    alpha::Vector{Float64} # Thermal expansion (1/K)\n",
    "    rho0::Vector{Float64} # Density (kg/m^3)\n",
    "    Hr::Vector{Float64} # Radiogenic heat production (W/m^3)\n",
    "    Cp::Vector{Float64} # Heat capacity (J/kg*K)\n",
    "    kThermal::Vector{Float64} # Thermal conductivity (W/m*K)\n",
    "    eta::Vector{Float64} # Viscosity (Pa*s)\n",
    "    function Materials()\n",
    "        new([0.0,0.0,0.0],[1000.0,920.0,1.0],[0.0,0.0,0.0],[4180.0,2100.0,1.0e6],[0.5610,2.1,0.024],[1e12,1e15,1e17])\n",
    "    end    \n",
    "end\n",
    "\n",
    "function update_marker_prop!(markers::Markers,materials::Materials)\n",
    "    eta = markers.scalarFields[\"eta\"]\n",
    "    rho = markers.scalarFields[\"rho\"]\n",
    "    T = markers.scalarFields[\"T\"]\n",
    "    mmat = markers.integers[markers.integerFields[\"material\"],:]\n",
    "    for i in 1:markers.nmark\n",
    "        markers.scalars[rho,i] = materials.rho0[mmat[i]]\n",
    "        if mmat[i] == 2\n",
    "            markers.scalars[eta,i] = ice_viscosity(markers.scalars[T,i])\n",
    "        end\n",
    "    end\n",
    "end\n",
    "\n",
    "function update_marker_temp!(markers::Markers,materials::Materials)\n",
    "    T = markers.scalarFields[\"T\"]\n",
    "    mmat = markers.integers[markers.integerFields[\"material\"],:]\n",
    "    for i in 1:markers.nmark\n",
    "        if mmat[i] == 1 \n",
    "            markers.scalars[T,i] = 273.0\n",
    "        elseif mmat[i] == 3 \n",
    "            markers.scalars[T,i] = 100.0\n",
    "        end \n",
    "    end \n",
    "end \n",
    "\n",
    "function initial_conditions!(markers::Markers,materials::Materials,options::Dict)\n",
    "    material = markers.integerFields[\"material\"]\n",
    "    T = markers.scalarFields[\"T\"]\n",
    "    eta = markers.scalarFields[\"eta\"]\n",
    "    alpha = markers.scalarFields[\"alpha\"]\n",
    "    Cp = markers.scalarFields[\"Cp\"]\n",
    "    Hr = markers.scalarFields[\"Hr\"]\n",
    "    kThermal = markers.scalarFields[\"kThermal\"]\n",
    "    for i in 1:markers.nmark\n",
    "        mx = markers.x[1,i]\n",
    "        my = markers.x[2,i]\n",
    "        hice = initial_ice_depth(mx,options[\"ice thickness\"],options[\"wavelength\"],options[\"amplitude\"],options[\"surface depth\"])\n",
    "        hsurf = options[\"surface depth\"]\n",
    "        if my > hice\n",
    "            # subsurface global ocean\n",
    "            markers.integers[material,i] = 1\n",
    "            markers.scalars[T,i] = 273.0\n",
    "            markers.scalars[eta,i] = materials.eta[1]\n",
    "            markers.scalars[alpha,i] = materials.alpha[1]        \n",
    "            markers.scalars[Cp,i] = materials.Cp[1]\n",
    "            markers.scalars[Hr,i] = materials.Hr[1] \n",
    "            markers.scalars[kThermal,i] = materials.kThermal[1]\n",
    "        elseif my > hsurf\n",
    "            # icy shell\n",
    "            markers.integers[material,i] = 2\n",
    "            markers.scalars[T,i] = 100.0+((273.0-100.0)/(hice-hsurf))*(my-hsurf)\n",
    "            # markers.scalars[eta,i] = eta_i[i]\n",
    "            markers.scalars[alpha,i] = materials.alpha[2]\n",
    "            markers.scalars[Cp,i] = materials.Cp[2]\n",
    "            markers.scalars[Hr,i] = materials.Hr[2]\n",
    "            markers.scalars[kThermal,i] = materials.kThermal[2]\n",
    "        else\n",
    "            # sticky air\n",
    "            markers.integers[material,i] = 3\n",
    "            markers.scalars[T,i] = 100.0            \n",
    "            markers.scalars[eta,i] = materials.eta[3]\n",
    "            markers.scalars[alpha,i] = materials.alpha[3]  \n",
    "            markers.scalars[Cp,i] = materials.Cp[3]\n",
    "            markers.scalars[Hr,i] = materials.Hr[3]\n",
    "            markers.scalars[kThermal,i] = materials.kThermal[3]\n",
    "        end\n",
    "    end \n",
    "    # end loop over markers\n",
    "    update_marker_prop!(markers,materials)\n",
    "end\n",
    "\n",
    "function get_interface(grid::CartesianGrid,mat::Matrix{Float64},contour_value::Float64)\n",
    "    # Finding interfaces \n",
    "    interface_position = zeros(Float64,grid.nx+1);\n",
    "    for j in 1:grid.nx+1\n",
    "        i = 1\n",
    "        while i <= grid.ny\n",
    "            if mat[i,j] == contour_value\n",
    "                interface_position[j] = grid.yc[i]\n",
    "                break\n",
    "            elseif mat[i+1,j] < contour_value\n",
    "                # interface is located within this cell.\n",
    "                interface_position[j] = grid.yc[i] + (grid.yc[i+1]-grid.yc[i])/(mat[i+1,j]-mat[i,j])*(contour_value-mat[i,j])\n",
    "                break\n",
    "            end\n",
    "            i = i+1\n",
    "        end\n",
    "    end\n",
    "    return interface_position\n",
    "end"
   ]
  },
  {
   "cell_type": "markdown",
   "id": "06229065",
   "metadata": {},
   "source": [
    "# Model Setup"
   ]
  },
  {
   "cell_type": "code",
   "execution_count": 6,
   "id": "cf0ab9e5",
   "metadata": {
    "scrolled": true
   },
   "outputs": [
    {
     "data": {
      "text/plain": [
       "run (generic function with 1 method)"
      ]
     },
     "execution_count": 6,
     "metadata": {},
     "output_type": "execute_result"
    }
   ],
   "source": [
    "function run(options::Dict)\n",
    "    W = options[\"wavelength\"]\n",
    "    H = options[\"ice thickness\"] + options[\"surface depth\"] + options[\"amplitude\"] + 1e4\n",
    "    ny = 251\n",
    "    nx = Int64(ceil(W/H*ny))\n",
    "        \n",
    "    gx = 0.0\n",
    "    gy = 0.113 \n",
    "\n",
    "\n",
    "    Tbctype = [-1,-1,1,1] #left, right, top, bottom\n",
    "#     Tbctype = [1,-1,1,1]\n",
    "    Tbcval = [0.0,0.0,100.0,273.0] #left, right, top, bottom\n",
    "#     Tbcval = [273.0,0.0,100.0,273.0]\n",
    "    bc = BoundaryConditions(0,0,0,0) # currently does nothing but is required argument to stokes solver.\n",
    "    materials = Materials()\n",
    "\n",
    "    markx = 6\n",
    "    marky = 6\n",
    "    seconds_in_year = 3.15e7\n",
    "    plot_interval = 1e6*seconds_in_year # plot interval in seconds\n",
    "    end_time = 3e7*seconds_in_year\n",
    "    dtmax = plot_interval\n",
    "    grid = CartesianGrid(W,H,nx,ny)\n",
    "    println(\"Creating Markers...\")\n",
    "    @time markers = Markers(grid,[\"alpha\",\"T\",\"rho\",\"eta\",\"Cp\",\"Hr\",\"kThermal\"],[\"material\"] ; nmx=markx,nmy=marky,random=true)\n",
    "    println(\"Initial condition...\")\n",
    "    @time initial_conditions!(markers, materials,options)\n",
    "\n",
    "    local time_plot = []\n",
    "    local max_topo = []\n",
    "    local topography = []\n",
    "    ### Setting up agruments for interface function ###\n",
    "    # initial \n",
    "    i_mat, = marker_to_stag(markers,grid,markers.integers[[markers.integerFields[\"material\"]],:],\"center\")\n",
    "    i_air_ice_interface = get_interface(grid,i_mat,2.5)\n",
    "    i_ocean_ice_interface = get_interface(grid,i_mat,1.5)\n",
    "\n",
    "    ### Setting up agruments for termination criteria ###\n",
    "    max_step::Int64=100\n",
    "    max_time::Float64=-1.0\n",
    "    max_time = max_time == -1.0 ? typemax(Float64) : max_time\n",
    "    max_step = max_step == -1 ? typemax(Int64) : max_step\n",
    "\n",
    "    time = 0.0\n",
    "    iout= 0\n",
    "    last_plot = 0.0\n",
    "    dt = 1e10\n",
    "\n",
    "    rho_c = nothing\n",
    "    rho_vx = nothing \n",
    "    rho_vy = nothing \n",
    "    alpha = nothing \n",
    "    Hr = nothing \n",
    "    Cp_c = nothing \n",
    "    eta_s = nothing \n",
    "    eta_n = nothing \n",
    "    vxc = nothing \n",
    "    vyc = nothing \n",
    "    T = nothing \n",
    "    dTmax = nothing \n",
    "    dTemp = nothing \n",
    "    Tnew = nothing \n",
    "    Tlast = nothing \n",
    "    x_time = nothing\n",
    "    kThermal = nothing\n",
    "    ocean_ice_interface = nothing\n",
    "    mat = nothing\n",
    "\n",
    "    itime = 1\n",
    "    output_dir = \"test\"\n",
    "\n",
    "    terminate = false\n",
    "    while !terminate\n",
    "        # 0. update the markers properties  \n",
    "        update_marker_prop!(markers,materials)\n",
    "        update_marker_temp!(markers,materials)\n",
    "        # 1. Transfer properties markers -> nodes\n",
    "        # 1a. Basic Nodes\n",
    "        eta_s_new, = marker_to_stag(markers,grid,[\"eta\",],\"basic\")\n",
    "        # 1b. Cell Centers\n",
    "        rho_c_new,Cp_c_new,alpha_new,eta_n_new,Tlast_new,Hr_new,kThermal_new = marker_to_stag(markers,grid,[\"rho\",\"Cp\",\"alpha\",\"eta\",\"T\",\"Hr\",\"kThermal\"],\"center\")\n",
    "        # 1c. Vx and Vy nodes:\n",
    "        rho_vx_new, = marker_to_stag(markers,grid,[\"rho\",],\"vx\")\n",
    "        rho_vy_new, = marker_to_stag(markers,grid,[\"rho\",],\"vy\") \n",
    "\n",
    "        # deal with any NaN values from interpolation:\n",
    "        if itime > 1\n",
    "            if any(isnan.(eta_s_new))\n",
    "                println(\"found nan values\")\n",
    "            end\n",
    "            replace_nan!(eta_s,eta_s_new)\n",
    "            replace_nan!(rho_c,rho_c_new)\n",
    "            replace_nan!(Hr,Hr_new)\n",
    "            replace_nan!(Cp_c,Cp_c_new)\n",
    "            replace_nan!(alpha,alpha_new)\n",
    "            replace_nan!(eta_n,eta_n_new)\n",
    "            replace_nan!(Tlast,Tlast_new)\n",
    "            replace_nan!(rho_vx,rho_vx_new)\n",
    "            replace_nan!(rho_vy,rho_vy_new)\n",
    "            replace_nan!(kThermal,kThermal_new)\n",
    "        end\n",
    "        # Copy field data \n",
    "        kThermal = copy(kThermal_new)\n",
    "        rho_vx = copy(rho_vx_new)\n",
    "        rho_vy = copy(rho_vy_new)\n",
    "        rho_c = copy(rho_c_new)\n",
    "        Hr = copy(Hr_new)\n",
    "        Cp_c = copy(Cp_c_new)\n",
    "        alpha = copy(alpha_new)\n",
    "        eta_s = copy(eta_s_new)\n",
    "        eta_n = copy(eta_n_new)\n",
    "        Tlast = copy(Tlast_new)\n",
    "\n",
    "        if itime == 1 \n",
    "            println(Tbctype,Tbcval)\n",
    "            ghost_temperature_center(grid,Tlast,Tbctype,Tbcval)\n",
    "            cell_center_to_markers!(markers,grid,Tlast,markers.scalars[[markers.scalarFields[\"T\"],],:])\n",
    "        else\n",
    "            ghost_temperature_center(grid,Tlast,Tbctype,Tbcval)\n",
    "        end\n",
    "\n",
    "        # 2. Assemble and solve the stokes equations\n",
    "        L,R = form_stokes(grid,eta_s,eta_n,rho_vx,rho_vy,bc,gx,gy;dt=dt)\n",
    "        stokes_solution = L\\R\n",
    "        vx,vy,P = unpack(stokes_solution,grid;ghost=true)\n",
    "\n",
    "        # Get the velocity at the cell centers:\n",
    "        vxc,vyc = velocity_to_centers(grid,vx,vy)\n",
    "        adiabatic_heating = compute_adiabatic_heating(grid,rho_c,Tlast,alpha,gx,gy,vxc,vyc)*0.0\n",
    "        shear_heating = compute_shear_heating(grid,vx,vy,eta_n,eta_s)*0.0\n",
    "        H = (adiabatic_heating .+ shear_heating .+ Hr).*0.0\n",
    "\n",
    "        # 3. Compute the advection timestep\n",
    "        if itime > 1\n",
    "            this_dtmax = min(1.2*dt,dtmax)\n",
    "        else\n",
    "            this_dtmax = dtmax\n",
    "        end\n",
    "        dt = compute_timestep(grid,vxc,vyc;dtmax=this_dtmax,cfl=0.25)\n",
    "        diffusion_timestep = (grid.x[2]-grid.x[1])^2 / 1e-6\n",
    "        if dt > diffusion_timestep\n",
    "            dt = diffusion_timestep\n",
    "        end\n",
    "\n",
    "        dTmax = Inf\n",
    "        dTemp = nothing\n",
    "        Tnew = nothing\n",
    "        titer = 1\n",
    "        for titer=1:2\n",
    "            # assemble and solve the energy equation\n",
    "            println(\"Trying with timestep \",dt/seconds_in_year/1e3,\" kyr\")\n",
    "            L,R = assemble_energy_equation_center(grid,rho_c,Cp_c,kThermal,H,Tlast,dt,Tbctype,Tbcval)\n",
    "            Tnew = L\\R;\n",
    "            Tnew = reshape(Tnew,grid.ny,grid.nx);\n",
    "            Tnew = ghost_temperature_center(grid,Tnew,Tbctype,Tbcval)\n",
    "            T = copy(Tnew)\n",
    "\n",
    "            dTemp = Tnew-Tlast\n",
    "            # compute the maximum temperature change\n",
    "            dTmax = maximum(abs.(dTemp[2:end-1,2:end-1]));\n",
    "            println(\"dTmax=\",dTmax,\" dt=\",dt/seconds_in_year/1e3,\" kyr\")\n",
    "            dt = min(dt,dTmax < 10.0 ? dt : dt*10.0/dTmax)\n",
    "            if dTmax < 10.0\n",
    "                break\n",
    "            end\n",
    "        end\n",
    "\n",
    "        dT_subgrid_node = subgrid_temperature_relaxation_center!(markers,grid,Tlast,Cp_c[1,1],kThermal[1,1],dt)\n",
    "        dT_remaining = dTemp - dT_subgrid_node\n",
    "\n",
    "        cell_center_change_to_markers!(markers,grid,dT_remaining,\"T\")\n",
    "\n",
    "        # Checking Termination Criteria, time is in Myr\n",
    "        if time >= max_time || itime >= max_step\n",
    "            terminate = true\n",
    "        end    \n",
    "\n",
    "#         if time == 0.0 || mod(itime,100) == 0 || true\n",
    "#             last_plot = time \n",
    "#             # Gird output\n",
    "#             name1 = @sprintf(\"%s/viz.%04d.vtr\",output_dir,iout)\n",
    "#             println(\"Writing visualization file = \",name1)\n",
    "#             vn = velocity_to_basic_nodes(grid,vxc,vyc)\n",
    "#             visualization(grid,rho_c,eta_s,vn,P,Tnew[2:end-1,2:end-1],time/seconds_in_year;filename=name1)\n",
    "#             # Markers output\n",
    "#             name2 = @sprintf(\"%s/markers.%04d.vtp\",output_dir,iout)\n",
    "#             println(\"Writing visualization file = \",name2)\n",
    "#             visualization(markers,time/seconds_in_year;filename=name2)\n",
    "#             iout += 1\n",
    "#         end\n",
    "\n",
    "        # println(\"Min/Max velocity: \",minimum(vyc),\" \",maximum(vyc))            \n",
    "        # Moving the markers and advancing to the next timestep\n",
    "        move_markers_rk4!(markers,grid,vx,vy,dt,continuity_weight=1/3)\n",
    "        time += dt\n",
    "        itime += 1\n",
    "        println(\"Finished Step \",itime,\" time=\",time/seconds_in_year/1e3,\" kyr\")\n",
    "        mat, = marker_to_stag(markers,grid,markers.integers[[markers.integerFields[\"material\"]],:],\"center\")\n",
    "        ocean_ice_interface = get_interface(grid,mat,1.5)\n",
    "        air_ice_interface = get_interface(grid,mat,2.5)\n",
    "        append!(time_plot,time)\n",
    "#         append!(max_topo,maximum(ocean_ice_interface.-(options[\"ice thickness\"] + options[\"surface depth\"])))\n",
    "        append!(topography,[ocean_ice_interface])\n",
    "    end\n",
    "    return grid,i_mat,mat,time_plot,topography,max_step\n",
    "end"
   ]
  },
  {
   "cell_type": "code",
   "execution_count": 7,
   "id": "79124336",
   "metadata": {},
   "outputs": [],
   "source": [
    "# wavelength = [1e4,2e4,3e4,4e4,5e4,6e4,7e4,8e4,9e4]\n",
    "# function short_wavelength_model_run(wavelength::Vector{Float64})\n",
    "#     for i in range(start=1,step=1,stop=length(wavelength))\n",
    "#         options = Dict()\n",
    "#         options[\"surface depth\"] = 1e4\n",
    "#         options[\"ice thickness\"] = 1e4\n",
    "#         options[\"wavelength\"] = wavelength[i]\n",
    "#         options[\"amplitude\"] = 1e3\n",
    "#         grid,i_mat,mat,times,topography,time,max_topo,max_step = run(options);\n",
    "#         air_ice_interface = get_interface(grid,mat,2.5);\n",
    "#         ocean_ice_interface = get_interface(grid,mat,1.5);\n",
    "#         i_air_ice_interface = get_interface(grid,i_mat,2.5);\n",
    "#         i_ocean_ice_interface = get_interface(grid,i_mat,1.5);\n",
    "#         fitting_data(topography,times,max_step)\n",
    "#         println(get_time_viscous(wavelength[i]))\n",
    "#     end\n",
    "# end"
   ]
  },
  {
   "cell_type": "code",
   "execution_count": 8,
   "id": "e65c5e01",
   "metadata": {},
   "outputs": [
    {
     "data": {
      "text/plain": [
       "Any[]"
      ]
     },
     "execution_count": 8,
     "metadata": {},
     "output_type": "execute_result"
    }
   ],
   "source": [
    "# num_exp = []\n",
    "# half_space = []\n",
    "# thickening_time = []"
   ]
  },
  {
   "cell_type": "code",
   "execution_count": 9,
   "id": "20382b35",
   "metadata": {},
   "outputs": [
    {
     "data": {
      "text/plain": [
       "wavelength_model_run (generic function with 1 method)"
      ]
     },
     "execution_count": 9,
     "metadata": {},
     "output_type": "execute_result"
    }
   ],
   "source": [
    "include(\"Topo.jl\")\n",
    "include(\"FittingData.jl\")\n",
    "\n",
    "function wavelength_model_run(wavelength::Float64)\n",
    "    \n",
    "    options = Dict()\n",
    "    options[\"surface depth\"] = 1e4\n",
    "    options[\"ice thickness\"] = 1e4\n",
    "    options[\"wavelength\"] = wavelength\n",
    "    options[\"amplitude\"] = 1e3\n",
    "    \n",
    "    grid,i_mat,mat,times,topography,max_step = run(options)\n",
    "    \n",
    "    air_ice_interface = get_interface(grid,mat,2.5)\n",
    "    ocean_ice_interface = get_interface(grid,mat,1.5)\n",
    "    i_air_ice_interface = get_interface(grid,i_mat,2.5)\n",
    "    i_ocean_ice_interface = get_interface(grid,i_mat,1.5)\n",
    "\n",
    "    ths = get_time_viscous(options[\"wavelength\"])\n",
    "    tvis = get_numerical_time_viscous(i_air_ice_interface,air_ice_interface,i_ocean_ice_interface,ocean_ice_interface,last(times))\n",
    "    ttic = get_thickening_time(options[\"ice thickness\"])\n",
    "    \n",
    "    get_topography_plots(grid,i_mat,mat,i_air_ice_interface,air_ice_interface,i_ocean_ice_interface,ocean_ice_interface,topography,times,last(times))\n",
    "    fitting_data(topography,times,max_step)\n",
    "    \n",
    "    return ths,tvis,ttic\n",
    "end"
   ]
  },
  {
   "cell_type": "code",
   "execution_count": null,
   "id": "78441dd3",
   "metadata": {
    "scrolled": false
   },
   "outputs": [
    {
     "name": "stdout",
     "output_type": "stream",
     "text": [
      "Creating Markers...\n",
      "  0.244125 seconds (19 allocations: 749.921 MiB, 16.00% gc time)\n",
      "Initial condition...\n",
      "  4.590861 seconds (57.31 M allocations: 891.106 MiB, 3.46% gc time)\n",
      "[-1, -1, 1, 1][0.0, 0.0, 100.0, 273.0]\n",
      "Trying with timestep 0.48505658294177745 kyr\n",
      "dTmax=0.7809593767572096 dt=0.48505658294177745 kyr\n",
      "Finished Step 2 time=0.48505658294177745 kyr\n",
      "Trying with timestep 0.48505658294177745 kyr\n",
      "dTmax=0.7420044331301483 dt=0.48505658294177745 kyr\n",
      "Finished Step 3 time=0.9701131658835549 kyr\n",
      "Trying with timestep 0.48505658294177745 kyr\n",
      "dTmax=0.7395844412585006 dt=0.48505658294177745 kyr\n",
      "Finished Step 4 time=1.4551697488253323 kyr\n",
      "Trying with timestep 0.48505658294177745 kyr\n",
      "dTmax=0.7503032184611129 dt=0.48505658294177745 kyr\n",
      "Finished Step 5 time=1.9402263317671098 kyr\n",
      "Trying with timestep 0.48505658294177745 kyr\n",
      "dTmax=0.7546272051138203 dt=0.48505658294177745 kyr\n",
      "Finished Step 6 time=2.425282914708887 kyr\n",
      "Trying with timestep 0.48505658294177745 kyr\n",
      "dTmax=0.7630114218973176 dt=0.48505658294177745 kyr\n",
      "Finished Step 7 time=2.9103394976506642 kyr\n",
      "Trying with timestep 0.48505658294177745 kyr\n",
      "dTmax=0.7747122700068303 dt=0.48505658294177745 kyr\n",
      "Finished Step 8 time=3.3953960805924415 kyr\n",
      "Trying with timestep 0.48505658294177745 kyr\n",
      "dTmax=0.7870848650329663 dt=0.48505658294177745 kyr\n",
      "Finished Step 9 time=3.880452663534219 kyr\n",
      "Trying with timestep 0.48505658294177745 kyr\n",
      "dTmax=0.7999285765803847 dt=0.48505658294177745 kyr\n",
      "Finished Step 10 time=4.365509246475996 kyr\n",
      "Trying with timestep 0.48505658294177745 kyr\n",
      "dTmax=0.810088451449019 dt=0.48505658294177745 kyr\n",
      "Finished Step 11 time=4.850565829417774 kyr\n",
      "Trying with timestep 0.48505658294177745 kyr\n",
      "dTmax=0.820627518697961 dt=0.48505658294177745 kyr\n",
      "Finished Step 12 time=5.335622412359551 kyr\n",
      "Trying with timestep 0.48505658294177745 kyr\n",
      "dTmax=0.8331112769927813 dt=0.48505658294177745 kyr\n",
      "Finished Step 13 time=5.8206789953013285 kyr\n",
      "Trying with timestep 0.48505658294177745 kyr\n",
      "dTmax=0.8437519559503244 dt=0.48505658294177745 kyr\n",
      "Finished Step 14 time=6.305735578243106 kyr\n",
      "Trying with timestep 0.48505658294177745 kyr\n",
      "dTmax=0.852883084084624 dt=0.48505658294177745 kyr\n",
      "Finished Step 15 time=6.790792161184883 kyr\n",
      "Trying with timestep 0.48505658294177745 kyr\n",
      "dTmax=0.8608607896273384 dt=0.48505658294177745 kyr\n",
      "Finished Step 16 time=7.275848744126661 kyr\n",
      "Trying with timestep 0.48505658294177745 kyr\n",
      "dTmax=0.8678659268849174 dt=0.48505658294177745 kyr\n",
      "Finished Step 17 time=7.760905327068438 kyr\n",
      "Trying with timestep 0.48505658294177745 kyr\n",
      "dTmax=0.8740740198114167 dt=0.48505658294177745 kyr\n",
      "Finished Step 18 time=8.245961910010216 kyr\n",
      "Trying with timestep 0.48505658294177745 kyr\n",
      "dTmax=0.8794513251194189 dt=0.48505658294177745 kyr\n"
     ]
    }
   ],
   "source": [
    "wavelength = 1e5\n",
    "test_run = wavelength_model_run(wavelength)"
   ]
  },
  {
   "cell_type": "code",
   "execution_count": 16,
   "id": "feed977c",
   "metadata": {},
   "outputs": [
    {
     "data": {
      "text/plain": [
       "2-element Vector{Any}:\n",
       " [73672.8862731812, 1000.0]\n",
       " [45263.34765026524, 10000.0]"
      ]
     },
     "execution_count": 16,
     "metadata": {},
     "output_type": "execute_result"
    }
   ],
   "source": [
    "push!(num_exp,[test_run[2],wavelength])"
   ]
  },
  {
   "cell_type": "code",
   "execution_count": 17,
   "id": "1cc62c60",
   "metadata": {},
   "outputs": [
    {
     "data": {
      "text/plain": [
       "2-element Vector{Any}:\n",
       " 44129.69031591226\n",
       "  4412.969031591225"
      ]
     },
     "execution_count": 17,
     "metadata": {},
     "output_type": "execute_result"
    }
   ],
   "source": [
    "push!(half_space,test_run[1])"
   ]
  },
  {
   "cell_type": "code",
   "execution_count": 18,
   "id": "e817ac54",
   "metadata": {},
   "outputs": [
    {
     "data": {
      "text/plain": [
       "2-element Vector{Any}:\n",
       " 2.785910300361167e6\n",
       " 2.785910300361167e6"
      ]
     },
     "execution_count": 18,
     "metadata": {},
     "output_type": "execute_result"
    }
   ],
   "source": [
    "push!(thickening_time,test_run[3])"
   ]
  },
  {
   "cell_type": "code",
   "execution_count": 19,
   "id": "fa90ee36",
   "metadata": {},
   "outputs": [
    {
     "data": {
      "text/plain": [
       "2-element Vector{Any}:\n",
       " [73672.8862731812, 1000.0]\n",
       " [45263.34765026524, 10000.0]"
      ]
     },
     "metadata": {},
     "output_type": "display_data"
    },
    {
     "data": {
      "text/plain": [
       "2-element Vector{Any}:\n",
       " 44129.69031591226\n",
       "  4412.969031591225"
      ]
     },
     "metadata": {},
     "output_type": "display_data"
    },
    {
     "data": {
      "text/plain": [
       "2-element Vector{Any}:\n",
       " 2.785910300361167e6\n",
       " 2.785910300361167e6"
      ]
     },
     "metadata": {},
     "output_type": "display_data"
    }
   ],
   "source": [
    "display(num_exp)\n",
    "display(half_space)\n",
    "display(thickening_time)"
   ]
  },
  {
   "cell_type": "code",
   "execution_count": null,
   "id": "67cc271a",
   "metadata": {},
   "outputs": [],
   "source": [
    "num_exp = vcat(map(x->x',num_exp)...)"
   ]
  },
  {
   "cell_type": "code",
   "execution_count": null,
   "id": "14dd274b",
   "metadata": {},
   "outputs": [],
   "source": [
    "using DataFrames\n",
    "df = DataFrame(lambda = num_exp[:,2], numerical_time = num_exp[:,1], halfspace_time = half_space, thickening_time = thickening_time)"
   ]
  },
  {
   "cell_type": "code",
   "execution_count": null,
   "id": "69cc64c8",
   "metadata": {},
   "outputs": [],
   "source": [
    "figure()\n",
    "plot(df.lambda./1e4,df.numerical_time./df.halfspace_time,\"-o\")\n",
    "gca().set_xlabel(L\"\\frac{\\lambda}{h}\")\n",
    "gca().set_ylabel(L\"\\frac{t_{model}}{t_{halfspace}}\",rotation=0)\n",
    "gca().yaxis.set_label_coords(-0.2,0.5)\n",
    "show()"
   ]
  },
  {
   "cell_type": "code",
   "execution_count": 1,
   "id": "38a1c8ca",
   "metadata": {},
   "outputs": [
    {
     "data": {
      "text/plain": [
       "10000.0"
      ]
     },
     "execution_count": 1,
     "metadata": {},
     "output_type": "execute_result"
    }
   ],
   "source": []
  },
  {
   "cell_type": "code",
   "execution_count": 21,
   "id": "1354cea0",
   "metadata": {},
   "outputs": [
    {
     "data": {
      "text/plain": [
       "100.0"
      ]
     },
     "execution_count": 21,
     "metadata": {},
     "output_type": "execute_result"
    }
   ],
   "source": [
    "1e5/1e3"
   ]
  },
  {
   "cell_type": "code",
   "execution_count": null,
   "id": "2aaa334b",
   "metadata": {},
   "outputs": [],
   "source": []
  }
 ],
 "metadata": {
  "kernelspec": {
   "display_name": "Julia 1.8.2",
   "language": "julia",
   "name": "julia-1.8"
  },
  "language_info": {
   "file_extension": ".jl",
   "mimetype": "application/julia",
   "name": "julia",
   "version": "1.8.2"
  }
 },
 "nbformat": 4,
 "nbformat_minor": 5
}
