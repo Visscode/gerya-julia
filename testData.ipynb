{
 "cells": [
  {
   "cell_type": "markdown",
   "id": "009a0b81",
   "metadata": {},
   "source": [
    "# Opening HDF5 File"
   ]
  },
  {
   "cell_type": "code",
   "execution_count": 2,
   "id": "0d09e656",
   "metadata": {},
   "outputs": [
    {
     "data": {
      "text/plain": [
       "🗂️ HDF5.File: (read-only) SeaFreeze_table.hdf5\n",
       "├─ 📂 Entropy\n",
       "│  ├─ 🔢 Data\n",
       "│  ├─ 🔢 Dimensions\n",
       "│  ├─ 🔢 Elements\n",
       "│  ├─ 🔢 Shape\n",
       "│  ├─ 🔢 TypeofElements\n",
       "│  └─ 🔢 TypeofObject\n",
       "├─ 📂 Pressure\n",
       "│  ├─ 🔢 Data\n",
       "│  ├─ 🔢 Dimensions\n",
       "│  ├─ 🔢 Elements\n",
       "│  ├─ 🔢 Shape\n",
       "│  ├─ 🔢 TypeofElements\n",
       "│  └─ 🔢 TypeofObject\n",
       "└─ 📂 Temperature\n",
       "   ├─ 🔢 Data\n",
       "   ├─ 🔢 Dimensions\n",
       "   ├─ 🔢 Elements\n",
       "   ├─ 🔢 Shape\n",
       "   ├─ 🔢 TypeofElements\n",
       "   └─ 🔢 TypeofObject"
      ]
     },
     "execution_count": 2,
     "metadata": {},
     "output_type": "execute_result"
    }
   ],
   "source": [
    "using HDF5\n",
    "fname = \"SeaFreeze_table.hdf5\"\n",
    "# Displaying all of the file's information\n",
    "fid = h5open(fname, \"r\")"
   ]
  },
  {
   "cell_type": "code",
   "execution_count": 3,
   "id": "fd874182",
   "metadata": {},
   "outputs": [],
   "source": [
    "# Reading Data from file\n",
    "entropy = fid[\"Entropy\"];\n",
    "pressure = fid[\"Pressure\"];\n",
    "temperature = fid[\"Temperature\"];"
   ]
  },
  {
   "cell_type": "code",
   "execution_count": 4,
   "id": "6973c4a6",
   "metadata": {},
   "outputs": [
    {
     "data": {
      "text/plain": [
       "10×225 Matrix{Float64}:\n",
       " -2830.02  -2821.11  -2812.2   …  336.957  351.061  365.116  379.123\n",
       " -2830.16  -2821.26  -2812.36     334.534  348.541  362.501  376.415\n",
       " -2830.31  -2821.41  -2812.51     331.999  345.917  359.789  373.617\n",
       " -2830.45  -2821.56  -2812.67     329.358  343.193  356.984  370.731\n",
       " -2830.59  -2821.7   -2812.82     326.617  340.375  354.09   367.763\n",
       " -2830.72  -2821.84  -2812.96  …  323.781  337.468  351.113  364.716\n",
       " -2830.86  -2821.98  -2813.11     320.855  334.477  348.057  361.595\n",
       " -2830.99  -2822.12  -2813.25     317.846  331.406  344.926  358.404\n",
       " -2831.12  -2822.25  -2813.39     314.758  328.262  341.725  355.148\n",
       " -2831.25  -2822.39  -2813.53     311.596  325.048  338.459  351.83"
      ]
     },
     "metadata": {},
     "output_type": "display_data"
    },
    {
     "data": {
      "text/plain": [
       "\"No. of dimensions: 2\""
      ]
     },
     "metadata": {},
     "output_type": "display_data"
    },
    {
     "data": {
      "text/plain": [
       "\"Total number of elements: 2250\""
      ]
     },
     "metadata": {},
     "output_type": "display_data"
    },
    {
     "data": {
      "text/plain": [
       "\"Shape of array(row,col): (225, 10)\""
      ]
     },
     "metadata": {},
     "output_type": "display_data"
    },
    {
     "data": {
      "text/plain": [
       "\"Array stores elements of type: float64\""
      ]
     },
     "metadata": {},
     "output_type": "display_data"
    },
    {
     "data": {
      "text/plain": [
       "\"Array is of type: <class 'numpy.ndarray'>\""
      ]
     },
     "metadata": {},
     "output_type": "display_data"
    }
   ],
   "source": [
    "# Displaying the contents in Entropy group \n",
    "for obj in entropy\n",
    "  data = read(obj)\n",
    "  display(data)\n",
    "end\n",
    "\n",
    "# Accessing Entropy contents that I want\n",
    "ed = read(entropy, \"Data\");"
   ]
  },
  {
   "cell_type": "code",
   "execution_count": 5,
   "id": "745d4004",
   "metadata": {},
   "outputs": [
    {
     "data": {
      "text/plain": [
       "10-element Vector{Float64}:\n",
       "  0.0\n",
       " 10.0\n",
       " 20.0\n",
       " 30.0\n",
       " 40.0\n",
       " 50.0\n",
       " 60.0\n",
       " 70.0\n",
       " 80.0\n",
       " 90.0"
      ]
     },
     "metadata": {},
     "output_type": "display_data"
    },
    {
     "data": {
      "text/plain": [
       "\"No. of dimensions: 1\""
      ]
     },
     "metadata": {},
     "output_type": "display_data"
    },
    {
     "data": {
      "text/plain": [
       "\"Total number of elements: 10\""
      ]
     },
     "metadata": {},
     "output_type": "display_data"
    },
    {
     "data": {
      "text/plain": [
       "\"Shape of array(row,col): (10,)\""
      ]
     },
     "metadata": {},
     "output_type": "display_data"
    },
    {
     "data": {
      "text/plain": [
       "\"Array stores elements of type: float64\""
      ]
     },
     "metadata": {},
     "output_type": "display_data"
    },
    {
     "data": {
      "text/plain": [
       "\"Array is of type: <class 'numpy.ndarray'>\""
      ]
     },
     "metadata": {},
     "output_type": "display_data"
    }
   ],
   "source": [
    "# Displaying the data in Pressure group \n",
    "for obj in pressure\n",
    "  data = read(obj)\n",
    "  display(data)\n",
    "end\n",
    "\n",
    "# Accessing Pressure content that I want\n",
    "pd = read(pressure, \"Data\");"
   ]
  },
  {
   "cell_type": "code",
   "execution_count": 6,
   "id": "bbc2bca2",
   "metadata": {},
   "outputs": [
    {
     "data": {
      "text/plain": [
       "225-element Vector{Float64}:\n",
       "  75.0\n",
       "  76.0\n",
       "  77.0\n",
       "  78.0\n",
       "  79.0\n",
       "  80.0\n",
       "  81.0\n",
       "  82.0\n",
       "  83.0\n",
       "  84.0\n",
       "  85.0\n",
       "  86.0\n",
       "  87.0\n",
       "   ⋮\n",
       " 288.0\n",
       " 289.0\n",
       " 290.0\n",
       " 291.0\n",
       " 292.0\n",
       " 293.0\n",
       " 294.0\n",
       " 295.0\n",
       " 296.0\n",
       " 297.0\n",
       " 298.0\n",
       " 299.0"
      ]
     },
     "metadata": {},
     "output_type": "display_data"
    },
    {
     "data": {
      "text/plain": [
       "\"No. of dimensions: 1\""
      ]
     },
     "metadata": {},
     "output_type": "display_data"
    },
    {
     "data": {
      "text/plain": [
       "\"Total number of elements: 225\""
      ]
     },
     "metadata": {},
     "output_type": "display_data"
    },
    {
     "data": {
      "text/plain": [
       "\"Shape of array(row,col): (225,)\""
      ]
     },
     "metadata": {},
     "output_type": "display_data"
    },
    {
     "data": {
      "text/plain": [
       "\"Array stores elements of type: float64\""
      ]
     },
     "metadata": {},
     "output_type": "display_data"
    },
    {
     "data": {
      "text/plain": [
       "\"Array is of type: <class 'numpy.ndarray'>\""
      ]
     },
     "metadata": {},
     "output_type": "display_data"
    }
   ],
   "source": [
    "# Displaying the data in Temperature group \n",
    "for obj in temperature\n",
    "  data = read(obj)\n",
    "  display(data)\n",
    "end\n",
    "\n",
    "# Accessing Temperature content that I want\n",
    "td = read(temperature, \"Data\");"
   ]
  },
  {
   "cell_type": "markdown",
   "id": "6773e8e2",
   "metadata": {},
   "source": [
    "# Closing HDF5 File"
   ]
  },
  {
   "cell_type": "code",
   "execution_count": 7,
   "id": "2cc50465",
   "metadata": {},
   "outputs": [],
   "source": [
    "# Close file\n",
    "close(fid)"
   ]
  },
  {
   "cell_type": "code",
   "execution_count": 8,
   "id": "c3676445",
   "metadata": {},
   "outputs": [
    {
     "data": {
      "text/plain": [
       "10×225 Matrix{Float64}:\n",
       " -2830.02  -2821.11  -2812.2   …  336.957  351.061  365.116  379.123\n",
       " -2830.16  -2821.26  -2812.36     334.534  348.541  362.501  376.415\n",
       " -2830.31  -2821.41  -2812.51     331.999  345.917  359.789  373.617\n",
       " -2830.45  -2821.56  -2812.67     329.358  343.193  356.984  370.731\n",
       " -2830.59  -2821.7   -2812.82     326.617  340.375  354.09   367.763\n",
       " -2830.72  -2821.84  -2812.96  …  323.781  337.468  351.113  364.716\n",
       " -2830.86  -2821.98  -2813.11     320.855  334.477  348.057  361.595\n",
       " -2830.99  -2822.12  -2813.25     317.846  331.406  344.926  358.404\n",
       " -2831.12  -2822.25  -2813.39     314.758  328.262  341.725  355.148\n",
       " -2831.25  -2822.39  -2813.53     311.596  325.048  338.459  351.83"
      ]
     },
     "metadata": {},
     "output_type": "display_data"
    }
   ],
   "source": [
    "display(ed)"
   ]
  },
  {
   "cell_type": "code",
   "execution_count": 9,
   "id": "5696adee",
   "metadata": {},
   "outputs": [
    {
     "data": {
      "text/plain": [
       "10-element Vector{Float64}:\n",
       "  0.0\n",
       " 10.0\n",
       " 20.0\n",
       " 30.0\n",
       " 40.0\n",
       " 50.0\n",
       " 60.0\n",
       " 70.0\n",
       " 80.0\n",
       " 90.0"
      ]
     },
     "metadata": {},
     "output_type": "display_data"
    }
   ],
   "source": [
    "display(pd)"
   ]
  },
  {
   "cell_type": "code",
   "execution_count": 10,
   "id": "c4c24677",
   "metadata": {},
   "outputs": [
    {
     "data": {
      "text/plain": [
       "225-element Vector{Float64}:\n",
       "  75.0\n",
       "  76.0\n",
       "  77.0\n",
       "  78.0\n",
       "  79.0\n",
       "  80.0\n",
       "  81.0\n",
       "  82.0\n",
       "  83.0\n",
       "  84.0\n",
       "  85.0\n",
       "  86.0\n",
       "  87.0\n",
       "   ⋮\n",
       " 288.0\n",
       " 289.0\n",
       " 290.0\n",
       " 291.0\n",
       " 292.0\n",
       " 293.0\n",
       " 294.0\n",
       " 295.0\n",
       " 296.0\n",
       " 297.0\n",
       " 298.0\n",
       " 299.0"
      ]
     },
     "metadata": {},
     "output_type": "display_data"
    }
   ],
   "source": [
    "display(td)"
   ]
  },
  {
   "cell_type": "code",
   "execution_count": 11,
   "id": "c14da27f",
   "metadata": {},
   "outputs": [],
   "source": [
    "using Interpolations"
   ]
  },
  {
   "cell_type": "code",
   "execution_count": 43,
   "id": "62bba1f9",
   "metadata": {},
   "outputs": [
    {
     "data": {
      "text/plain": [
       "4.6051713372816385"
      ]
     },
     "execution_count": 43,
     "metadata": {},
     "output_type": "execute_result"
    }
   ],
   "source": [
    "f(temperature,pressure) = log(temperature+pressure)\n",
    "entropy = ed;\n",
    "pressure = pd*1e+6;\n",
    "temperature = td;\n",
    "xs = temperature\n",
    "ys = pressure\n",
    "entropy = [f(temperature,pressure) for temperature in xs, pressure in ys]\n",
    "\n",
    "# linear interpolation\n",
    "interp_linear = linear_interpolation((xs, ys), entropy)\n",
    "interp_linear(100, 1)"
   ]
  },
  {
   "cell_type": "code",
   "execution_count": 41,
   "id": "21696612",
   "metadata": {},
   "outputs": [
    {
     "data": {
      "text/plain": [
       "10-element Vector{Float64}:\n",
       " 0.0\n",
       " 1.0e7\n",
       " 2.0e7\n",
       " 3.0e7\n",
       " 4.0e7\n",
       " 5.0e7\n",
       " 6.0e7\n",
       " 7.0e7\n",
       " 8.0e7\n",
       " 9.0e7"
      ]
     },
     "execution_count": 41,
     "metadata": {},
     "output_type": "execute_result"
    }
   ],
   "source": []
  },
  {
   "cell_type": "code",
   "execution_count": 42,
   "id": "8313600b",
   "metadata": {},
   "outputs": [
    {
     "data": {
      "text/plain": [
       "225-element Vector{Float64}:\n",
       "  75.0\n",
       "  76.0\n",
       "  77.0\n",
       "  78.0\n",
       "  79.0\n",
       "  80.0\n",
       "  81.0\n",
       "  82.0\n",
       "  83.0\n",
       "  84.0\n",
       "  85.0\n",
       "  86.0\n",
       "  87.0\n",
       "   ⋮\n",
       " 288.0\n",
       " 289.0\n",
       " 290.0\n",
       " 291.0\n",
       " 292.0\n",
       " 293.0\n",
       " 294.0\n",
       " 295.0\n",
       " 296.0\n",
       " 297.0\n",
       " 298.0\n",
       " 299.0"
      ]
     },
     "execution_count": 42,
     "metadata": {},
     "output_type": "execute_result"
    }
   ],
   "source": [
    "temperature"
   ]
  },
  {
   "cell_type": "code",
   "execution_count": null,
   "id": "d5b236a4",
   "metadata": {},
   "outputs": [],
   "source": []
  }
 ],
 "metadata": {
  "kernelspec": {
   "display_name": "Julia 1.8.2",
   "language": "julia",
   "name": "julia-1.8"
  },
  "language_info": {
   "file_extension": ".jl",
   "mimetype": "application/julia",
   "name": "julia",
   "version": "1.8.2"
  }
 },
 "nbformat": 4,
 "nbformat_minor": 5
}
