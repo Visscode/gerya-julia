{
 "cells": [
  {
   "cell_type": "markdown",
   "id": "009a0b81",
   "metadata": {},
   "source": [
    "# Opening HDF5 File"
   ]
  },
  {
   "cell_type": "code",
   "execution_count": 1,
   "id": "0d09e656",
   "metadata": {},
   "outputs": [
    {
     "data": {
      "text/plain": [
       "🗂️ HDF5.File: (read-only) SeaFreeze_table_with_density.hdf5\n",
       "├─ 📂 Density\n",
       "│  ├─ 🔢 Data\n",
       "│  ├─ 🔢 Dimensions\n",
       "│  ├─ 🔢 Elements\n",
       "│  ├─ 🔢 Shape\n",
       "│  ├─ 🔢 TypeofElements\n",
       "│  └─ 🔢 TypeofObject\n",
       "├─ 📂 Entropy\n",
       "│  ├─ 🔢 Data\n",
       "│  ├─ 🔢 Dimensions\n",
       "│  ├─ 🔢 Elements\n",
       "│  ├─ 🔢 Shape\n",
       "│  ├─ 🔢 TypeofElements\n",
       "│  └─ 🔢 TypeofObject\n",
       "├─ 📂 Pressure\n",
       "│  ├─ 🔢 Data\n",
       "│  ├─ 🔢 Dimensions\n",
       "│  ├─ 🔢 Elements\n",
       "│  ├─ 🔢 Shape\n",
       "│  ├─ 🔢 TypeofElements\n",
       "│  └─ 🔢 TypeofObject\n",
       "└─ 📂 Temperature\n",
       "   ├─ 🔢 Data\n",
       "   ├─ 🔢 Dimensions\n",
       "   ├─ 🔢 Elements\n",
       "   ├─ 🔢 Shape\n",
       "   ├─ 🔢 TypeofElements\n",
       "   └─ 🔢 TypeofObject"
      ]
     },
     "execution_count": 1,
     "metadata": {},
     "output_type": "execute_result"
    }
   ],
   "source": [
    "using HDF5\n",
    "fname = \"SeaFreeze_table_with_density.hdf5\"\n",
    "# Displaying all of the file's information\n",
    "fid = h5open(fname, \"r\")"
   ]
  },
  {
   "cell_type": "code",
   "execution_count": 2,
   "id": "fd874182",
   "metadata": {},
   "outputs": [],
   "source": [
    "# Reading Data from file\n",
    "entropy = fid[\"Entropy\"];\n",
    "pressure = fid[\"Pressure\"];\n",
    "temperature = fid[\"Temperature\"];\n",
    "density = fid[\"Density\"];"
   ]
  },
  {
   "cell_type": "code",
   "execution_count": 3,
   "id": "6973c4a6",
   "metadata": {},
   "outputs": [
    {
     "data": {
      "text/plain": [
       "10×225 Matrix{Float64}:\n",
       " -2830.02  -2821.11  -2812.2   …  336.957  351.061  365.116  379.123\n",
       " -2830.16  -2821.26  -2812.36     334.534  348.541  362.501  376.415\n",
       " -2830.31  -2821.41  -2812.51     331.999  345.917  359.789  373.617\n",
       " -2830.45  -2821.56  -2812.67     329.358  343.193  356.984  370.731\n",
       " -2830.59  -2821.7   -2812.82     326.617  340.375  354.09   367.763\n",
       " -2830.72  -2821.84  -2812.96  …  323.781  337.468  351.113  364.716\n",
       " -2830.86  -2821.98  -2813.11     320.855  334.477  348.057  361.595\n",
       " -2830.99  -2822.12  -2813.25     317.846  331.406  344.926  358.404\n",
       " -2831.12  -2822.25  -2813.39     314.758  328.262  341.725  355.148\n",
       " -2831.25  -2822.39  -2813.53     311.596  325.048  338.459  351.83"
      ]
     },
     "metadata": {},
     "output_type": "display_data"
    },
    {
     "data": {
      "text/plain": [
       "\"No. of dimensions: 2\""
      ]
     },
     "metadata": {},
     "output_type": "display_data"
    },
    {
     "data": {
      "text/plain": [
       "\"Total number of elements: 2250\""
      ]
     },
     "metadata": {},
     "output_type": "display_data"
    },
    {
     "data": {
      "text/plain": [
       "\"Shape of array(row,col): (225, 10)\""
      ]
     },
     "metadata": {},
     "output_type": "display_data"
    },
    {
     "data": {
      "text/plain": [
       "\"Array stores elements of type: float64\""
      ]
     },
     "metadata": {},
     "output_type": "display_data"
    },
    {
     "data": {
      "text/plain": [
       "\"Array is of type: <class 'numpy.ndarray'>\""
      ]
     },
     "metadata": {},
     "output_type": "display_data"
    }
   ],
   "source": [
    "# Displaying the contents in Entropy group \n",
    "for obj in entropy\n",
    "  data = read(obj)\n",
    "  display(data)\n",
    "end\n",
    "\n",
    "# Accessing Entropy contents that I want\n",
    "ed = read(entropy, \"Data\");"
   ]
  },
  {
   "cell_type": "code",
   "execution_count": 4,
   "id": "745d4004",
   "metadata": {},
   "outputs": [
    {
     "data": {
      "text/plain": [
       "10-element Vector{Float64}:\n",
       "  0.0\n",
       " 10.0\n",
       " 20.0\n",
       " 30.0\n",
       " 40.0\n",
       " 50.0\n",
       " 60.0\n",
       " 70.0\n",
       " 80.0\n",
       " 90.0"
      ]
     },
     "metadata": {},
     "output_type": "display_data"
    },
    {
     "data": {
      "text/plain": [
       "\"No. of dimensions: 1\""
      ]
     },
     "metadata": {},
     "output_type": "display_data"
    },
    {
     "data": {
      "text/plain": [
       "\"Total number of elements: 10\""
      ]
     },
     "metadata": {},
     "output_type": "display_data"
    },
    {
     "data": {
      "text/plain": [
       "\"Shape of array(row,col): (10,)\""
      ]
     },
     "metadata": {},
     "output_type": "display_data"
    },
    {
     "data": {
      "text/plain": [
       "\"Array stores elements of type: float64\""
      ]
     },
     "metadata": {},
     "output_type": "display_data"
    },
    {
     "data": {
      "text/plain": [
       "\"Array is of type: <class 'numpy.ndarray'>\""
      ]
     },
     "metadata": {},
     "output_type": "display_data"
    }
   ],
   "source": [
    "# Displaying the data in Pressure group \n",
    "for obj in pressure\n",
    "  data = read(obj)\n",
    "  display(data)\n",
    "end\n",
    "\n",
    "# Accessing Pressure content that I want\n",
    "pd = read(pressure, \"Data\");"
   ]
  },
  {
   "cell_type": "code",
   "execution_count": 5,
   "id": "bbc2bca2",
   "metadata": {},
   "outputs": [
    {
     "data": {
      "text/plain": [
       "225-element Vector{Float64}:\n",
       "  75.0\n",
       "  76.0\n",
       "  77.0\n",
       "  78.0\n",
       "  79.0\n",
       "  80.0\n",
       "  81.0\n",
       "  82.0\n",
       "  83.0\n",
       "  84.0\n",
       "  85.0\n",
       "  86.0\n",
       "  87.0\n",
       "   ⋮\n",
       " 288.0\n",
       " 289.0\n",
       " 290.0\n",
       " 291.0\n",
       " 292.0\n",
       " 293.0\n",
       " 294.0\n",
       " 295.0\n",
       " 296.0\n",
       " 297.0\n",
       " 298.0\n",
       " 299.0"
      ]
     },
     "metadata": {},
     "output_type": "display_data"
    },
    {
     "data": {
      "text/plain": [
       "\"No. of dimensions: 1\""
      ]
     },
     "metadata": {},
     "output_type": "display_data"
    },
    {
     "data": {
      "text/plain": [
       "\"Total number of elements: 225\""
      ]
     },
     "metadata": {},
     "output_type": "display_data"
    },
    {
     "data": {
      "text/plain": [
       "\"Shape of array(row,col): (225,)\""
      ]
     },
     "metadata": {},
     "output_type": "display_data"
    },
    {
     "data": {
      "text/plain": [
       "\"Array stores elements of type: float64\""
      ]
     },
     "metadata": {},
     "output_type": "display_data"
    },
    {
     "data": {
      "text/plain": [
       "\"Array is of type: <class 'numpy.ndarray'>\""
      ]
     },
     "metadata": {},
     "output_type": "display_data"
    }
   ],
   "source": [
    "# Displaying the data in Temperature group \n",
    "for obj in temperature\n",
    "  data = read(obj)\n",
    "  display(data)\n",
    "end\n",
    "\n",
    "# Accessing Temperature content that I want\n",
    "td = read(temperature, \"Data\");"
   ]
  },
  {
   "cell_type": "code",
   "execution_count": 6,
   "id": "3ffc402d",
   "metadata": {},
   "outputs": [
    {
     "data": {
      "text/plain": [
       "10×225 Matrix{Float64}:\n",
       " 933.542  933.529  933.515  933.501  933.486  …   997.29   997.04   996.781\n",
       " 934.425  934.412  934.399  934.385  934.37      1001.77  1001.51  1001.24\n",
       " 935.302  935.29   935.276  935.263  935.249     1006.16  1005.88  1005.6\n",
       " 936.174  936.161  936.148  936.135  936.121     1010.45  1010.17  1009.87\n",
       " 937.039  937.027  937.014  937.0    936.987     1014.67  1014.37  1014.06\n",
       " 937.898  937.886  937.874  937.86   937.847  …  1018.79  1018.48  1018.17\n",
       " 938.752  938.74   938.728  938.715  938.701     1022.84  1022.52  1022.19\n",
       " 939.6    939.588  939.576  939.563  939.55      1026.81  1026.48  1026.14\n",
       " 940.442  940.43   940.418  940.406  940.393     1030.7   1030.36  1030.02\n",
       " 941.278  941.267  941.255  941.242  941.23      1034.52  1034.17  1033.82"
      ]
     },
     "metadata": {},
     "output_type": "display_data"
    },
    {
     "data": {
      "text/plain": [
       "\"No. of dimensions: 2\""
      ]
     },
     "metadata": {},
     "output_type": "display_data"
    },
    {
     "data": {
      "text/plain": [
       "\"Total number of elements: 2250\""
      ]
     },
     "metadata": {},
     "output_type": "display_data"
    },
    {
     "data": {
      "text/plain": [
       "\"Shape of array(row,col): (225, 10)\""
      ]
     },
     "metadata": {},
     "output_type": "display_data"
    },
    {
     "data": {
      "text/plain": [
       "\"Array stores elements of type: float64\""
      ]
     },
     "metadata": {},
     "output_type": "display_data"
    },
    {
     "data": {
      "text/plain": [
       "\"Array is of type: <class 'numpy.ndarray'>\""
      ]
     },
     "metadata": {},
     "output_type": "display_data"
    }
   ],
   "source": [
    "# Displaying the data in Density group \n",
    "for obj in density\n",
    "  data = read(obj)\n",
    "  display(data)\n",
    "end\n",
    "\n",
    "# Accessing Density content that I want\n",
    "rhod = read(density, \"Data\");"
   ]
  },
  {
   "cell_type": "markdown",
   "id": "6773e8e2",
   "metadata": {},
   "source": [
    "# Closing HDF5 File"
   ]
  },
  {
   "cell_type": "code",
   "execution_count": 7,
   "id": "2cc50465",
   "metadata": {},
   "outputs": [],
   "source": [
    "# Close file\n",
    "close(fid)"
   ]
  },
  {
   "cell_type": "code",
   "execution_count": 8,
   "id": "c3676445",
   "metadata": {},
   "outputs": [
    {
     "data": {
      "text/plain": [
       "10×225 Matrix{Float64}:\n",
       " -2830.02  -2821.11  -2812.2   …  336.957  351.061  365.116  379.123\n",
       " -2830.16  -2821.26  -2812.36     334.534  348.541  362.501  376.415\n",
       " -2830.31  -2821.41  -2812.51     331.999  345.917  359.789  373.617\n",
       " -2830.45  -2821.56  -2812.67     329.358  343.193  356.984  370.731\n",
       " -2830.59  -2821.7   -2812.82     326.617  340.375  354.09   367.763\n",
       " -2830.72  -2821.84  -2812.96  …  323.781  337.468  351.113  364.716\n",
       " -2830.86  -2821.98  -2813.11     320.855  334.477  348.057  361.595\n",
       " -2830.99  -2822.12  -2813.25     317.846  331.406  344.926  358.404\n",
       " -2831.12  -2822.25  -2813.39     314.758  328.262  341.725  355.148\n",
       " -2831.25  -2822.39  -2813.53     311.596  325.048  338.459  351.83"
      ]
     },
     "metadata": {},
     "output_type": "display_data"
    }
   ],
   "source": [
    "display(ed)"
   ]
  },
  {
   "cell_type": "code",
   "execution_count": 9,
   "id": "5696adee",
   "metadata": {},
   "outputs": [
    {
     "data": {
      "text/plain": [
       "10-element Vector{Float64}:\n",
       "  0.0\n",
       " 10.0\n",
       " 20.0\n",
       " 30.0\n",
       " 40.0\n",
       " 50.0\n",
       " 60.0\n",
       " 70.0\n",
       " 80.0\n",
       " 90.0"
      ]
     },
     "metadata": {},
     "output_type": "display_data"
    }
   ],
   "source": [
    "display(pd)"
   ]
  },
  {
   "cell_type": "code",
   "execution_count": 10,
   "id": "c4c24677",
   "metadata": {},
   "outputs": [
    {
     "data": {
      "text/plain": [
       "225-element Vector{Float64}:\n",
       "  75.0\n",
       "  76.0\n",
       "  77.0\n",
       "  78.0\n",
       "  79.0\n",
       "  80.0\n",
       "  81.0\n",
       "  82.0\n",
       "  83.0\n",
       "  84.0\n",
       "  85.0\n",
       "  86.0\n",
       "  87.0\n",
       "   ⋮\n",
       " 288.0\n",
       " 289.0\n",
       " 290.0\n",
       " 291.0\n",
       " 292.0\n",
       " 293.0\n",
       " 294.0\n",
       " 295.0\n",
       " 296.0\n",
       " 297.0\n",
       " 298.0\n",
       " 299.0"
      ]
     },
     "metadata": {},
     "output_type": "display_data"
    }
   ],
   "source": [
    "display(td)"
   ]
  },
  {
   "cell_type": "code",
   "execution_count": 11,
   "id": "c0ff517f",
   "metadata": {},
   "outputs": [
    {
     "data": {
      "text/plain": [
       "10×225 Matrix{Float64}:\n",
       " 933.542  933.529  933.515  933.501  933.486  …   997.29   997.04   996.781\n",
       " 934.425  934.412  934.399  934.385  934.37      1001.77  1001.51  1001.24\n",
       " 935.302  935.29   935.276  935.263  935.249     1006.16  1005.88  1005.6\n",
       " 936.174  936.161  936.148  936.135  936.121     1010.45  1010.17  1009.87\n",
       " 937.039  937.027  937.014  937.0    936.987     1014.67  1014.37  1014.06\n",
       " 937.898  937.886  937.874  937.86   937.847  …  1018.79  1018.48  1018.17\n",
       " 938.752  938.74   938.728  938.715  938.701     1022.84  1022.52  1022.19\n",
       " 939.6    939.588  939.576  939.563  939.55      1026.81  1026.48  1026.14\n",
       " 940.442  940.43   940.418  940.406  940.393     1030.7   1030.36  1030.02\n",
       " 941.278  941.267  941.255  941.242  941.23      1034.52  1034.17  1033.82"
      ]
     },
     "metadata": {},
     "output_type": "display_data"
    }
   ],
   "source": [
    "display(rhod)"
   ]
  },
  {
   "cell_type": "code",
   "execution_count": 12,
   "id": "c14da27f",
   "metadata": {},
   "outputs": [],
   "source": [
    "using Interpolations"
   ]
  },
  {
   "cell_type": "code",
   "execution_count": 15,
   "id": "62bba1f9",
   "metadata": {},
   "outputs": [],
   "source": [
    "entropy = ed;\n",
    "density = rhod;\n",
    "pressure = pd*1e6;\n",
    "temperature = td;\n",
    "\n",
    "# linear interpolation for entropy\n",
    "interp_linear1 = linear_interpolation((pressure,temperature),entropy)\n",
    "\n",
    "output1 = zeros(size(entropy))\n",
    "    \n",
    "for i=1:size(temperature,1)\n",
    "    for j=1:size(pressure,1)\n",
    "        output1[j,i]=interp_linear1(pressure[j],temperature[i])\n",
    "    end\n",
    "end\n",
    "\n",
    "\n",
    "# linear interpolation for density\n",
    "interp_linear2 = linear_interpolation((pressure,temperature),density)\n",
    "\n",
    "output2 = zeros(size(density))\n",
    "    \n",
    "for i=1:size(temperature,1)\n",
    "    for j=1:size(pressure,1)\n",
    "        output2[j,i]=interp_linear2(pressure[j],temperature[i])\n",
    "    end\n",
    "end"
   ]
  },
  {
   "cell_type": "code",
   "execution_count": 16,
   "id": "5c4c0298",
   "metadata": {},
   "outputs": [
    {
     "data": {
      "image/png": "[encoded data removed]",
      "text/plain": [
       "Figure(PyObject <Figure size 640x480 with 2 Axes>)"
      ]
     },
     "metadata": {},
     "output_type": "display_data"
    },
    {
     "data": {
      "image/png": "[encoded data removed]",
      "text/plain": [
       "Figure(PyObject <Figure size 640x480 with 2 Axes>)"
      ]
     },
     "metadata": {},
     "output_type": "display_data"
    }
   ],
   "source": [
    "using PyPlot\n",
    "figure()\n",
    "pcolor(temperature,pressure,output1-ed)\n",
    "colorbar()\n",
    "show()\n",
    "\n",
    "figure()\n",
    "pcolor(temperature,pressure,output2-rhod)\n",
    "colorbar()\n",
    "show()"
   ]
  },
  {
   "cell_type": "code",
   "execution_count": 17,
   "id": "21696612",
   "metadata": {},
   "outputs": [
    {
     "data": {
      "text/plain": [
       "0.0"
      ]
     },
     "execution_count": 17,
     "metadata": {},
     "output_type": "execute_result"
    }
   ],
   "source": [
    "maximum(output1-ed)"
   ]
  },
  {
   "cell_type": "code",
   "execution_count": 18,
   "id": "faf233fa",
   "metadata": {},
   "outputs": [
    {
     "data": {
      "text/plain": [
       "0.0"
      ]
     },
     "execution_count": 18,
     "metadata": {},
     "output_type": "execute_result"
    }
   ],
   "source": [
    "maximum(output2-rhod)"
   ]
  },
  {
   "cell_type": "code",
   "execution_count": null,
   "id": "8313600b",
   "metadata": {},
   "outputs": [],
   "source": [
    "entropy"
   ]
  },
  {
   "cell_type": "code",
   "execution_count": null,
   "id": "d5b236a4",
   "metadata": {},
   "outputs": [],
   "source": [
    "interp_linear[1,100]"
   ]
  },
  {
   "cell_type": "code",
   "execution_count": null,
   "id": "7559aac1",
   "metadata": {},
   "outputs": [],
   "source": [
    "interp_linear(1,100)"
   ]
  },
  {
   "cell_type": "code",
   "execution_count": null,
   "id": "c4c4e4fb",
   "metadata": {},
   "outputs": [],
   "source": []
  }
 ],
 "metadata": {
  "kernelspec": {
   "display_name": "Julia 1.8.2",
   "language": "julia",
   "name": "julia-1.8"
  },
  "language_info": {
   "file_extension": ".jl",
   "mimetype": "application/julia",
   "name": "julia",
   "version": "1.8.2"
  }
 },
 "nbformat": 4,
 "nbformat_minor": 5
}
