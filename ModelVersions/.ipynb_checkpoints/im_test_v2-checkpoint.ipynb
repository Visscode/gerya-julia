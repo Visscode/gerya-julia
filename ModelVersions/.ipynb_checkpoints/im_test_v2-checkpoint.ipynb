{
 "cells": [
  {
   "cell_type": "markdown",
   "id": "2adc0010",
   "metadata": {},
   "source": [
    "## Importing Packages"
   ]
  },
  {
   "cell_type": "code",
   "execution_count": 1,
   "id": "d5088178",
   "metadata": {
    "tags": []
   },
   "outputs": [
    {
     "data": {
      "text/plain": [
       "plots (generic function with 1 method)"
      ]
     },
     "execution_count": 1,
     "metadata": {},
     "output_type": "execute_result"
    }
   ],
   "source": [
    "\"\"\"\n",
    "Importing (using/include) packages and files needed for the code to run\n",
    "\n",
    "Topo.jl --- Topography Setup\n",
    "\n",
    "Note: that we import pyplot last to avoid a name conflict with grid\n",
    "\"\"\"\n",
    "\n",
    "using SparseArrays\n",
    "using LinearAlgebra\n",
    "using IterativeSolvers\n",
    "using WriteVTK\n",
    "using Printf\n",
    "using Statistics\n",
    "using Dates\n",
    "using HDF5\n",
    "include(\"Grid.jl\")\n",
    "include(\"Markers.jl\")\n",
    "include(\"Stokes.jl\")\n",
    "include(\"Temperature.jl\")\n",
    "include(\"GridOperations.jl\")\n",
    "# Note: that we import pyplot last to avoid a name conflict with grid\n",
    "using PyPlot\n",
    "include(\"Visualization.jl\")"
   ]
  },
  {
   "cell_type": "markdown",
   "id": "fe0acba2",
   "metadata": {},
   "source": [
    "# Topography Setup"
   ]
  },
  {
   "cell_type": "code",
   "execution_count": 2,
   "id": "32d35791",
   "metadata": {
    "tags": []
   },
   "outputs": [
    {
     "data": {
      "text/plain": [
       "ice_viscosity (generic function with 1 method)"
      ]
     },
     "execution_count": 2,
     "metadata": {},
     "output_type": "execute_result"
    }
   ],
   "source": [
    "function initial_ice_depth(x::Float64,ice_thickness::Float64,wavelength::Float64,amplitude::Float64,initial_surface_depth::Float64)\n",
    "    return ice_thickness + initial_surface_depth + amplitude*sin(2*pi/wavelength*x)\n",
    "end\n",
    "\n",
    "function ice_viscosity(T::Float64)\n",
    "    \"\"\"\n",
    "    Arguments:\n",
    "    T::Float64 --- A temperature value in (Kelvin) of float64\n",
    "\n",
    "    Returns:\n",
    "    ice_vis -- The ice viscosity in (Pa*s) that is dependent on temperature argument value\n",
    "\n",
    "    Info:\n",
    "    The equation used is a Newtonian formulation for temperature-dependent ice viscosity from Nimmo(2004)\n",
    "    \"\"\"\n",
    "    Q = 40000.0 # Activation Enegry (J/mol)\n",
    "    R_cont = 8.314 # Gas Constant (J/mol*K)\n",
    "    ice_vis = (1e15)*exp((Q*(273.0-T))/(R_cont*(273.0*T)))\n",
    "    upperlimit = 1e25\n",
    "    lowerlimit = 1e12\n",
    "    if ice_vis < lowerlimit\n",
    "        ice_vis = lowerlimit\n",
    "    elseif ice_vis > upperlimit\n",
    "        ice_vis = upperlimit\n",
    "    else \n",
    "        ice_vis = ice_vis\n",
    "    end \n",
    "    return ice_vis\n",
    "end"
   ]
  },
  {
   "cell_type": "markdown",
   "id": "c85baff6",
   "metadata": {},
   "source": [
    "# Material Setup"
   ]
  },
  {
   "cell_type": "code",
   "execution_count": 3,
   "id": "f3a42c9f",
   "metadata": {
    "tags": []
   },
   "outputs": [
    {
     "data": {
      "text/plain": [
       "fitting_data (generic function with 1 method)"
      ]
     },
     "execution_count": 3,
     "metadata": {},
     "output_type": "execute_result"
    }
   ],
   "source": [
    "struct Materials\n",
    "    # 1 - subsurface global ocean\n",
    "    # 2 - icy shell\n",
    "    # 3 - sticky air\n",
    "    alpha::Vector{Float64} # Thermal expansion (1/K)\n",
    "    rho0::Vector{Float64} # Density (kg/m^3)\n",
    "    Hr::Vector{Float64} # Radiogenic heat production (W/m^3)\n",
    "    Cp::Vector{Float64} # Heat capacity (J/kg*K)\n",
    "    kThermal::Vector{Float64} # Thermal conductivity (W/m*K)\n",
    "    eta::Vector{Float64} # Viscosity (Pa*s)\n",
    "    function Materials()\n",
    "        new([0.0,0.0,0.0],[1000.0,920.0,1.0],[0.0,0.0,0.0],[4180.0,2100.0,1.0e6],[0.5610,2.1,0.024],[1e12,1e15,1e17])\n",
    "    end    \n",
    "end\n",
    "\n",
    "function update_marker_prop!(markers::Markers,materials::Materials)\n",
    "    eta = markers.scalarFields[\"eta\"]\n",
    "    rho = markers.scalarFields[\"rho\"]\n",
    "    T = markers.scalarFields[\"T\"]\n",
    "    mmat = markers.integers[markers.integerFields[\"material\"],:]\n",
    "    for i in 1:markers.nmark\n",
    "        markers.scalars[rho,i] = materials.rho0[mmat[i]]\n",
    "        if mmat[i] == 2\n",
    "            markers.scalars[eta,i] = ice_viscosity(markers.scalars[T,i])\n",
    "        end\n",
    "    end\n",
    "end\n",
    "\n",
    "function update_marker_temp!(markers::Markers,materials::Materials)\n",
    "    T = markers.scalarFields[\"T\"]\n",
    "    mmat = markers.integers[markers.integerFields[\"material\"],:]\n",
    "    for i in 1:markers.nmark\n",
    "        if mmat[i] == 1 \n",
    "            markers.scalars[T,i] = 273.0\n",
    "        elseif mmat[i] == 3 \n",
    "            markers.scalars[T,i] = 100.0\n",
    "        end \n",
    "    end \n",
    "end \n",
    "\n",
    "function initial_conditions!(markers::Markers,materials::Materials,options::Dict)\n",
    "    material = markers.integerFields[\"material\"]\n",
    "    T = markers.scalarFields[\"T\"]\n",
    "    eta = markers.scalarFields[\"eta\"]\n",
    "    alpha = markers.scalarFields[\"alpha\"]\n",
    "    Cp = markers.scalarFields[\"Cp\"]\n",
    "    Hr = markers.scalarFields[\"Hr\"]\n",
    "    kThermal = markers.scalarFields[\"kThermal\"]\n",
    "    for i in 1:markers.nmark\n",
    "        mx = markers.x[1,i]\n",
    "        my = markers.x[2,i]\n",
    "        hice = initial_ice_depth(mx,options[\"ice thickness\"],options[\"wavelength\"],options[\"amplitude\"],options[\"surface depth\"])\n",
    "        hsurf = options[\"surface depth\"]\n",
    "        if my > hice\n",
    "            # subsurface global ocean\n",
    "            markers.integers[material,i] = 1\n",
    "            markers.scalars[T,i] = 273.0\n",
    "            markers.scalars[eta,i] = materials.eta[1]\n",
    "            markers.scalars[alpha,i] = materials.alpha[1]        \n",
    "            markers.scalars[Cp,i] = materials.Cp[1]\n",
    "            markers.scalars[Hr,i] = materials.Hr[1] \n",
    "            markers.scalars[kThermal,i] = materials.kThermal[1]\n",
    "        elseif my > hsurf\n",
    "            # icy shell\n",
    "            markers.integers[material,i] = 2\n",
    "            markers.scalars[T,i] = 100.0+((273.0-100.0)/(hice-hsurf))*(my-hsurf)\n",
    "            # markers.scalars[eta,i] = eta_i[i]\n",
    "            markers.scalars[alpha,i] = materials.alpha[2]\n",
    "            markers.scalars[Cp,i] = materials.Cp[2]\n",
    "            markers.scalars[Hr,i] = materials.Hr[2]\n",
    "            markers.scalars[kThermal,i] = materials.kThermal[2]\n",
    "        else\n",
    "            # sticky air\n",
    "            markers.integers[material,i] = 3\n",
    "            markers.scalars[T,i] = 100.0            \n",
    "            markers.scalars[eta,i] = materials.eta[3]\n",
    "            markers.scalars[alpha,i] = materials.alpha[3]  \n",
    "            markers.scalars[Cp,i] = materials.Cp[3]\n",
    "            markers.scalars[Hr,i] = materials.Hr[3]\n",
    "            markers.scalars[kThermal,i] = materials.kThermal[3]\n",
    "        end\n",
    "    end \n",
    "    # end loop over markers\n",
    "    update_marker_prop!(markers,materials)\n",
    "end\n",
    "\n",
    "function get_interface(grid::CartesianGrid,mat::Matrix{Float64},contour_value::Float64)\n",
    "    # Finding interfaces \n",
    "    interface_position = zeros(Float64,grid.nx+1);\n",
    "    for j in 1:grid.nx+1\n",
    "        i = 2\n",
    "        while i <= grid.ny\n",
    "            if mat[i,j] == contour_value\n",
    "                interface_position[j] = grid.yc[i]\n",
    "                break\n",
    "            elseif mat[i+1,j] < contour_value\n",
    "                # interface is located within this cell.\n",
    "                interface_position[j] = grid.yc[i] + (grid.yc[i+1]-grid.yc[i])/(mat[i+1,j]-mat[i,j])*(contour_value-mat[i,j])\n",
    "                break\n",
    "            end\n",
    "            i = i+1\n",
    "        end\n",
    "    end\n",
    "    return interface_position\n",
    "end\n",
    "\n",
    "include(\"Topo.jl\")\n",
    "include(\"FittingData.jl\")\n",
    "include(\"Outputs.jl\")\n",
    "include(\"ProfilePlots.jl\")"
   ]
  },
  {
   "cell_type": "markdown",
   "id": "06229065",
   "metadata": {},
   "source": [
    "# Model Setup"
   ]
  },
  {
   "cell_type": "code",
   "execution_count": 4,
   "id": "cf0ab9e5",
   "metadata": {
    "scrolled": true,
    "tags": []
   },
   "outputs": [
    {
     "data": {
      "text/plain": [
       "run (generic function with 1 method)"
      ]
     },
     "execution_count": 4,
     "metadata": {},
     "output_type": "execute_result"
    }
   ],
   "source": [
    "include(\"Outputs.jl\")\n",
    "include(\"ProfilePlots.jl\")\n",
    "function run(options::Dict)\n",
    "    W = options[\"wavelength\"]\n",
    "    H = options[\"ice thickness\"] + options[\"surface depth\"] + options[\"amplitude\"] + 1e4\n",
    "    ny = 251\n",
    "    nx = Int64(ceil(W/H*ny))\n",
    "        \n",
    "    gx = 0.0\n",
    "    gy = 0.113 \n",
    "\n",
    "    Tbctype = [-1,-1,1,1] #left, right, top, bottom\n",
    "#     Tbctype = [1,-1,1,1]\n",
    "    Tbcval = [0.0,0.0,100.0,273.0] #left, right, top, bottom\n",
    "#     Tbcval = [273.0,0.0,100.0,273.0]\n",
    "    bc = BoundaryConditions(0,0,0,0) # currently does nothing but is required argument to stokes solver.\n",
    "    materials = Materials()\n",
    "\n",
    "    markx = 6\n",
    "    marky = 6\n",
    "    seconds_in_year = 3.15e7\n",
    "    plot_interval = 1e6*seconds_in_year # plot interval in seconds\n",
    "    end_time = 3e7*seconds_in_year\n",
    "    dtmax = plot_interval\n",
    "    grid = CartesianGrid(W,H,nx,ny)\n",
    "    println(\"Creating Markers...\")\n",
    "    @time markers = Markers(grid,[\"alpha\",\"T\",\"rho\",\"eta\",\"Cp\",\"Hr\",\"kThermal\"],[\"material\"] ; nmx=markx,nmy=marky,random=true)\n",
    "    println(\"Initial condition...\")\n",
    "    @time initial_conditions!(markers, materials,options)\n",
    "\n",
    "    local time_plot = []\n",
    "    # local max_topo = []\n",
    "    local topography = []\n",
    "    \n",
    "    ### Setting up agruments for interface function ###\n",
    "    # initial \n",
    "    i_mat, = marker_to_stag(markers,grid,markers.integers[[markers.integerFields[\"material\"]],:],\"center\")\n",
    "    i_air_ice_interface = get_interface(grid,i_mat,2.5)\n",
    "    i_ocean_ice_interface = get_interface(grid,i_mat,1.5)\n",
    "    initial_max_ice_shell_thickness = maximum(i_ocean_ice_interface-i_air_ice_interface)\n",
    "    initial_avg_ice_shell_thickness = mean(i_ocean_ice_interface-i_air_ice_interface)\n",
    "    Ai = initial_max_ice_shell_thickness-initial_avg_ice_shell_thickness\n",
    "\n",
    "    ### Setting up agruments for termination criteria ###\n",
    "    max_step::Int64=10\n",
    "    max_time::Float64=-1.0\n",
    "    max_time = max_time == -1.0 ? typemax(Float64) : max_time\n",
    "    max_step = max_step == -1 ? typemax(Int64) : max_step\n",
    "\n",
    "    time = 0.0\n",
    "    iout= 0\n",
    "    last_plot = 0.0\n",
    "    dt = 1e10\n",
    "\n",
    "    rho_c = nothing\n",
    "    rho_vx = nothing \n",
    "    rho_vy = nothing \n",
    "    alpha = nothing \n",
    "    Hr = nothing \n",
    "    Cp_c = nothing \n",
    "    eta_s = nothing \n",
    "    eta_n = nothing \n",
    "    vxc = nothing \n",
    "    vyc = nothing \n",
    "    T = nothing \n",
    "    dTmax = nothing \n",
    "    dTemp = nothing \n",
    "    Tnew = nothing \n",
    "    Tlast = nothing \n",
    "    x_time = nothing\n",
    "    kThermal = nothing\n",
    "    ocean_ice_interface = nothing\n",
    "    mat = nothing\n",
    "\n",
    "    itime = 1\n",
    "    output_dir = \"test\"\n",
    "\n",
    "    terminate = false\n",
    "    while !terminate\n",
    "        # 0. update the markers properties  \n",
    "        update_marker_prop!(markers,materials)\n",
    "        update_marker_temp!(markers,materials)\n",
    "        # 1. Transfer properties markers -> nodes\n",
    "        # 1a. Basic Nodes\n",
    "        eta_s_new, = marker_to_stag(markers,grid,[\"eta\",],\"basic\")\n",
    "        # 1b. Cell Centers\n",
    "        rho_c_new,Cp_c_new,alpha_new,eta_n_new,Tlast_new,Hr_new,kThermal_new = marker_to_stag(markers,grid,[\"rho\",\"Cp\",\"alpha\",\"eta\",\"T\",\"Hr\",\"kThermal\"],\"center\")\n",
    "        # 1c. Vx and Vy nodes:\n",
    "        rho_vx_new, = marker_to_stag(markers,grid,[\"rho\",],\"vx\")\n",
    "        rho_vy_new, = marker_to_stag(markers,grid,[\"rho\",],\"vy\") \n",
    "\n",
    "        # deal with any NaN values from interpolation:\n",
    "        if itime > 1\n",
    "            if any(isnan.(eta_s_new))\n",
    "                println(\"found nan values\")\n",
    "            end\n",
    "            replace_nan!(eta_s,eta_s_new)\n",
    "            replace_nan!(rho_c,rho_c_new)\n",
    "            replace_nan!(Hr,Hr_new)\n",
    "            replace_nan!(Cp_c,Cp_c_new)\n",
    "            replace_nan!(alpha,alpha_new)\n",
    "            replace_nan!(eta_n,eta_n_new)\n",
    "            replace_nan!(Tlast,Tlast_new)\n",
    "            replace_nan!(rho_vx,rho_vx_new)\n",
    "            replace_nan!(rho_vy,rho_vy_new)\n",
    "            replace_nan!(kThermal,kThermal_new)\n",
    "        end\n",
    "        # Copy field data \n",
    "        eta_s = copy(eta_s_new)\n",
    "        rho_c = copy(rho_c_new)\n",
    "        Hr = copy(Hr_new)\n",
    "        Cp_c = copy(Cp_c_new)\n",
    "        alpha = copy(alpha_new)\n",
    "        eta_n = copy(eta_n_new)\n",
    "        Tlast = copy(Tlast_new)\n",
    "        rho_vx = copy(rho_vx_new)\n",
    "        rho_vy = copy(rho_vy_new)\n",
    "        kThermal = copy(kThermal_new)\n",
    "\n",
    "        if itime == 1 \n",
    "#             println(Tbctype,Tbcval)\n",
    "            ghost_temperature_center(grid,Tlast,Tbctype,Tbcval)\n",
    "            cell_center_to_markers!(markers,grid,Tlast,markers.scalars[[markers.scalarFields[\"T\"],],:])\n",
    "        else\n",
    "            ghost_temperature_center(grid,Tlast,Tbctype,Tbcval)\n",
    "        end\n",
    "\n",
    "        # 2. Assemble and solve the stokes equations\n",
    "        L,R = form_stokes(grid,eta_s,eta_n,rho_vx,rho_vy,bc,gx,gy;dt=dt)\n",
    "        stokes_solution = L\\R\n",
    "        vx,vy,P = unpack(stokes_solution,grid;ghost=true)\n",
    "\n",
    "        # Get the velocity at the cell centers:\n",
    "        vxc,vyc = velocity_to_centers(grid,vx,vy)\n",
    "        adiabatic_heating = compute_adiabatic_heating(grid,rho_c,Tlast,alpha,gx,gy,vxc,vyc)*0.0\n",
    "        shear_heating = compute_shear_heating(grid,vx,vy,eta_n,eta_s)*0.0\n",
    "        H = (adiabatic_heating .+ shear_heating .+ Hr).*0.0\n",
    "\n",
    "        # 3. Compute the advection timestep\n",
    "        if itime > 1\n",
    "            this_dtmax = min(1.2*dt,dtmax)\n",
    "        else\n",
    "            this_dtmax = dtmax\n",
    "        end\n",
    "        dt = compute_timestep(grid,vxc,vyc;dtmax=this_dtmax,cfl=0.25)\n",
    "        diffusion_timestep = (grid.x[2]-grid.x[1])^2 / 1e-6\n",
    "        if dt > diffusion_timestep\n",
    "            dt = diffusion_timestep\n",
    "        end\n",
    "\n",
    "        dTmax = Inf\n",
    "        dTemp = nothing\n",
    "        Tnew = nothing\n",
    "        titer = 1\n",
    "        for titer=1:2\n",
    "            # assemble and solve the energy equation\n",
    "            # println(\"Trying with timestep \",dt/seconds_in_year/1e3,\" kyr\")\n",
    "            L,R = assemble_energy_equation_center(grid,rho_c,Cp_c,kThermal,H,Tlast,dt,Tbctype,Tbcval)\n",
    "            Tnew = L\\R;\n",
    "            Tnew = reshape(Tnew,grid.ny,grid.nx);\n",
    "            Tnew = ghost_temperature_center(grid,Tnew,Tbctype,Tbcval)\n",
    "            T = copy(Tnew)\n",
    "\n",
    "            dTemp = Tnew-Tlast\n",
    "            # compute the maximum temperature change\n",
    "            dTmax = maximum(abs.(dTemp[2:end-1,2:end-1]));\n",
    "            # println(\"dTmax=\",dTmax,\" dt=\",dt/seconds_in_year/1e3,\" kyr\")\n",
    "            dt = min(dt,dTmax < 10.0 ? dt : dt*10.0/dTmax)\n",
    "            if dTmax < 10.0\n",
    "                break\n",
    "            end\n",
    "        end\n",
    "\n",
    "        dT_subgrid_node = subgrid_temperature_relaxation_center!(markers,grid,Tlast,Cp_c[1,1],kThermal[1,1],dt)\n",
    "        dT_remaining = dTemp - dT_subgrid_node\n",
    "\n",
    "        cell_center_change_to_markers!(markers,grid,dT_remaining,\"T\")\n",
    "\n",
    "        # Checking Termination Criteria, time is in Myr\n",
    "        if time >= max_time || itime >= max_step\n",
    "            terminate = true\n",
    "        end\n",
    "                \n",
    "        # Checking Termination Criteria, using A/Ai = 1/e\n",
    "        mat, = marker_to_stag(markers,grid,markers.integers[[markers.integerFields[\"material\"]],:],\"center\")\n",
    "        ocean_ice_interface = get_interface(grid,mat,1.5)\n",
    "        air_ice_interface = get_interface(grid,mat,2.5)\n",
    "        max_ice_shell_thickness = maximum(ocean_ice_interface-air_ice_interface)\n",
    "        avg_ice_shell_thickness = mean(ocean_ice_interface-air_ice_interface)\n",
    "        Af = max_ice_shell_thickness-avg_ice_shell_thickness\n",
    "        if isapprox(Af/Ai,1/exp(1);rtol=0.1)\n",
    "            # Af/Ai >= 1/exp(1)\n",
    "            terminate = true\n",
    "            # println(\"Finished Step \",itime,\" time=\",time/seconds_in_year/1e3,\" kyr\")\n",
    "        end   \n",
    "        \n",
    "#         if time == 0.0 || mod(itime,100) == 0 || true\n",
    "#             last_plot = time \n",
    "#             # Gird output\n",
    "#             name1 = @sprintf(\"%s/viz.%04d.vtr\",output_dir,iout)\n",
    "#             println(\"Writing visualization file = \",name1)\n",
    "#             vn = velocity_to_basic_nodes(grid,vxc,vyc)\n",
    "#             visualization(grid,rho_c,eta_s,vn,P,Tnew[2:end-1,2:end-1],time/seconds_in_year;filename=name1)\n",
    "#             # Markers output\n",
    "#             name2 = @sprintf(\"%s/markers.%04d.vtp\",output_dir,iout)\n",
    "#             println(\"Writing visualization file = \",name2)\n",
    "#             visualization(markers,time/seconds_in_year;filename=name2)\n",
    "#             iout += 1\n",
    "#         end\n",
    "\n",
    "        # println(\"Min/Max velocity: \",minimum(vyc),\" \",maximum(vyc))            \n",
    "        # Moving the markers and advancing to the next timestep\n",
    "        move_markers_rk4!(markers,grid,vx,vy,dt,continuity_weight=1/3)\n",
    "        time += dt\n",
    "        itime += 1\n",
    "        println(\"Finished Step \",itime,\" time=\",time/seconds_in_year/1e3,\" kyr\")\n",
    "        append!(time_plot,time)\n",
    "#         append!(max_topo,maximum(ocean_ice_interface.-(options[\"ice thickness\"] + options[\"surface depth\"])))\n",
    "        append!(topography,[ocean_ice_interface]) \n",
    "    end\n",
    "    return grid,i_mat,mat,time_plot,topography,time,itime\n",
    "end"
   ]
  },
  {
   "cell_type": "code",
   "execution_count": null,
   "id": "6d0612e7-1aaa-4349-a7bc-873a0f7e1ea9",
   "metadata": {},
   "outputs": [],
   "source": [
    "# options = Dict()\n",
    "# options[\"wavelength\"] = 1e4\n",
    "# options[\"ice thickness\"] = 1e4\n",
    "# options[\"surface depth\"] = 0.50*options[\"ice thickness\"]\n",
    "# options[\"amplitude\"] = 0.10*options[\"ice thickness\"]\n",
    "\n",
    "# grid,i_mat,mat,times,topography = run(options)\n",
    "\n",
    "# i_air_ice_interface = get_interface(grid,i_mat,2.5)\n",
    "# i_ocean_ice_interface = get_interface(grid,i_mat,1.5)\n",
    "# air_ice_interface = get_interface(grid,mat,2.5)\n",
    "# ocean_ice_interface = get_interface(grid,mat,1.5)"
   ]
  },
  {
   "cell_type": "code",
   "execution_count": 6,
   "id": "79124336",
   "metadata": {
    "tags": []
   },
   "outputs": [
    {
     "data": {
      "text/plain": [
       "model_run (generic function with 1 method)"
      ]
     },
     "execution_count": 6,
     "metadata": {},
     "output_type": "execute_result"
    }
   ],
   "source": [
    "function model_run()\n",
    "    # top_dir = mk_modelrun_dir()\n",
    "    options = Dict()\n",
    "    nlambda = 2\n",
    "    nhice = 2\n",
    "    local lambda = range(10.0,25.0,nlambda)\n",
    "    local hice = range(10.0,25.0,nhice)\n",
    "    t_halfspace = zeros(nlambda,nhice)\n",
    "    t_vis = zeros(nlambda,nhice)\n",
    "    t_tic = zeros(nlambda,nhice)\n",
    "    t_vis_fitted = zeros(nlambda,nhice)\n",
    "    for i in 1:nlambda\n",
    "        # sub_dir,sub_dir_plots,sub_dir_data = mk_output_dir(top_dir,i)\n",
    "        for j in 1:nhice\n",
    "            options[\"wavelength\"] = lambda[i]*1e3\n",
    "            options[\"ice thickness\"] = hice[j]*1e3\n",
    "            if options[\"wavelength\"] >= options[\"ice thickness\"]\n",
    "                options[\"surface depth\"] = 0.50*options[\"ice thickness\"]\n",
    "                options[\"amplitude\"] = 0.10*options[\"ice thickness\"]\n",
    "                println(\"Using Wavelength: \",options[\"wavelength\"]/1e3,\"(km)\")\n",
    "                println(\"Using Ice Shell Thickness: \",options[\"ice thickness\"]/1e3,\"(km)\")\n",
    "                # model_runtime(sub_dir,\"Start\")\n",
    "                grid,i_mat,mat,times,topography,time,itime = run(options)\n",
    "                # model_runtime(sub_dir,\"End\")\n",
    "                air_ice_interface = get_interface(grid,mat,2.5)\n",
    "                ocean_ice_interface = get_interface(grid,mat,1.5)\n",
    "                i_air_ice_interface = get_interface(grid,i_mat,2.5)\n",
    "                i_ocean_ice_interface = get_interface(grid,i_mat,1.5)\n",
    "                ths = get_halfspace_time_viscous(options[\"wavelength\"])\n",
    "                t_halfspace[i,j] = ths\n",
    "                tvis = get_numerical_time_viscous(i_air_ice_interface,air_ice_interface,i_ocean_ice_interface,ocean_ice_interface,last(times))\n",
    "                t_vis[i,j] = tvis\n",
    "                ttic = get_thickening_time(options[\"ice thickness\"])\n",
    "                t_tic[i,j] = ttic\n",
    "                t_vis_fitted[i,j] = fitting_data(topography,times,itime)\n",
    "                # get_topography_plots(grid,i_mat,mat,i_air_ice_interface,air_ice_interface,i_ocean_ice_interface,ocean_ice_interface,topography,times,time,itime,sub_dir_plots)\n",
    "            end\n",
    "        end\n",
    "    end\n",
    "    return lambda,hice,t_halfspace,t_vis,t_tic,t_vis_fitted\n",
    "#     lambda = vcat(map(x->x',lambda)...)\n",
    "#     hice = vcat(map(x->x',hice)...)\n",
    "\n",
    "#     h5open(top_dir*\"/modelruntest.hdf5\", \"w\") do file\n",
    "#         println(\"Creating HDF5 File\")\n",
    "#         println(\"Saving Data into a HDF5 File\")\n",
    "#         # Creating Groups for Data\n",
    "#         g = create_group(file, \"Model Run\")\n",
    "#         # Storing Data Inside the Group\n",
    "#         g[\"Wavelength\"] = lambda[:]\n",
    "#         g[\"Ice Shell Thickness\"] = hice[:]\n",
    "#         g[\"Relaxation Time(Model)\"] = t_vis\n",
    "#         g[\"Relaxation Time(Halfspace)\"] = t_halfspace \n",
    "#         g[\"Thickening Time\"] = t_tic\n",
    "#         # Apply an Attribute to Groups\n",
    "#         attrs(g)[\"Description\"] = \"This group contains only a 4 dataset\"\n",
    "#         println(\"Finished Saving Data into a HDF5 File\")\n",
    "#     end\n",
    "end"
   ]
  },
  {
   "cell_type": "code",
   "execution_count": 7,
   "id": "18186cda",
   "metadata": {
    "scrolled": true,
    "tags": []
   },
   "outputs": [
    {
     "name": "stdout",
     "output_type": "stream",
     "text": [
      "Using Wavelength: 10.0(km)\n",
      "Using Ice Shell Thickness: 10.0(km)\n",
      "Creating Markers...\n",
      "  0.085702 seconds (19 allocations: 88.991 MiB, 71.82% gc time)\n",
      "Initial condition...\n",
      "  0.638466 seconds (7.30 M allocations: 114.786 MiB, 3.66% gc time, 10.43% compilation time)\n",
      "Finished Step 2 time=0.34446649029982357 kyr\n",
      "Finished Step 3 time=0.6889329805996471 kyr\n",
      "Finished Step 4 time=1.0333994708994707 kyr\n",
      "Finished Step 5 time=1.3778659611992943 kyr\n",
      "Finished Step 6 time=1.7223324514991178 kyr\n",
      "Finished Step 7 time=2.0667989417989414 kyr\n",
      "Finished Step 8 time=2.411265432098765 kyr\n",
      "Finished Step 9 time=2.7557319223985886 kyr\n",
      "Finished Step 10 time=3.100198412698412 kyr\n",
      "Finished Step 11 time=3.4446649029982357 kyr\n",
      "Using Wavelength: 25.0(km)\n",
      "Using Ice Shell Thickness: 10.0(km)\n",
      "Creating Markers...\n",
      "  0.097640 seconds (25 allocations: 223.402 MiB, 38.90% gc time)\n",
      "Initial condition...\n",
      "  1.466209 seconds (18.27 M allocations: 283.717 MiB, 4.13% gc time)\n",
      "Finished Step 2 time=0.3416137780215534 kyr\n",
      "Finished Step 3 time=0.6832275560431068 kyr\n",
      "Finished Step 4 time=1.0248413340646603 kyr\n",
      "Finished Step 5 time=1.3664551120862136 kyr\n",
      "Finished Step 6 time=1.708068890107767 kyr\n",
      "Finished Step 7 time=2.0496826681293205 kyr\n",
      "Finished Step 8 time=2.391296446150874 kyr\n",
      "Finished Step 9 time=2.7329102241724272 kyr\n",
      "Finished Step 10 time=3.0745240021939804 kyr\n",
      "Finished Step 11 time=3.4161377802155335 kyr\n",
      "Using Wavelength: 25.0(km)\n",
      "Using Ice Shell Thickness: 25.0(km)\n",
      "Creating Markers...\n",
      "  0.014678 seconds (19 allocations: 115.873 MiB)\n",
      "Initial condition...\n",
      "  0.757540 seconds (10.97 M allocations: 169.924 MiB)\n",
      "Finished Step 2 time=0.2205673485280123 kyr\n",
      "Finished Step 3 time=0.4420244756007462 kyr\n",
      "Finished Step 4 time=0.664873288403797 kyr\n",
      "Finished Step 5 time=0.8892030981804079 kyr\n",
      "Finished Step 6 time=1.1149693433827197 kyr\n",
      "Finished Step 7 time=1.3423748158881894 kyr\n",
      "Finished Step 8 time=1.5712833668930328 kyr\n",
      "Finished Step 9 time=1.8017832846888968 kyr\n",
      "Finished Step 10 time=2.03395863431763 kyr\n",
      "Finished Step 11 time=2.2678651457989525 kyr\n"
     ]
    },
    {
     "data": {
      "text/plain": [
       "(10.0:15.0:25.0, 10.0:15.0:25.0, [3530.3752252729796 0.0; 1412.1500901091922 1412.1500901091922], [35815.09960735488 0.0; 69043.17523823363 14808.289682910156], [2785.910300361167 0.0; 2785.910300361167 17411.939377257295], [3444.664902998236 0.0; 3416.1377802155334 2267.8651457989527])"
      ]
     },
     "execution_count": 7,
     "metadata": {},
     "output_type": "execute_result"
    }
   ],
   "source": [
    "lambda,hice,t_halfspace,t_vis,t_tic,t_vis_fitted = model_run()"
   ]
  },
  {
   "cell_type": "code",
   "execution_count": 8,
   "id": "e5f89d56-3e16-4441-8919-6cf5215358b7",
   "metadata": {},
   "outputs": [
    {
     "data": {
      "text/plain": [
       "2-element Vector{Float64}:\n",
       " 10.0\n",
       " 25.0"
      ]
     },
     "execution_count": 8,
     "metadata": {},
     "output_type": "execute_result"
    }
   ],
   "source": [
    "lambda = vcat(map(x->x',lambda)...)"
   ]
  },
  {
   "cell_type": "code",
   "execution_count": 9,
   "id": "c38d94dc-30e2-4a55-8f4e-8df680085701",
   "metadata": {},
   "outputs": [
    {
     "data": {
      "text/plain": [
       "2-element Vector{Float64}:\n",
       " 10.0\n",
       " 25.0"
      ]
     },
     "execution_count": 9,
     "metadata": {},
     "output_type": "execute_result"
    }
   ],
   "source": [
    "hice = vcat(map(x->x',hice)...)"
   ]
  },
  {
   "cell_type": "code",
   "execution_count": 10,
   "id": "95af8af8-cca7-4b9d-aab5-6ea4de2e85e4",
   "metadata": {
    "tags": []
   },
   "outputs": [
    {
     "data": {
      "text/plain": [
       "2×2 Matrix{Float64}:\n",
       " 35815.1      0.0\n",
       " 69043.2  14808.3"
      ]
     },
     "metadata": {},
     "output_type": "display_data"
    },
    {
     "data": {
      "text/plain": [
       "2×2 Matrix{Float64}:\n",
       " 3444.66     0.0\n",
       " 3416.14  2267.87"
      ]
     },
     "metadata": {},
     "output_type": "display_data"
    },
    {
     "data": {
      "text/plain": [
       "2×2 Matrix{Float64}:\n",
       " 3530.38     0.0\n",
       " 1412.15  1412.15"
      ]
     },
     "metadata": {},
     "output_type": "display_data"
    }
   ],
   "source": [
    "display(t_vis)\n",
    "display(t_vis_fitted)\n",
    "display(t_halfspace)"
   ]
  },
  {
   "cell_type": "code",
   "execution_count": 11,
   "id": "5d03b631-2ca9-4a38-8727-1d4e4e5e1a0a",
   "metadata": {
    "tags": []
   },
   "outputs": [
    {
     "data": {
      "text/plain": [
       "2×2 Matrix{Float64}:\n",
       " 10.1448   0.0\n",
       " 15.3624  10.4863"
      ]
     },
     "metadata": {},
     "output_type": "display_data"
    }
   ],
   "source": [
    "display(t_vis/t_halfspace)"
   ]
  },
  {
   "cell_type": "code",
   "execution_count": 12,
   "id": "b60cab36-411f-40ed-8fb0-ec521aaa5899",
   "metadata": {
    "tags": []
   },
   "outputs": [
    {
     "data": {
      "text/plain": [
       "2×2 Matrix{Float64}:\n",
       " 0.975722  0.0\n",
       " 0.325255  1.60597"
      ]
     },
     "metadata": {},
     "output_type": "display_data"
    }
   ],
   "source": [
    "display(t_vis_fitted/t_halfspace)"
   ]
  },
  {
   "cell_type": "code",
   "execution_count": 13,
   "id": "3d6bbe6a-827b-4320-a100-2c6e652e32c0",
   "metadata": {},
   "outputs": [
    {
     "data": {
      "image/png": "[encoded data removed]",
      "text/plain": [
       "Figure(PyObject <Figure size 640x480 with 1 Axes>)"
      ]
     },
     "metadata": {},
     "output_type": "display_data"
    }
   ],
   "source": [
    "figure()\n",
    "plot(transpose(lambda)./hice,t_vis_fitted/t_halfspace,\".-\")\n",
    "gca().set_xlabel(L\"\\frac{\\lambda}{h_{ice}}\")\n",
    "gca().set_ylabel(L\"\\frac{t_{relaxation}}{t_{half-space}}\",rotation=0)\n",
    "gca().yaxis.set_label_coords(-0.17,0.5)\n",
    "gca().spines[\"top\"].set_visible(false) # Hide the top edge of the axis\n",
    "gca().spines[\"right\"].set_visible(false) # Hide the right edge of the axis\n",
    "gca().xaxis.set_ticks_position(\"bottom\")\n",
    "gca().yaxis.set_ticks_position(\"left\")\n",
    "gca().spines[\"left\"].set_position((\"axes\",-0.03)) # Offset the left scale from the axis\n",
    "gca().spines[\"bottom\"].set_position((\"axes\",-0.03)) # Offset the bottom scale from the axis\n",
    "show()"
   ]
  },
  {
   "cell_type": "code",
   "execution_count": null,
   "id": "dd50713c",
   "metadata": {
    "tags": []
   },
   "outputs": [],
   "source": [
    "# h5open(\"modelrun.hdf5\", \"w\") do file\n",
    "#     # Creating Groups for Data\n",
    "#     g = create_group(file, \"Model Run\")\n",
    "#     # Storing Data Inside the Group\n",
    "#     g[\"Wavelength\"] = lambda[:]\n",
    "#     g[\"Ice Shell Thickness\"] = hice[:]\n",
    "#     g[\"Relaxation Time(Model)\"] = t_vis\n",
    "#     g[\"Relaxation Time(Halfspace)\"] = t_halfspace \n",
    "#     g[\"Thickening Time\"] = t_tic\n",
    "#     # Apply an Attribute to Groups\n",
    "#     attrs(g)[\"Description\"] = \"This group contains only a 4 dataset\"\n",
    "# end"
   ]
  },
  {
   "cell_type": "code",
   "execution_count": null,
   "id": "34ea8fbd-2145-4b60-abd7-ef47c71869ca",
   "metadata": {
    "tags": []
   },
   "outputs": [],
   "source": [
    "# f(x,y) = get_time_viscous(x*1e3)/get_thickening_time(y*1e3)\n",
    "# x = range(start = 1, stop = 100, length = 200)\n",
    "# y = range(start = 1, stop = 10, length = 101)\n",
    "# z = @.f(x',y)\n",
    "\n",
    "# figure()\n",
    "# contourf(x,y,z,color=:viridis)\n",
    "# colorbar()\n",
    "# gca().set_xlim([1,10])\n",
    "# gca().set_ylim([1,4])\n",
    "# show()"
   ]
  },
  {
   "cell_type": "code",
   "execution_count": null,
   "id": "5571cac8-4535-4088-b88d-3a39f747bc6e",
   "metadata": {},
   "outputs": [],
   "source": []
  },
  {
   "cell_type": "code",
   "execution_count": null,
   "id": "fd8936f9-31c4-4b45-8c98-656d9d2aa0ba",
   "metadata": {},
   "outputs": [],
   "source": []
  },
  {
   "cell_type": "code",
   "execution_count": null,
   "id": "62da495c-8800-47f2-9904-76d649488f9b",
   "metadata": {},
   "outputs": [],
   "source": [
    "# Profile of ice-water inferface topograpgy over time \n",
    "figure()\n",
    "for i in 1:1:itime-1\n",
    "    plot(grid.xc,topography[i],label=(L\"At\",@sprintf(\"%.3g\",times[i]/3.15e7/1e3),L\"kyr\"))\n",
    "end\n",
    "title(L\"Profile\\,\\,of\\,\\,Ice-Water\\,\\,Interface\\,\\,Topography\\,\\,Over\\,\\,Time\")\n",
    "# gca().set_xlim([0.0,1e4])\n",
    "# gca().set_ylim([1.8e4,2.2e4])\n",
    "gca().invert_yaxis()\n",
    "# Legend is at the bottom\n",
    "legend(loc=\"upper center\", bbox_to_anchor=(0.5, -0.15),fancybox=\"True\",shadow=\"True\", ncol=5)\n",
    "show()\n",
    "       \n",
    "figure()\n",
    "plot(grid.xc,i_ocean_ice_interface,\"k\")\n",
    "plot(grid.xc,ocean_ice_interface,\"r--\")\n",
    "gca().invert_yaxis()\n",
    "show()"
   ]
  },
  {
   "cell_type": "code",
   "execution_count": null,
   "id": "99ebf6c6-c4b8-4597-a8f3-76d47e1c12ec",
   "metadata": {},
   "outputs": [],
   "source": []
  },
  {
   "cell_type": "code",
   "execution_count": null,
   "id": "d536bf44-7ac0-4f3f-aada-43e719b16dfc",
   "metadata": {},
   "outputs": [],
   "source": []
  },
  {
   "cell_type": "code",
   "execution_count": null,
   "id": "78e84da5-5b54-4faa-88f1-1c36c7b9db41",
   "metadata": {},
   "outputs": [],
   "source": []
  },
  {
   "cell_type": "code",
   "execution_count": null,
   "id": "0d9d714d-fe3c-4f71-ae65-11ae9d952ad2",
   "metadata": {},
   "outputs": [],
   "source": []
  },
  {
   "cell_type": "code",
   "execution_count": null,
   "id": "a30d8be5",
   "metadata": {
    "tags": []
   },
   "outputs": [],
   "source": [
    "wavelength = modelrun[1][:]\n",
    "ice_shell = modelrun[2][:]\n",
    "timevis = modelrun[3][:]\n",
    "timethick =modelrun[4][:]\n",
    "timehalfspace = modelrun[5][:]"
   ]
  },
  {
   "cell_type": "code",
   "execution_count": null,
   "id": "ae8c6c54",
   "metadata": {
    "tags": []
   },
   "outputs": [],
   "source": [
    "dataset = []"
   ]
  },
  {
   "cell_type": "code",
   "execution_count": null,
   "id": "bba3ac07",
   "metadata": {
    "tags": []
   },
   "outputs": [],
   "source": [
    "push!(dataset,[wavelength,ice_shell,timevis,timethick,timehalfspace])"
   ]
  },
  {
   "cell_type": "code",
   "execution_count": null,
   "id": "c36a69e2",
   "metadata": {
    "tags": []
   },
   "outputs": [],
   "source": [
    "dataset = vcat(map(x->x',dataset)...)"
   ]
  },
  {
   "cell_type": "code",
   "execution_count": null,
   "id": "67cc271a",
   "metadata": {
    "tags": []
   },
   "outputs": [],
   "source": [
    "dataset = hcat(map(x->x',dataset)...)"
   ]
  },
  {
   "cell_type": "code",
   "execution_count": null,
   "id": "14dd274b",
   "metadata": {
    "tags": []
   },
   "outputs": [],
   "source": [
    "using DataFrames\n",
    "df = DataFrame(lambda = dataset[:,1], hice = dataset[:,2], numerical_time = dataset[:,3], thickening_time = dataset[:,4], halfspace_time = dataset[:,5])"
   ]
  },
  {
   "cell_type": "code",
   "execution_count": null,
   "id": "7e6a8359",
   "metadata": {
    "tags": []
   },
   "outputs": [],
   "source": [
    "figure()\n",
    "plot(df.lambda./1e4,df.numerical_time./df.halfspace_time,\"-o\")\n",
    "gca().set_xlabel(L\"\\frac{\\lambda}{h}\")\n",
    "gca().set_ylabel(L\"\\frac{t_{model}}{t_{halfspace}}\",rotation=0)\n",
    "gca().yaxis.set_label_coords(-0.2,0.5)\n",
    "show()"
   ]
  }
 ],
 "metadata": {
  "kernelspec": {
   "display_name": "Julia 12 Threads 1.9.2",
   "language": "julia",
   "name": "julia-12-threads-1.9"
  },
  "language_info": {
   "file_extension": ".jl",
   "mimetype": "application/julia",
   "name": "julia",
   "version": "1.9.2"
  }
 },
 "nbformat": 4,
 "nbformat_minor": 5
}
