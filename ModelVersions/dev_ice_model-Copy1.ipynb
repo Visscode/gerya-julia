{
 "cells": [
  {
   "cell_type": "code",
   "execution_count": 1,
   "id": "0f26b8f6-1fa9-4391-8b40-06b6ff8000f7",
   "metadata": {
    "tags": []
   },
   "outputs": [
    {
     "data": {
      "text/plain": [
       "plots (generic function with 1 method)"
      ]
     },
     "execution_count": 1,
     "metadata": {},
     "output_type": "execute_result"
    }
   ],
   "source": [
    "# Importing (using/include) packages and files needed for the code to run\n",
    "using SparseArrays\n",
    "using LinearAlgebra\n",
    "using IterativeSolvers\n",
    "using WriteVTK\n",
    "using Printf\n",
    "using Statistics \n",
    "using Dates\n",
    "include(\"Grid.jl\")\n",
    "include(\"Markers.jl\")\n",
    "include(\"Stokes.jl\")\n",
    "include(\"Temperature.jl\")\n",
    "include(\"GridOperations.jl\")\n",
    "\n",
    "# Note: that we import pyplot last to avoid a name conflict with grid\n",
    "using PyPlot\n",
    "include(\"Visualization.jl\")"
   ]
  },
  {
   "cell_type": "code",
   "execution_count": 2,
   "id": "e094562f-5205-47c6-ac5b-b663b16a1cef",
   "metadata": {
    "tags": []
   },
   "outputs": [
    {
     "data": {
      "text/plain": [
       "ice_viscosity (generic function with 1 method)"
      ]
     },
     "execution_count": 2,
     "metadata": {},
     "output_type": "execute_result"
    }
   ],
   "source": [
    "function initial_ice_depth(x::Float64,ice_thickness::Float64,wavelength::Float64,amplitude::Float64,initial_surface_depth::Float64)\n",
    "    return ice_thickness + initial_surface_depth + amplitude*sin( 2pi/wavelength*x )\n",
    "end\n",
    "\n",
    "function ice_viscosity(T::Float64)\n",
    "    Q = 40000.0 # Activation Enegry (J/mol)\n",
    "    R_cont = 8.314 # Gas Constant (J/molK)\n",
    "    ice_vis = (1e15)*exp((Q*(273.0-T))/(R_cont*(273.0*T)))\n",
    "    upperlimit = 1e25\n",
    "    lowerlimit = 1e12\n",
    "    if ice_vis < lowerlimit\n",
    "        ice_vis = lowerlimit\n",
    "    elseif ice_vis > upperlimit\n",
    "        ice_vis = upperlimit\n",
    "    else \n",
    "        ice_vis = ice_vis\n",
    "    end \n",
    "    return ice_vis\n",
    "end"
   ]
  },
  {
   "cell_type": "code",
   "execution_count": 3,
   "id": "03961d55-361f-4910-859a-d888737893fd",
   "metadata": {
    "tags": []
   },
   "outputs": [
    {
     "data": {
      "text/plain": [
       "get_interface (generic function with 1 method)"
      ]
     },
     "execution_count": 3,
     "metadata": {},
     "output_type": "execute_result"
    }
   ],
   "source": [
    "struct Materials\n",
    "    # 1 - subsurface global ocean\n",
    "    # 2 - icy shell\n",
    "    # 3 - sticky air\n",
    "    alpha::Vector{Float64} # Thermal expansion (1/K)\n",
    "    rho0::Vector{Float64} # Density (kg/m^3)\n",
    "    Hr::Vector{Float64} # Radiogenic heat production (W/m^3)\n",
    "    Cp::Vector{Float64} # Heat capacity (J/kg*K)\n",
    "    kThermal::Vector{Float64} # Thermal conductivity (W/m*K)\n",
    "    eta::Vector{Float64} # Viscosity (Pa*s)\n",
    "    function Materials()\n",
    "        new([0.0,0.0,0.0],[1000.0,920.0,1.0],[0.0,0.0,0.0],[4180.0,2100.0,1.0e6],[0.5610,2.1,0.024],[1e12,1e15,1e17])\n",
    "    end    \n",
    "end\n",
    "\n",
    "function update_marker_prop!(markers::Markers,materials::Materials)\n",
    "    eta = markers.scalarFields[\"eta\"]\n",
    "    rho = markers.scalarFields[\"rho\"]\n",
    "    T = markers.scalarFields[\"T\"]\n",
    "    mmat = markers.integers[markers.integerFields[\"material\"],:]\n",
    "    for i in 1:markers.nmark\n",
    "        markers.scalars[rho,i] = materials.rho0[mmat[i]]\n",
    "        if mmat[i] == 2\n",
    "            markers.scalars[eta,i] = ice_viscosity(markers.scalars[T,i])\n",
    "        end\n",
    "    end\n",
    "end\n",
    "\n",
    "function update_marker_temp!(markers::Markers,materials::Materials)\n",
    "    T = markers.scalarFields[\"T\"]\n",
    "    mmat = markers.integers[markers.integerFields[\"material\"],:]\n",
    "    for i in 1:markers.nmark\n",
    "        if mmat[i] == 1 \n",
    "            markers.scalars[T,i] = 273.0\n",
    "        elseif mmat[i] == 3 \n",
    "            markers.scalars[T,i] = 100.0\n",
    "        end \n",
    "    end \n",
    "end \n",
    "\n",
    "function initial_conditions!(markers::Markers,materials::Materials,options::Dict)\n",
    "    material = markers.integerFields[\"material\"]\n",
    "    T = markers.scalarFields[\"T\"]\n",
    "    eta = markers.scalarFields[\"eta\"]\n",
    "    alpha = markers.scalarFields[\"alpha\"]\n",
    "    Cp = markers.scalarFields[\"Cp\"]\n",
    "    Hr = markers.scalarFields[\"Hr\"]\n",
    "    kThermal = markers.scalarFields[\"kThermal\"]\n",
    "    for i in 1:markers.nmark\n",
    "        mx = markers.x[1,i]\n",
    "        my = markers.x[2,i]\n",
    "        hice = initial_ice_depth(mx,options[\"ice thickness\"],options[\"wavelength\"],options[\"amplitude\"],options[\"surface depth\"])\n",
    "        hsurf = options[\"surface depth\"]\n",
    "        if my > hice\n",
    "            # subsurface global ocean\n",
    "            markers.integers[material,i] = 1\n",
    "            markers.scalars[T,i] = 273.0\n",
    "            markers.scalars[eta,i] = materials.eta[1]\n",
    "            markers.scalars[alpha,i] = materials.alpha[1]        \n",
    "            markers.scalars[Cp,i] = materials.Cp[1]\n",
    "            markers.scalars[Hr,i] = materials.Hr[1] \n",
    "            markers.scalars[kThermal,i] = materials.kThermal[1]\n",
    "        elseif my > hsurf\n",
    "            # icy shell\n",
    "            markers.integers[material,i] = 2\n",
    "            markers.scalars[T,i] = 100.0+((273.0-100.0)/(hice-hsurf))*(my-hsurf)\n",
    "            # markers.scalars[eta,i] = eta_i[i]\n",
    "            markers.scalars[alpha,i] = materials.alpha[2]\n",
    "            markers.scalars[Cp,i] = materials.Cp[2]\n",
    "            markers.scalars[Hr,i] = materials.Hr[2]\n",
    "            markers.scalars[kThermal,i] = materials.kThermal[2]\n",
    "        else\n",
    "            # sticky air\n",
    "            markers.integers[material,i] = 3\n",
    "            markers.scalars[T,i] = 100.0            \n",
    "            markers.scalars[eta,i] = materials.eta[3]\n",
    "            markers.scalars[alpha,i] = materials.alpha[3]  \n",
    "            markers.scalars[Cp,i] = materials.Cp[3]\n",
    "            markers.scalars[Hr,i] = materials.Hr[3]\n",
    "            markers.scalars[kThermal,i] = materials.kThermal[3]\n",
    "        end\n",
    "    end \n",
    "    # end loop over markers\n",
    "    update_marker_prop!(markers,materials)\n",
    "end\n",
    "\n",
    "function get_interface(grid::CartesianGrid,mat::Matrix{Float64},contour_value::Float64)\n",
    "    # Finding interfaces \n",
    "    interface_position = zeros(Float64,grid.nx-1);\n",
    "    for j in 1:grid.nx-1\n",
    "        i = 1\n",
    "        while i <= grid.ny\n",
    "            if mat[i,j] == contour_value\n",
    "                interface_position[j] = grid.yc[i]\n",
    "                break\n",
    "            elseif mat[i+1,j] < contour_value\n",
    "                # interface is located within this cell.\n",
    "                interface_position[j] = grid.yc[i] + (grid.yc[i+1]-grid.yc[i])/(mat[i+1,j]-mat[i,j])*(contour_value-mat[i,j])\n",
    "                break\n",
    "            end\n",
    "            i = i+1\n",
    "        end\n",
    "    end\n",
    "    return interface_position\n",
    "end"
   ]
  },
  {
   "cell_type": "code",
   "execution_count": 46,
   "id": "043797ae-c7a6-42c4-bcc7-6a6f57009918",
   "metadata": {
    "tags": []
   },
   "outputs": [
    {
     "name": "stdout",
     "output_type": "stream",
     "text": [
      "Creating Markers...\n",
      "  0.302465 seconds (26 allocations: 1.032 GiB, 4.22% gc time)\n",
      "Initial condition...\n",
      "  7.209298 seconds (92.80 M allocations: 1.406 GiB, 0.89% gc time)\n",
      "Finished Step 2 time=0.24427540586358687 kyr\n",
      "Finished Step 3 time=0.48855081172717374 kyr\n",
      "Finished Step 4 time=0.7328262175907606 kyr\n",
      "Finished Step 5 time=0.9771016234543475 kyr\n",
      "Finished Step 6 time=1.2213770293179342 kyr\n",
      "Finished Step 7 time=1.4656524351815212 kyr\n",
      "Finished Step 8 time=1.7099278410451082 kyr\n",
      "Finished Step 9 time=1.954203246908695 kyr\n",
      "Finished Step 10 time=2.1984786527722817 kyr\n",
      "Finished Step 11 time=2.4427540586358685 kyr\n"
     ]
    },
    {
     "data": {
      "text/plain": [
       "(CartesianGrid([0.0, 87.71929824561404, 175.43859649122808, 263.1578947368421, 350.87719298245617, 438.59649122807014, 526.3157894736842, 614.0350877192982, 701.7543859649123, 789.4736842105264  …  99210.52631578947, 99298.24561403508, 99385.9649122807, 99473.68421052632, 99561.40350877192, 99649.12280701754, 99736.84210526316, 99824.56140350878, 99912.28070175438, 100000.0], [0.0, 88.0, 176.0, 264.0, 352.0, 440.0, 528.0, 616.0, 704.0, 791.9999999999999  …  21208.0, 21296.0, 21384.0, 21472.0, 21560.0, 21648.0, 21736.0, 21824.0, 21912.0, 22000.0], [-43.85964912280702, 43.85964912280703, 131.57894736842107, 219.2982456140351, 307.01754385964915, 394.7368421052632, 482.4561403508772, 570.1754385964912, 657.8947368421053, 745.6140350877192  …  99254.38596491228, 99342.1052631579, 99429.82456140353, 99517.54385964913, 99605.26315789475, 99692.98245614035, 99780.70175438595, 99868.42105263159, 99956.14035087719, 100043.85964912281], [-44.0, 44.0, 132.0, 220.0, 308.0, 396.0, 484.0, 572.0, 660.0, 748.0  …  21252.0, 21340.0, 21428.0, 21516.0, 21604.0, 21692.0, 21780.0, 21868.0, 21956.0, 22044.0], 1141, 251, 100000.0, 22000.0, false, false), [3.0000000000000004 3.0 … 3.000000000000001 3.0000000000000004; 2.999999999999999 2.9999999999999982 … 3.000000000000001 3.0; … ; 1.0 1.0 … 1.0 1.0; 1.0 1.0 … 1.0 1.0], [3.0 3.000000000000001 … 3.0 3.0; 3.000000000000001 2.9999999999999996 … 2.9999999999999987 2.9999999999999996; … ; 1.0 1.0 … 1.0 1.0; 1.0 1.0 … 1.0 1.0], Any[7.694675284702987e9, 1.5389350569405973e10, 2.308402585410896e10, 3.0778701138811947e10, 3.847337642351493e10, 4.616805170821792e10, 5.3862726992920906e10, 6.155740227762389e10, 6.925207756232687e10, 7.694675284702986e10], 7.694675284702986e10, 11, Any[991.2506236789504, 990.7751412428097, 990.3053811984882, 989.8419124406173, 989.3845084933328, 988.9325102042203, 988.4859089895472, 988.0445308820326, 987.6019707667128, 987.1632108495996])"
      ]
     },
     "execution_count": 46,
     "metadata": {},
     "output_type": "execute_result"
    }
   ],
   "source": [
    "options = Dict()\n",
    "options[\"wavelength\"] = 1e5\n",
    "options[\"ice thickness\"] = 1e4\n",
    "options[\"amplitude\"] = 0.10*options[\"ice thickness\"]\n",
    "options[\"surface depth\"] = options[\"amplitude\"] \n",
    "\n",
    "function run(options::Dict)\n",
    "    W = options[\"wavelength\"]\n",
    "    H = options[\"ice thickness\"] + options[\"surface depth\"] + options[\"amplitude\"] + 1e4\n",
    "    ny = 251\n",
    "    nx = Int64(ceil(W/H*ny))\n",
    "    gx = 0.0\n",
    "    gy = 0.113\n",
    "\n",
    "    # Tbctype = [-1,-1,1,1] #left, right, top, bottom\n",
    "    Tbctype = [-1,-1,1,1]\n",
    "    # Tbcval = [0.0,0.0,100.0,273.0] #left, right, top, bottom\n",
    "    Tbcval = [0.0,0.0,100.0,273.0]\n",
    "    bc = BoundaryConditions(0,0,0,0) # currently does nothing but is required argument to stokes solver.\n",
    "    materials = Materials()\n",
    "\n",
    "    markx = 6\n",
    "    marky = 6\n",
    "    seconds_in_year = 3.15e7\n",
    "    plot_interval = 1e6*seconds_in_year # plot interval in seconds\n",
    "    end_time = 3e7*seconds_in_year\n",
    "    dtmax = plot_interval\n",
    "    grid = CartesianGrid(W,H,nx,ny)\n",
    "    println(\"Creating Markers...\")\n",
    "    @time markers = Markers(grid,[\"alpha\",\"T\",\"rho\",\"eta\",\"Cp\",\"Hr\",\"kThermal\"],[\"material\"] ; nmx=markx,nmy=marky,random=true)\n",
    "    println(\"Initial condition...\")\n",
    "    @time initial_conditions!(markers, materials,options)\n",
    "\n",
    "    local time_plot = []\n",
    "    # local topography = []\n",
    "    local amplitude = []\n",
    "    \n",
    "    ### Setting up agruments for interface function ###\n",
    "    # initial \n",
    "    i_mat, = marker_to_stag(markers,grid,markers.integers[[markers.integerFields[\"material\"]],:],\"center\")\n",
    "    i_air_ice_interface = get_interface(grid,i_mat,2.5)\n",
    "    i_ocean_ice_interface = get_interface(grid,i_mat,1.5)\n",
    "    Ai = options[\"amplitude\"] \n",
    "\n",
    "    ### Setting up agruments for termination criteria ###\n",
    "    max_step::Int64=10\n",
    "    max_time::Float64=-1.0\n",
    "    max_time = max_time == -1.0 ? typemax(Float64) : max_time\n",
    "    max_step = max_step == -1 ? typemax(Int64) : max_step\n",
    "    \n",
    "    time = 0.0\n",
    "    iout= 0\n",
    "    last_plot = 0.0\n",
    "    dt = 1e10\n",
    "\n",
    "    rho_c = nothing\n",
    "    rho_vx = nothing \n",
    "    rho_vy = nothing \n",
    "    alpha = nothing \n",
    "    Hr = nothing \n",
    "    Cp_c = nothing \n",
    "    eta_s = nothing \n",
    "    eta_n = nothing \n",
    "    vxc = nothing \n",
    "    vyc = nothing \n",
    "    T = nothing \n",
    "    dTmax = nothing \n",
    "    dTemp = nothing \n",
    "    Tnew = nothing \n",
    "    Tlast = nothing \n",
    "    x_time = nothing\n",
    "    kThermal = nothing\n",
    "    # ocean_ice_interface = nothing\n",
    "    mat = nothing\n",
    "\n",
    "    itime = 1\n",
    "    output_dir = \"test\"\n",
    "\n",
    "    terminate = false\n",
    "    while !terminate\n",
    "        # 0. update the markers properties  \n",
    "        update_marker_prop!(markers,materials)\n",
    "        update_marker_temp!(markers,materials)\n",
    "        # 1. Transfer properties markers -> nodes\n",
    "        # 1a. Basic Nodes\n",
    "        eta_s_new, = marker_to_stag(markers,grid,[\"eta\",],\"basic\")\n",
    "        # 1b. Cell Centers\n",
    "        rho_c_new,Cp_c_new,alpha_new,eta_n_new,Tlast_new,Hr_new,kThermal_new = marker_to_stag(markers,grid,[\"rho\",\"Cp\",\"alpha\",\"eta\",\"T\",\"Hr\",\"kThermal\"],\"center\")\n",
    "        # 1c. Vx and Vy nodes:\n",
    "        rho_vx_new, = marker_to_stag(markers,grid,[\"rho\",],\"vx\")\n",
    "        rho_vy_new, = marker_to_stag(markers,grid,[\"rho\",],\"vy\") \n",
    "\n",
    "        # deal with any NaN values from interpolation:\n",
    "        if itime > 1\n",
    "            if any(isnan.(eta_s_new))\n",
    "                println(\"found nan values\")\n",
    "            end\n",
    "            replace_nan!(eta_s,eta_s_new)\n",
    "            replace_nan!(rho_c,rho_c_new)\n",
    "            replace_nan!(Hr,Hr_new)\n",
    "            replace_nan!(Cp_c,Cp_c_new)\n",
    "            replace_nan!(alpha,alpha_new)\n",
    "            replace_nan!(eta_n,eta_n_new)\n",
    "            replace_nan!(Tlast,Tlast_new)\n",
    "            replace_nan!(rho_vx,rho_vx_new)\n",
    "            replace_nan!(rho_vy,rho_vy_new)\n",
    "            replace_nan!(kThermal,kThermal_new)\n",
    "        end\n",
    "        # Copy field data \n",
    "        kThermal = copy(kThermal_new)\n",
    "        rho_vx = copy(rho_vx_new)\n",
    "        rho_vy = copy(rho_vy_new)\n",
    "        rho_c = copy(rho_c_new)\n",
    "        Hr = copy(Hr_new)\n",
    "        Cp_c = copy(Cp_c_new)\n",
    "        alpha = copy(alpha_new)\n",
    "        eta_s = copy(eta_s_new)\n",
    "        eta_n = copy(eta_n_new)\n",
    "        Tlast = copy(Tlast_new)\n",
    "\n",
    "        if itime == 1 \n",
    "            ghost_temperature_center(grid,Tlast,Tbctype,Tbcval)\n",
    "            cell_center_to_markers!(markers,grid,Tlast,markers.scalars[[markers.scalarFields[\"T\"],],:])\n",
    "        else\n",
    "            ghost_temperature_center(grid,Tlast,Tbctype,Tbcval)\n",
    "        end\n",
    "\n",
    "        # 2. Assemble and solve the stokes equations\n",
    "        L,R = form_stokes(grid,eta_s,eta_n,rho_vx,rho_vy,bc,gx,gy;dt=dt)\n",
    "        stokes_solution = L\\R\n",
    "        vx,vy,P = unpack(stokes_solution,grid;ghost=true)\n",
    "\n",
    "        # Get the velocity at the cell centers:\n",
    "        vxc,vyc = velocity_to_centers(grid,vx,vy)\n",
    "        adiabatic_heating = compute_adiabatic_heating(grid,rho_c,Tlast,alpha,gx,gy,vxc,vyc)*0.0\n",
    "        shear_heating = compute_shear_heating(grid,vx,vy,eta_n,eta_s)*0.0\n",
    "        H = (adiabatic_heating .+ shear_heating .+ Hr).*0.0\n",
    "\n",
    "        # 3. Compute the advection timestep\n",
    "        if itime > 1\n",
    "            this_dtmax = min(1.2*dt,dtmax)\n",
    "        else\n",
    "            this_dtmax = dtmax\n",
    "        end\n",
    "        dt = compute_timestep(grid,vxc,vyc;dtmax=this_dtmax,cfl=0.25)\n",
    "        diffusion_timestep = (grid.x[2]-grid.x[1])^2 / 1e-6\n",
    "        if dt > diffusion_timestep\n",
    "            dt = diffusion_timestep\n",
    "        end\n",
    "\n",
    "        dTmax = Inf\n",
    "        dTemp = nothing\n",
    "        Tnew = nothing\n",
    "        titer = 1\n",
    "        for titer=1:2\n",
    "            # assemble and solve the energy equation\n",
    "            # println(\"Trying with timestep \",dt/seconds_in_year/1e3,\" kyr\")\n",
    "            L,R = assemble_energy_equation_center(grid,rho_c,Cp_c,kThermal,H,Tlast,dt,Tbctype,Tbcval)\n",
    "            Tnew = L\\R;\n",
    "            Tnew = reshape(Tnew,grid.ny,grid.nx);\n",
    "            Tnew = ghost_temperature_center(grid,Tnew,Tbctype,Tbcval)\n",
    "            T = copy(Tnew)\n",
    "\n",
    "            dTemp = Tnew-Tlast\n",
    "            # compute the maximum temperature change\n",
    "            dTmax = maximum(abs.(dTemp[2:end-1,2:end-1]))\n",
    "            # println(\"dTmax=\",dTmax,\" dt=\",dt/seconds_in_year/1e3,\" kyr\")\n",
    "            dt = min(dt,dTmax < 10.0 ? dt : dt*10.0/dTmax)\n",
    "            if dTmax < 10.0\n",
    "                break\n",
    "            end\n",
    "        end\n",
    "\n",
    "        dT_subgrid_node = subgrid_temperature_relaxation_center!(markers,grid,Tlast,Cp_c[1,1],kThermal[1,1],dt)\n",
    "        dT_remaining = dTemp - dT_subgrid_node\n",
    "\n",
    "        cell_center_change_to_markers!(markers,grid,dT_remaining,\"T\")\n",
    "\n",
    "        mat, = marker_to_stag(markers,grid,markers.integers[[markers.integerFields[\"material\"]],:],\"center\")\n",
    "        ocean_ice_interface = get_interface(grid,mat,1.5)\n",
    "        air_ice_interface = get_interface(grid,mat,2.5)\n",
    "        max_ice_shell_thickness = maximum(ocean_ice_interface)-maximum(air_ice_interface)\n",
    "        avg_ice_shell_thickness = mean(ocean_ice_interface)-mean(air_ice_interface)\n",
    "        Af = max_ice_shell_thickness-avg_ice_shell_thickness\n",
    "        # Checking Termination Criteria, time is in Myr\n",
    "        if time >= max_time || itime >= max_step || Af/Ai <= 1/exp(1)\n",
    "            terminate = true\n",
    "            # println(\"Finished Step \",itime,\" time=\",time/seconds_in_year/1e3,\" kyr\")\n",
    "        end     \n",
    "\n",
    "        # println(\"Min/Max velocity: \",minimum(vyc),\" \",maximum(vyc))            \n",
    "        # Moving the markers and advancing to the next timestep\n",
    "        move_markers_rk4!(markers,grid,vx,vy,dt,continuity_weight=1/3)\n",
    "        time += dt\n",
    "        itime += 1\n",
    "        println(\"Finished Step \",itime,\" time=\",time/seconds_in_year/1e3,\" kyr\")\n",
    "        mat, = marker_to_stag(markers,grid,markers.integers[[markers.integerFields[\"material\"]],:],\"center\")\n",
    "        ocean_ice_interface = get_interface(grid,mat,1.5)\n",
    "        air_ice_interface = get_interface(grid,mat,2.5)\n",
    "        append!(time_plot,time)\n",
    "        # append!(topography,[ocean_ice_interface])\n",
    "        append!(amplitude,Af)\n",
    "    end\n",
    "    return grid,i_mat,mat,time_plot,time,itime,amplitude\n",
    "end\n",
    "\n",
    "grid,i_mat,mat,time_plot,time,itime,amplitude = run(options) "
   ]
  },
  {
   "cell_type": "code",
   "execution_count": 47,
   "id": "76c5e4ae-ea87-4d76-a363-bca4a46857a9",
   "metadata": {
    "tags": []
   },
   "outputs": [],
   "source": [
    "# # Profile of ice-water inferface topograpgy over time\n",
    "# figure()\n",
    "# for i in 1:1:itime-1\n",
    "#     plot(grid.xc[2:end-1],topography[i])\n",
    "# end\n",
    "# title(L\"Profile\\,\\,of\\,\\,Ice-Water\\,\\,Interface\\,\\,Topography\\,\\,Over\\,\\,Time\")\n",
    "# gca().invert_yaxis()\n",
    "# show()"
   ]
  },
  {
   "cell_type": "code",
   "execution_count": 48,
   "id": "98c4997c-f355-44c3-83c7-85538f41f51b",
   "metadata": {
    "tags": []
   },
   "outputs": [],
   "source": [
    "# figure()\n",
    "# plot(i_ocean_ice_interface,\"--r\")\n",
    "# plot(ocean_ice_interface)\n",
    "# gca().invert_yaxis()\n",
    "# show()"
   ]
  },
  {
   "cell_type": "code",
   "execution_count": 49,
   "id": "79cd2982-5e73-4a24-bfd8-1ad3d14ee029",
   "metadata": {
    "tags": []
   },
   "outputs": [],
   "source": [
    "# using EasyFit\n",
    "# ampfit = []\n",
    "# for i in 1:itime-1\n",
    "#     amp = maximum(topography[i])-minimum(topography[i])\n",
    "#     append!(ampfit,amp)\n",
    "# end\n",
    "# x = convert(Array{Float64}, times)\n",
    "# y = convert(Array{Float64}, ampfit)\n",
    "# fit = fitexp(x/3.15e7,y,options=Options(besttol=100))\n",
    "# figure()\n",
    "# for i in 1:itime-1\n",
    "#     plot(times[i]/3.15e7,maximum(topography[i])-minimum(topography[i]),\".\") \n",
    "# end\n",
    "# plot(fit.x,fit.y,\"r-\",label=\"fitted data\")\n",
    "# gca().set_ylabel(L\"Amplitude\\,(m)\")\n",
    "# gca().set_xlabel(L\"Time\\,(years)\")\n",
    "# legend(fancybox=\"True\",shadow=\"True\")\n",
    "# show()"
   ]
  },
  {
   "cell_type": "code",
   "execution_count": 50,
   "id": "10e5df96-babe-416e-b7f4-5c2597d323ee",
   "metadata": {
    "tags": []
   },
   "outputs": [],
   "source": [
    "# fit"
   ]
  },
  {
   "cell_type": "code",
   "execution_count": 51,
   "id": "13c7bf2e-10b1-4ae1-a82e-efcd019ddd79",
   "metadata": {
    "tags": []
   },
   "outputs": [
    {
     "data": {
      "image/png": "[encoded data removed]",
      "text/plain": [
       "Figure(PyObject <Figure size 640x480 with 1 Axes>)"
      ]
     },
     "metadata": {},
     "output_type": "display_data"
    }
   ],
   "source": [
    "using EasyFit\n",
    "ampfit2 = []\n",
    "for i in 1:itime-1\n",
    "    amp2 = amplitude[i]\n",
    "    append!(ampfit2,amp2)\n",
    "end\n",
    "xx = convert(Array{Float64}, time_plot)\n",
    "yy = convert(Array{Float64}, ampfit2)\n",
    "fitt = fitexp(xx/3.15e7,yy,options=Options(besttol=100))\n",
    "figure()\n",
    "for i in 1:itime-1\n",
    "    plot(time_plot[i]/3.15e7,ampfit2[i],\".\") \n",
    "end\n",
    "plot(fitt.x,fitt.y,\"r-\",label=\"fitted data\")\n",
    "gca().set_ylabel(L\"Amplitude\\,(m)\")\n",
    "gca().set_xlabel(L\"Time\\,(years)\")\n",
    "legend(fancybox=\"True\",shadow=\"True\")\n",
    "show()"
   ]
  },
  {
   "cell_type": "code",
   "execution_count": 52,
   "id": "bebb7227-db33-418c-a68a-10d7b21e782a",
   "metadata": {
    "tags": []
   },
   "outputs": [
    {
     "data": {
      "text/plain": [
       "------------ Single Exponential fit ----------- \"\n",
       "\n",
       "Equation: y = a exp(-x/b) + c\n",
       "\n",
       "With: a = 45.15973671674961\n",
       "      b = 22949.579269972954\n",
       "      c = 946.5667709218767\n",
       "\n",
       "Pearson correlation coefficient, R = 0.9999985191486125\n",
       "Average square residue = 5.02549960905596e-6\n",
       "\n",
       "Predicted Y: ypred = [ 991.24837636515, 990.7753073336461, ...]\n",
       "residues = [ -0.0022473138004670545, 0.0001660908363874114, ...]\n",
       "\n",
       "-----------------------------------------------\n"
      ]
     },
     "execution_count": 52,
     "metadata": {},
     "output_type": "execute_result"
    }
   ],
   "source": [
    "fitt"
   ]
  },
  {
   "cell_type": "code",
   "execution_count": 53,
   "id": "7c902771-935c-4029-9d80-66c46aec34f2",
   "metadata": {
    "tags": []
   },
   "outputs": [
    {
     "data": {
      "text/plain": [
       "get_numerical_time_viscous (generic function with 1 method)"
      ]
     },
     "execution_count": 53,
     "metadata": {},
     "output_type": "execute_result"
    }
   ],
   "source": [
    "include(\"Topo.jl\")"
   ]
  },
  {
   "cell_type": "code",
   "execution_count": 54,
   "id": "5b8208f0-9830-4bb8-8566-919725183e50",
   "metadata": {},
   "outputs": [
    {
     "data": {
      "text/plain": [
       "986.7321790497499"
      ]
     },
     "execution_count": 54,
     "metadata": {},
     "output_type": "execute_result"
    }
   ],
   "source": [
    "ocean_ice_interface = get_interface(grid,mat,1.5)\n",
    "air_ice_interface = get_interface(grid,mat,2.5)\n",
    "max_ice_shell_thickness = maximum(ocean_ice_interface)-maximum(air_ice_interface)\n",
    "avg_ice_shell_thickness = mean(ocean_ice_interface)-mean(air_ice_interface)\n",
    "Af = max_ice_shell_thickness-avg_ice_shell_thickness"
   ]
  },
  {
   "cell_type": "code",
   "execution_count": 55,
   "id": "da092a24-1c61-4804-9685-a2efdc8700d8",
   "metadata": {
    "tags": []
   },
   "outputs": [
    {
     "data": {
      "text/plain": [
       "987.1666818453778"
      ]
     },
     "execution_count": 55,
     "metadata": {},
     "output_type": "execute_result"
    }
   ],
   "source": [
    "last(fitt.y)"
   ]
  },
  {
   "cell_type": "code",
   "execution_count": 56,
   "id": "307a0ed8-6f2d-4ca1-aac7-91d059279c55",
   "metadata": {
    "tags": []
   },
   "outputs": [
    {
     "data": {
      "text/plain": [
       "987.1632108495996"
      ]
     },
     "execution_count": 56,
     "metadata": {},
     "output_type": "execute_result"
    }
   ],
   "source": [
    "last(amplitude)"
   ]
  },
  {
   "cell_type": "code",
   "execution_count": 57,
   "id": "9c1b375e-f8e8-4750-8e90-8b39d755e2f2",
   "metadata": {
    "tags": []
   },
   "outputs": [
    {
     "data": {
      "text/plain": [
       "986.7321790497499"
      ]
     },
     "execution_count": 57,
     "metadata": {},
     "output_type": "execute_result"
    }
   ],
   "source": [
    "Af"
   ]
  },
  {
   "cell_type": "code",
   "execution_count": 58,
   "id": "5cd805e8-7631-41a3-a87d-6b820cbe4b76",
   "metadata": {
    "tags": []
   },
   "outputs": [
    {
     "data": {
      "text/plain": [
       "131088.47369445165"
      ]
     },
     "execution_count": 58,
     "metadata": {},
     "output_type": "execute_result"
    }
   ],
   "source": [
    "tf = get_numerical_time_viscous(options[\"amplitude\"],last(fitt.y),last(time_plot))"
   ]
  },
  {
   "cell_type": "code",
   "execution_count": 59,
   "id": "568778d4-ca5d-432f-ac73-36380708ce83",
   "metadata": {
    "tags": []
   },
   "outputs": [
    {
     "data": {
      "text/plain": [
       "131052.79820332357"
      ]
     },
     "execution_count": 59,
     "metadata": {},
     "output_type": "execute_result"
    }
   ],
   "source": [
    "ta = get_numerical_time_viscous(options[\"amplitude\"],last(amplitude),last(time_plot))"
   ]
  },
  {
   "cell_type": "code",
   "execution_count": 60,
   "id": "55863cf4-8d53-4a95-8775-34f5ba189829",
   "metadata": {
    "tags": []
   },
   "outputs": [
    {
     "data": {
      "text/plain": [
       "126767.66080180914"
      ]
     },
     "execution_count": 60,
     "metadata": {},
     "output_type": "execute_result"
    }
   ],
   "source": [
    "tt = get_numerical_time_viscous(options[\"amplitude\"],Af,last(time_plot))"
   ]
  },
  {
   "cell_type": "code",
   "execution_count": 61,
   "id": "8c500659-2410-45dd-a338-147aae58fe5b",
   "metadata": {
    "tags": []
   },
   "outputs": [
    {
     "data": {
      "text/plain": [
       "441.29690315912256"
      ]
     },
     "execution_count": 61,
     "metadata": {},
     "output_type": "execute_result"
    }
   ],
   "source": [
    "ths = get_halfspace_time_viscous(options[\"wavelength\"])"
   ]
  },
  {
   "cell_type": "code",
   "execution_count": 62,
   "id": "ddc78c94-7ade-4fed-9810-0e7494f7badf",
   "metadata": {
    "tags": []
   },
   "outputs": [
    {
     "data": {
      "text/plain": [
       "297.052784091675"
      ]
     },
     "execution_count": 62,
     "metadata": {},
     "output_type": "execute_result"
    }
   ],
   "source": [
    "tf/ths"
   ]
  },
  {
   "cell_type": "code",
   "execution_count": 63,
   "id": "f3aff60c-d028-4483-80d5-d7d6d1b8566b",
   "metadata": {
    "tags": []
   },
   "outputs": [
    {
     "data": {
      "text/plain": [
       "296.9719417135104"
      ]
     },
     "execution_count": 63,
     "metadata": {},
     "output_type": "execute_result"
    }
   ],
   "source": [
    "ta/ths"
   ]
  },
  {
   "cell_type": "code",
   "execution_count": 64,
   "id": "203aca33-aa69-4361-8974-d464f43129c5",
   "metadata": {
    "tags": []
   },
   "outputs": [
    {
     "data": {
      "text/plain": [
       "287.2616143333762"
      ]
     },
     "execution_count": 64,
     "metadata": {},
     "output_type": "execute_result"
    }
   ],
   "source": [
    "tt/ths"
   ]
  },
  {
   "cell_type": "code",
   "execution_count": 65,
   "id": "56675b08-9a03-4962-8940-b7bf66fee7f9",
   "metadata": {
    "tags": []
   },
   "outputs": [
    {
     "data": {
      "text/plain": [
       "5.712020780527631"
      ]
     },
     "execution_count": 65,
     "metadata": {},
     "output_type": "execute_result"
    }
   ],
   "source": [
    "tf/fitt.b"
   ]
  },
  {
   "cell_type": "code",
   "execution_count": 66,
   "id": "bfe72e50-8ddd-441b-a5a9-18f43a8f90b7",
   "metadata": {
    "tags": []
   },
   "outputs": [
    {
     "data": {
      "text/plain": [
       "5.710466264398669"
      ]
     },
     "execution_count": 66,
     "metadata": {},
     "output_type": "execute_result"
    }
   ],
   "source": [
    "ta/fitt.b"
   ]
  },
  {
   "cell_type": "code",
   "execution_count": null,
   "id": "44c5d4db-9f0b-478e-828c-9c40a93da298",
   "metadata": {
    "tags": []
   },
   "outputs": [],
   "source": [
    "tt/fitt.b"
   ]
  },
  {
   "cell_type": "code",
   "execution_count": null,
   "id": "718fae2d-e376-4101-8a2a-5a11b235b2c0",
   "metadata": {
    "tags": []
   },
   "outputs": [],
   "source": [
    "figure()\n",
    "pcolor(grid.xc/1e3,grid.yc/1e3,i_mat)\n",
    "plot(grid.xc[2:end-1]/1e3,i_air_ice_interface/1e3,\"m\",label=\"air-ice interface\")\n",
    "plot(grid.xc[2:end-1]/1e3,i_ocean_ice_interface/1e3,\"r\",label=\"air-ice interface\")\n",
    "title(L\"Initial\\,\\,Model\\,\\,Schematic\")\n",
    "gca().invert_yaxis()\n",
    "gca().set_aspect(\"equal\")\n",
    "gca().set_ylabel(L\"Height\\,(km)\")\n",
    "gca().set_xlabel(L\"Width\\,(km)\")\n",
    "legend(loc=\"upper center\", bbox_to_anchor=(0.5,-0.15),fancybox=\"True\",shadow=\"True\",ncol=5)\n",
    "show()"
   ]
  },
  {
   "cell_type": "code",
   "execution_count": null,
   "id": "bed93cd6-a5f4-486c-9e7c-a00b08e14009",
   "metadata": {
    "tags": []
   },
   "outputs": [],
   "source": [
    "figure()\n",
    "pcolor(grid.xc/1e3,grid.yc/1e3,mat)\n",
    "plot(grid.xc[2:end-1]/1e3,air_ice_interface/1e3,\"m\",label=\"air-ice interface\")\n",
    "plot(grid.xc[2:end-1]/1e3,ocean_ice_interface/1e3,\"r\",label=\"air-ice interface\")\n",
    "title(L\"Final\\,\\,Model\\,\\,Schematic\")\n",
    "gca().invert_yaxis()\n",
    "gca().set_aspect(\"equal\")\n",
    "gca().set_ylabel(L\"Height\\,(km)\")\n",
    "gca().set_xlabel(L\"Width\\,(km)\")\n",
    "legend(loc=\"upper center\", bbox_to_anchor=(0.5,-0.15),fancybox=\"True\",shadow=\"True\",ncol=5)\n",
    "show()"
   ]
  },
  {
   "cell_type": "code",
   "execution_count": null,
   "id": "d9459117-706c-4cbe-8d29-26b60aa938c4",
   "metadata": {},
   "outputs": [],
   "source": [
    " 1e5/1e3"
   ]
  },
  {
   "cell_type": "code",
   "execution_count": null,
   "id": "fe94e0d6-a2bc-4705-97b5-7c025632adae",
   "metadata": {},
   "outputs": [],
   "source": []
  }
 ],
 "metadata": {
  "kernelspec": {
   "display_name": "Julia 12 Threads 1.9.2",
   "language": "julia",
   "name": "julia-12-threads-1.9"
  },
  "language_info": {
   "file_extension": ".jl",
   "mimetype": "application/julia",
   "name": "julia",
   "version": "1.9.2"
  }
 },
 "nbformat": 4,
 "nbformat_minor": 5
}
