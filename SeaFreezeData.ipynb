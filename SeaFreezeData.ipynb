{
 "cells": [
  {
   "cell_type": "markdown",
   "id": "62faed4e",
   "metadata": {},
   "source": [
    "# Using SeaFreeze "
   ]
  },
  {
   "cell_type": "code",
   "execution_count": 1,
   "id": "885323a4",
   "metadata": {
    "tags": []
   },
   "outputs": [
    {
     "ename": "ModuleNotFoundError",
     "evalue": "No module named 'seafreeze'",
     "output_type": "error",
     "traceback": [
      "\u001b[0;31m---------------------------------------------------------------------------\u001b[0m",
      "\u001b[0;31mModuleNotFoundError\u001b[0m                       Traceback (most recent call last)",
      "Cell \u001b[0;32mIn[1], line 3\u001b[0m\n\u001b[1;32m      1\u001b[0m \u001b[38;5;28;01mimport\u001b[39;00m \u001b[38;5;21;01mh5py\u001b[39;00m\n\u001b[1;32m      2\u001b[0m \u001b[38;5;28;01mimport\u001b[39;00m \u001b[38;5;21;01mnumpy\u001b[39;00m \u001b[38;5;28;01mas\u001b[39;00m \u001b[38;5;21;01mnp\u001b[39;00m\n\u001b[0;32m----> 3\u001b[0m \u001b[38;5;28;01mimport\u001b[39;00m \u001b[38;5;21;01mseafreeze\u001b[39;00m\u001b[38;5;21;01m.\u001b[39;00m\u001b[38;5;21;01mseafreeze\u001b[39;00m \u001b[38;5;28;01mas\u001b[39;00m \u001b[38;5;21;01msf\u001b[39;00m\n\u001b[1;32m      5\u001b[0m P \u001b[38;5;241m=\u001b[39m np\u001b[38;5;241m.\u001b[39marange(\u001b[38;5;241m0.0\u001b[39m,  \u001b[38;5;241m210\u001b[39m, \u001b[38;5;241m10.0\u001b[39m)\n\u001b[1;32m      6\u001b[0m T \u001b[38;5;241m=\u001b[39m np\u001b[38;5;241m.\u001b[39marange(\u001b[38;5;241m75\u001b[39m,   \u001b[38;5;241m300\u001b[39m, \u001b[38;5;241m1.00\u001b[39m)\n",
      "\u001b[0;31mModuleNotFoundError\u001b[0m: No module named 'seafreeze'"
     ]
    }
   ],
   "source": [
    "import h5py\n",
    "import numpy as np\n",
    "import seafreeze.seafreeze as sf\n",
    "\n",
    "P = np.arange(0.0,  210, 10.0)\n",
    "T = np.arange(75,   300, 1.00)\n",
    "\n",
    "S = np.zeros((len(T),len(P)))\n",
    "Den = np.zeros((len(T),len(P)))\n",
    "\n",
    "for ip in range(len(P)):\n",
    "    for it in range(len(T)):\n",
    "        p = P[ip]\n",
    "        t = T[it]\n",
    "        pt = np.array([p,t], dtype=object)\n",
    "        this_phase = sf.whichphase(pt)\n",
    "        #print(this_phase)\n",
    "        #print(sf.phasenum2phase[this_phase[0][0]])\n",
    "        out = sf.seafreeze(pt,sf.phasenum2phase[this_phase[0][0]])\n",
    "        #print(out.S[0][0])\n",
    "        S[it,ip] = out.S[0][0]\n",
    "        Den[it,ip] = out.rho[0][0]\n",
    "                \n",
    "#Pn = np.arange(0.0,  100, 10.0)\n",
    "#Tn = np.arange(75,   300, 1.00)\n",
    "#PTn = np.array([Pn,Tn],dtype='object')\n",
    "#out = sf.seafreeze(PTn,'Ih')\n",
    "#out.S"
   ]
  },
  {
   "cell_type": "markdown",
   "id": "28d2f69d",
   "metadata": {},
   "source": [
    "# Storing information"
   ]
  },
  {
   "cell_type": "code",
   "execution_count": null,
   "id": "300d23dc",
   "metadata": {},
   "outputs": [],
   "source": [
    "S_data = S \n",
    "P_data = P\n",
    "T_data = T\n",
    "Rho_data = Den\n",
    "\n",
    "# Printing type of arr object\n",
    "S_type = 'Array is of type: ' + str(type(S))\n",
    "P_type = 'Array is of type: ' + str(type(P))\n",
    "T_type = 'Array is of type: ' + str(type(T))\n",
    "Rho_type = 'Array is of type: ' + str(type(Den))\n",
    "\n",
    "\n",
    "# Printing array dimensions (axes)\n",
    "S_ndim = 'No. of dimensions: ' + str(S.ndim)\n",
    "P_ndim = 'No. of dimensions: ' + str(P.ndim)\n",
    "T_ndim = 'No. of dimensions: ' + str(T.ndim)\n",
    "Rho_ndim = 'No. of dimensions: ' + str(Den.ndim)\n",
    "\n",
    "# Printing shape of array\n",
    "S_shape = 'Shape of array(row,col): ' + str(S.shape)\n",
    "P_shape = 'Shape of array(row,col): ' + str(P.shape)\n",
    "T_shape = 'Shape of array(row,col): ' + str(T.shape)\n",
    "Rho_shape = 'Shape of array(row,col): ' + str(Den.shape)\n",
    " \n",
    "# Printing size (total number of elements) of array\n",
    "S_size = 'Total number of elements: ' + str(S.size)\n",
    "P_size = 'Total number of elements: ' + str(P.size)\n",
    "T_size = 'Total number of elements: ' + str(T.size)\n",
    "Rho_size = 'Total number of elements: ' + str(Den.size)\n",
    " \n",
    "# Printing type of elements in array\n",
    "S_ntype = 'Array stores elements of type: ' + str(S.dtype)\n",
    "P_ntype = 'Array stores elements of type: ' + str(P.dtype)\n",
    "T_ntype = 'Array stores elements of type: ' + str(T.dtype)\n",
    "Rho_ntype = 'Array stores elements of type: ' + str(Den.dtype)"
   ]
  },
  {
   "cell_type": "markdown",
   "id": "92b20fa1",
   "metadata": {},
   "source": [
    "# Writing HDF5 file"
   ]
  },
  {
   "cell_type": "code",
   "execution_count": null,
   "id": "47b0db5d",
   "metadata": {},
   "outputs": [],
   "source": [
    "with h5py.File('SeaFreeze_table_with_density.hdf5', 'w') as f:\n",
    "    # Entropy Info....\n",
    "    dset1 = f.create_dataset(\"Entropy/Data\", data = S_data)\n",
    "    dset11 = f['/Entropy/TypeofObject'] = str(S_type)\n",
    "    dset12 = f['/Entropy/Dimensions'] = str(S_ndim)\n",
    "    dset13 = f['/Entropy/Shape'] = str(S_shape)\n",
    "    dset14 = f['/Entropy/Elements'] = str(S_size)\n",
    "    dset15 = f['/Entropy/TypeofElements'] = str(S_ntype)\n",
    "    \n",
    "    # Pressure info....\n",
    "    dest2 = f.create_dataset(\"Pressure/Data\", data = P_data)\n",
    "    dset21 = f['/Pressure/TypeofObject'] = str(P_type)\n",
    "    dset22 = f['/Pressure/Dimensions'] = str(P_ndim)\n",
    "    dset23 = f['/Pressure/Shape'] = str(P_shape)\n",
    "    dset24 = f['/Pressure/Elements'] = str(P_size)\n",
    "    dset25 = f['/Pressure/TypeofElements'] = str(P_ntype)\n",
    "    \n",
    "    # Temperature info....\n",
    "    dset3 = f.create_dataset(\"Temperature/Data\", data = T_data)\n",
    "    dset31 = f['/Temperature/TypeofObject'] = str(T_type)\n",
    "    dset32 = f['/Temperature/Dimensions'] = str(T_ndim)\n",
    "    dset33 = f['/Temperature/Shape'] = str(T_shape)\n",
    "    dset34 = f['/Temperature/Elements'] = str(T_size)\n",
    "    dset35 = f['/Temperature/TypeofElements'] = str(T_ntype)\n",
    "    \n",
    "    # Density info....\n",
    "    dset4 = f.create_dataset(\"Density/Data\", data = Rho_data)\n",
    "    dset41 = f['/Density/TypeofObject'] = str(Rho_type)\n",
    "    dset42 = f['/Density/Dimensions'] = str(Rho_ndim)\n",
    "    dset43 = f['/Density/Shape'] = str(Rho_shape)\n",
    "    dset44 = f['/Density/Elements'] = str(Rho_size)\n",
    "    dset45 = f['/Density/TypeofElements'] = str(Rho_ntype)"
   ]
  },
  {
   "cell_type": "markdown",
   "id": "027e1eb2",
   "metadata": {},
   "source": [
    "# Reading HDF5 File and Visualizating the Data"
   ]
  },
  {
   "cell_type": "code",
   "execution_count": null,
   "id": "da4a6bd6",
   "metadata": {},
   "outputs": [],
   "source": [
    "def print_name(name, obj):\n",
    "    if isinstance(obj, h5py.Dataset):\n",
    "        print('Dataset:', name)\n",
    "    elif isinstance(obj, h5py.Group):\n",
    "        print('Group:', name)\n",
    "\n",
    "with h5py.File('SeaFreeze_table_with_density.hdf5', 'r')  as f: # file will be closed when we exit from WITH scope\n",
    "    f.visititems(print_name) # print all strustures "
   ]
  },
  {
   "cell_type": "code",
   "execution_count": null,
   "id": "8f71ecc1",
   "metadata": {},
   "outputs": [],
   "source": [
    "# Saving values\n",
    "with h5py.File('SeaFreeze_table_with_density.hdf5', 'r')  as f:\n",
    "    n1 = np.array(f[\"Entropy/Data\"][:]) \n",
    "    n2 = np.array(f[\"Pressure/Data\"][:])\n",
    "    n3 = np.array(f[\"Temperature/Data\"][:])\n",
    "    n4 = np.array(f[\"Density/Data\"][:])\n",
    "    print('Entropy Data Information:','\\n',\n",
    "          dset11,'\\n',\n",
    "          dset12,'\\n',\n",
    "          dset13,'\\n',\n",
    "          dset14,'\\n',\n",
    "          dset15,'\\n')\n",
    "    print('Pressure Data Information:','\\n',\n",
    "          dset22,'\\n',\n",
    "          dset22,'\\n',\n",
    "          dset23,'\\n',\n",
    "          dset24,'\\n',\n",
    "          dset25,'\\n')\n",
    "    print('Temperature Data Information:','\\n',\n",
    "          dset31,'\\n',\n",
    "          dset32,'\\n',\n",
    "          dset33,'\\n',\n",
    "          dset34,'\\n',\n",
    "          dset35,'\\n')\n",
    "    print('Density Data Information:','\\n',\n",
    "          dset41,'\\n',\n",
    "          dset42,'\\n',\n",
    "          dset43,'\\n',\n",
    "          dset44,'\\n',\n",
    "          dset45)"
   ]
  },
  {
   "cell_type": "code",
   "execution_count": null,
   "id": "b9970370",
   "metadata": {},
   "outputs": [],
   "source": [
    "n1"
   ]
  },
  {
   "cell_type": "code",
   "execution_count": null,
   "id": "f052191b",
   "metadata": {},
   "outputs": [],
   "source": [
    "n2"
   ]
  },
  {
   "cell_type": "code",
   "execution_count": null,
   "id": "104acdc6",
   "metadata": {},
   "outputs": [],
   "source": [
    "n3"
   ]
  },
  {
   "cell_type": "code",
   "execution_count": null,
   "id": "eb1ad608",
   "metadata": {},
   "outputs": [],
   "source": [
    "n4"
   ]
  },
  {
   "cell_type": "code",
   "execution_count": null,
   "id": "09cdd142",
   "metadata": {},
   "outputs": [],
   "source": []
  }
 ],
 "metadata": {
  "kernelspec": {
   "display_name": "Python 3 (ipykernel)",
   "language": "python",
   "name": "python3"
  },
  "language_info": {
   "codemirror_mode": {
    "name": "ipython",
    "version": 3
   },
   "file_extension": ".py",
   "mimetype": "text/x-python",
   "name": "python",
   "nbconvert_exporter": "python",
   "pygments_lexer": "ipython3",
   "version": "3.10.12"
  }
 },
 "nbformat": 4,
 "nbformat_minor": 5
}
